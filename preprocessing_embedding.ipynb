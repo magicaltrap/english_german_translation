{
  "nbformat": 4,
  "nbformat_minor": 0,
  "metadata": {
    "kernelspec": {
      "name": "python3",
      "display_name": "Python 3"
    },
    "language_info": {
      "codemirror_mode": {
        "name": "ipython",
        "version": 3
      },
      "file_extension": ".py",
      "mimetype": "text/x-python",
      "name": "python",
      "nbconvert_exporter": "python",
      "pygments_lexer": "ipython3",
      "version": "3.7.1"
    },
    "colab": {
      "name": "preprocessing_embedding.ipynb",
      "version": "0.3.2",
      "provenance": [],
      "collapsed_sections": [],
      "toc_visible": true,
      "machine_shape": "hm",
      "include_colab_link": true
    },
    "accelerator": "GPU"
  },
  "cells": [
    {
      "cell_type": "markdown",
      "metadata": {
        "id": "view-in-github",
        "colab_type": "text"
      },
      "source": [
        "<a href=\"https://colab.research.google.com/github/magicaltrap/english_german_translation/blob/master/preprocessing_embedding.ipynb\" target=\"_parent\"><img src=\"https://colab.research.google.com/assets/colab-badge.svg\" alt=\"Open In Colab\"/></a>"
      ]
    },
    {
      "cell_type": "code",
      "metadata": {
        "id": "RQdli57wX7yw",
        "colab_type": "code",
        "outputId": "d372025c-e9da-41e6-faa3-acdc68d3ed39",
        "colab": {
          "base_uri": "https://localhost:8080/",
          "height": 54
        }
      },
      "source": [
        "!curl -s https://course.fast.ai/setup/colab | bash"
      ],
      "execution_count": 0,
      "outputs": [
        {
          "output_type": "stream",
          "text": [
            "Updating fastai...\n",
            "Done.\n"
          ],
          "name": "stdout"
        }
      ]
    },
    {
      "cell_type": "code",
      "metadata": {
        "id": "ogADNENl--sd",
        "colab_type": "code",
        "colab": {}
      },
      "source": [
        "!pip install fasttext"
      ],
      "execution_count": 0,
      "outputs": []
    },
    {
      "cell_type": "code",
      "metadata": {
        "id": "OWOC046N_B4J",
        "colab_type": "code",
        "colab": {}
      },
      "source": [
        "import fasttext as ft"
      ],
      "execution_count": 0,
      "outputs": []
    },
    {
      "cell_type": "code",
      "metadata": {
        "id": "v9U9owaXWcgT",
        "colab_type": "code",
        "colab": {}
      },
      "source": [
        "from fastai.text import *"
      ],
      "execution_count": 0,
      "outputs": []
    },
    {
      "cell_type": "code",
      "metadata": {
        "id": "k0hFVlow0Z-C",
        "colab_type": "code",
        "colab": {}
      },
      "source": [
        "from google.colab import drive\n",
        "drive.mount('/content/gdrive', force_remount=True)\n",
        "root_dir = \"/content/gdrive/My Drive/\"\n",
        "path_translation = \"/content/gdrive/My Drive/data/translation/\"\n",
        "path_translation_data = \"/content/gdrive/My Drive/data/translation/data/\""
      ],
      "execution_count": 0,
      "outputs": []
    },
    {
      "cell_type": "markdown",
      "metadata": {
        "id": "rhGosQHJWcgW",
        "colab_type": "text"
      },
      "source": [
        "# Preprocess our data"
      ]
    },
    {
      "cell_type": "markdown",
      "metadata": {
        "id": "hxAEYHSNJXCJ",
        "colab_type": "text"
      },
      "source": [
        "I donwloaded news-commentary-v9 and the other validation and test sets from the WMT2014 conference from this website (all preprocessed, no .sgm file like on the WMT homepage): https://google.github.io/seq2seq/data/"
      ]
    },
    {
      "cell_type": "markdown",
      "metadata": {
        "id": "3WTEbvF28bY1",
        "colab_type": "text"
      },
      "source": [
        "## Training set (news-commentary-v9)"
      ]
    },
    {
      "cell_type": "code",
      "metadata": {
        "id": "vXABSNhJ7mVj",
        "colab_type": "code",
        "colab": {}
      },
      "source": [
        "en_train_fname = path_translation_data + 'news-commentary-v9.de-en.en'\n",
        "de_train_fname = path_translation_data + 'news-commentary-v9.de-en.de'"
      ],
      "execution_count": 0,
      "outputs": []
    },
    {
      "cell_type": "code",
      "metadata": {
        "id": "hFjo6z0vvP9j",
        "colab_type": "code",
        "colab": {}
      },
      "source": [
        "with open(en_train_fname, encoding='utf-8') as en_file, open(de_train_fname, encoding='utf-8') as de_file:\n",
        "  en_list = []\n",
        "  for en in en_file:\n",
        "    if en:\n",
        "      en_list.append(en)\n",
        "    \n",
        "  de_list = []\n",
        "  for de in de_file:\n",
        "    if de:\n",
        "      de_list.append(de)  "
      ],
      "execution_count": 0,
      "outputs": []
    },
    {
      "cell_type": "code",
      "metadata": {
        "id": "hrwzyp9uv48h",
        "colab_type": "code",
        "outputId": "3e890119-51cf-44c7-cca8-08c7853989b4",
        "colab": {
          "base_uri": "https://localhost:8080/",
          "height": 35
        }
      },
      "source": [
        "len(en_list), len(de_list)"
      ],
      "execution_count": 0,
      "outputs": [
        {
          "output_type": "execute_result",
          "data": {
            "text/plain": [
              "(201995, 201854)"
            ]
          },
          "metadata": {
            "tags": []
          },
          "execution_count": 261
        }
      ]
    },
    {
      "cell_type": "markdown",
      "metadata": {
        "id": "FMChkb2_wiYI",
        "colab_type": "text"
      },
      "source": [
        "German and English `news-commentary-v9 files (WMT2014)` don't have the same length respectively... So let's donwload a newer version of the news-commentary corpus."
      ]
    },
    {
      "cell_type": "markdown",
      "metadata": {
        "id": "7VYD1MIcBLPW",
        "colab_type": "text"
      },
      "source": [
        "## Training set (news-commentary-v14)"
      ]
    },
    {
      "cell_type": "markdown",
      "metadata": {
        "id": "ujS0Aaax9sHM",
        "colab_type": "text"
      },
      "source": [
        "Download this dataset from the WMT2019 website: http://www.statmt.org/wmt19/translation-task.html"
      ]
    },
    {
      "cell_type": "code",
      "metadata": {
        "id": "VSQgIlbpBKxW",
        "colab_type": "code",
        "colab": {}
      },
      "source": [
        "v14_train_fname = path_translation_data + 'news-commentary-v14.de-en.tsv'"
      ],
      "execution_count": 0,
      "outputs": []
    },
    {
      "cell_type": "markdown",
      "metadata": {
        "id": "RMypErrfnd5d",
        "colab_type": "text"
      },
      "source": [
        "`news-commentary-v14` is a bit differently structured, German and English language pairs are separated by a \"\\t\" (instead of two separate files like `news-commentary-v9`)"
      ]
    },
    {
      "cell_type": "code",
      "metadata": {
        "id": "1qgY0i7tBmWn",
        "colab_type": "code",
        "colab": {}
      },
      "source": [
        "with open(v14_train_fname, encoding='utf-8') as v14_file:\n",
        "  v14_lines = []\n",
        "  for sent in v14_file:\n",
        "    if \"\\t\" in sent:\n",
        "      try:\n",
        "        de, en = sent.rstrip(\"\\n\").split(\"\\t\")\n",
        "      except ValueError: #if for some reasons (false formatting etc.) there are more than one \"\\t\" (tab) in one line so we can't separate German and English sentences cleanly\n",
        "        pass\n",
        "      \n",
        "        #count_tab = sent.count(\"\\t\")\n",
        "        #print(count_tab)\n",
        "        #print(sent)\n",
        "      \n",
        "      v14_lines.append((en, de))"
      ],
      "execution_count": 0,
      "outputs": []
    },
    {
      "cell_type": "code",
      "metadata": {
        "id": "1oVKC6kfCxcD",
        "colab_type": "code",
        "outputId": "4281d327-67ba-46d4-d051-1f3a836efd7d",
        "colab": {
          "base_uri": "https://localhost:8080/",
          "height": 35
        }
      },
      "source": [
        "len(v14_lines)"
      ],
      "execution_count": 0,
      "outputs": [
        {
          "output_type": "execute_result",
          "data": {
            "text/plain": [
              "338285"
            ]
          },
          "metadata": {
            "tags": []
          },
          "execution_count": 264
        }
      ]
    },
    {
      "cell_type": "code",
      "metadata": {
        "id": "a-KQfTDlZ0eo",
        "colab_type": "code",
        "outputId": "e8df3535-41ec-484c-a6a1-957df3e650a6",
        "colab": {
          "base_uri": "https://localhost:8080/",
          "height": 183
        }
      },
      "source": [
        "v14_lines[:5]"
      ],
      "execution_count": 0,
      "outputs": [
        {
          "output_type": "execute_result",
          "data": {
            "text/plain": [
              "[('$10,000 Gold?', 'Steigt Gold auf 10.000 Dollar?'),\n",
              " ('SAN FRANCISCO – It has never been easy to have a rational conversation about the value of gold.',\n",
              "  'SAN FRANCISCO – Es war noch nie leicht, ein rationales Gespräch über den Wert von Gold zu führen.'),\n",
              " ('Lately, with gold prices up more than 300% over the last decade, it is harder than ever.',\n",
              "  'In letzter Zeit allerdings ist dies schwieriger denn je, ist doch der Goldpreis im letzten Jahrzehnt um über 300 Prozent angestiegen.'),\n",
              " ('Just last December, fellow economists Martin Feldstein and Nouriel Roubini each penned op-eds bravely questioning bullish market sentiment, sensibly pointing out gold’s risks.',\n",
              "  'Erst letzten Dezember verfassten meine Kollegen Martin Feldstein und Nouriel Roubini Kommentare, in denen sie mutig die vorherrschende optimistische Marktstimmung hinterfragten und sehr überlegt auf die Risiken des Goldes \\xa0hinwiesen.'),\n",
              " ('Wouldn’t you know it?', 'Und es kam, wie es kommen musste.')]"
            ]
          },
          "metadata": {
            "tags": []
          },
          "execution_count": 265
        }
      ]
    },
    {
      "cell_type": "markdown",
      "metadata": {
        "id": "RlkcEcA96E_Z",
        "colab_type": "text"
      },
      "source": [
        "Save it in a dataframe:"
      ]
    },
    {
      "cell_type": "code",
      "metadata": {
        "id": "03HxNW8kZu7D",
        "colab_type": "code",
        "colab": {}
      },
      "source": [
        "v14_df_train = pd.DataFrame({'en': [sent[0] for sent in v14_lines], 'de': [sent[1] for sent in v14_lines]}, columns = ['en', 'de'])"
      ],
      "execution_count": 0,
      "outputs": []
    },
    {
      "cell_type": "markdown",
      "metadata": {
        "id": "e8US0H6rbfvP",
        "colab_type": "text"
      },
      "source": [
        "Check if there are empty rows(lines)"
      ]
    },
    {
      "cell_type": "code",
      "metadata": {
        "id": "jVvZBcioazuL",
        "colab_type": "code",
        "outputId": "0f967919-fb7f-4b59-d917-57cf0fae966d",
        "colab": {
          "base_uri": "https://localhost:8080/",
          "height": 72
        }
      },
      "source": [
        "v14_df_train.isnull().any()"
      ],
      "execution_count": 0,
      "outputs": [
        {
          "output_type": "execute_result",
          "data": {
            "text/plain": [
              "en    False\n",
              "de    False\n",
              "dtype: bool"
            ]
          },
          "metadata": {
            "tags": []
          },
          "execution_count": 267
        }
      ]
    },
    {
      "cell_type": "code",
      "metadata": {
        "id": "rFPVKjKmb836",
        "colab_type": "code",
        "outputId": "d3d0d025-607b-4b7c-b429-8bc134fa8418",
        "colab": {
          "base_uri": "https://localhost:8080/",
          "height": 486
        }
      },
      "source": [
        "v14_df_train.iloc[:10]"
      ],
      "execution_count": 0,
      "outputs": [
        {
          "output_type": "execute_result",
          "data": {
            "text/html": [
              "<div>\n",
              "<style scoped>\n",
              "    .dataframe tbody tr th:only-of-type {\n",
              "        vertical-align: middle;\n",
              "    }\n",
              "\n",
              "    .dataframe tbody tr th {\n",
              "        vertical-align: top;\n",
              "    }\n",
              "\n",
              "    .dataframe thead th {\n",
              "        text-align: right;\n",
              "    }\n",
              "</style>\n",
              "<table border=\"1\" class=\"dataframe\">\n",
              "  <thead>\n",
              "    <tr style=\"text-align: right;\">\n",
              "      <th></th>\n",
              "      <th>en</th>\n",
              "      <th>de</th>\n",
              "    </tr>\n",
              "  </thead>\n",
              "  <tbody>\n",
              "    <tr>\n",
              "      <th>0</th>\n",
              "      <td>$10,000 Gold?</td>\n",
              "      <td>Steigt Gold auf 10.000 Dollar?</td>\n",
              "    </tr>\n",
              "    <tr>\n",
              "      <th>1</th>\n",
              "      <td>SAN FRANCISCO – It has never been easy to have a rational conversation about the value of gold.</td>\n",
              "      <td>SAN FRANCISCO – Es war noch nie leicht, ein rationales Gespräch über den Wert von Gold zu führen.</td>\n",
              "    </tr>\n",
              "    <tr>\n",
              "      <th>2</th>\n",
              "      <td>Lately, with gold prices up more than 300% over the last decade, it is harder than ever.</td>\n",
              "      <td>In letzter Zeit allerdings ist dies schwieriger denn je, ist doch der Goldpreis im letzten Jahrzehnt um über 300 Prozent angestiegen.</td>\n",
              "    </tr>\n",
              "    <tr>\n",
              "      <th>3</th>\n",
              "      <td>Just last December, fellow economists Martin Feldstein and Nouriel Roubini each penned op-eds bravely questioning bullish market sentiment, sensibly pointing out gold’s risks.</td>\n",
              "      <td>Erst letzten Dezember verfassten meine Kollegen Martin Feldstein und Nouriel Roubini Kommentare, in denen sie mutig die vorherrschende optimistische Marktstimmung hinterfragten und sehr überlegt auf die Risiken des Goldes  hinwiesen.</td>\n",
              "    </tr>\n",
              "    <tr>\n",
              "      <th>4</th>\n",
              "      <td>Wouldn’t you know it?</td>\n",
              "      <td>Und es kam, wie es kommen musste.</td>\n",
              "    </tr>\n",
              "    <tr>\n",
              "      <th>5</th>\n",
              "      <td>Since their articles appeared, the price of gold has moved up still further.</td>\n",
              "      <td>Seit der Veröffentlichung ihrer Artikel ist der Goldpreis noch weiter gestiegen.</td>\n",
              "    </tr>\n",
              "    <tr>\n",
              "      <th>6</th>\n",
              "      <td>Gold prices even hit a record-high $1,300 recently.</td>\n",
              "      <td>Jüngst erreichte er sogar ein Rekordhoch von 1.300 Dollar.</td>\n",
              "    </tr>\n",
              "    <tr>\n",
              "      <th>7</th>\n",
              "      <td>Last December, many gold bugs were arguing that the price was inevitably headed for $2,000.</td>\n",
              "      <td>Im letzten Dezember argumentierten die Goldbugs, dass der Preis zweifellos in Richtung 2.000 Dollar gehen würde.</td>\n",
              "    </tr>\n",
              "    <tr>\n",
              "      <th>8</th>\n",
              "      <td>Now, emboldened by continuing appreciation, some are suggesting that gold could be headed even higher than that.</td>\n",
              "      <td>Beflügelt aufgrund des anhaltenden Aufwärtstrends, meint man nun mancherorts, dass Gold sogar noch höher steigen könnte.</td>\n",
              "    </tr>\n",
              "    <tr>\n",
              "      <th>9</th>\n",
              "      <td>One successful gold investor recently explained to me that stock prices languished for a more than a decade before the Dow Jones index crossed the 1,000 mark in the early 1980’s.</td>\n",
              "      <td>Ein erfolgreicher Gold-Investor erklärte mir vor kurzem, dass die Aktienkurse über ein Jahrzehnt dahingedümpelt waren, bevor der Dow Jones-Index in den frühen 1980er Jahren die Marke von 1.000 Punkten überschritt.</td>\n",
              "    </tr>\n",
              "  </tbody>\n",
              "</table>\n",
              "</div>"
            ],
            "text/plain": [
              "                                                                                                                                                                                   en                                                                                                                                                                                                                                         de\n",
              "0                                                                                                                                                                       $10,000 Gold?                                                                                                                                                                                                             Steigt Gold auf 10.000 Dollar?\n",
              "1                                                                                     SAN FRANCISCO – It has never been easy to have a rational conversation about the value of gold.                                                                                                                                          SAN FRANCISCO – Es war noch nie leicht, ein rationales Gespräch über den Wert von Gold zu führen.\n",
              "2                                                                                            Lately, with gold prices up more than 300% over the last decade, it is harder than ever.                                                                                                      In letzter Zeit allerdings ist dies schwieriger denn je, ist doch der Goldpreis im letzten Jahrzehnt um über 300 Prozent angestiegen.\n",
              "3     Just last December, fellow economists Martin Feldstein and Nouriel Roubini each penned op-eds bravely questioning bullish market sentiment, sensibly pointing out gold’s risks.  Erst letzten Dezember verfassten meine Kollegen Martin Feldstein und Nouriel Roubini Kommentare, in denen sie mutig die vorherrschende optimistische Marktstimmung hinterfragten und sehr überlegt auf die Risiken des Goldes  hinwiesen.\n",
              "4                                                                                                                                                               Wouldn’t you know it?                                                                                                                                                                                                          Und es kam, wie es kommen musste.\n",
              "5                                                                                                        Since their articles appeared, the price of gold has moved up still further.                                                                                                                                                           Seit der Veröffentlichung ihrer Artikel ist der Goldpreis noch weiter gestiegen.\n",
              "6                                                                                                                                 Gold prices even hit a record-high $1,300 recently.                                                                                                                                                                                 Jüngst erreichte er sogar ein Rekordhoch von 1.300 Dollar.\n",
              "7                                                                                         Last December, many gold bugs were arguing that the price was inevitably headed for $2,000.                                                                                                                           Im letzten Dezember argumentierten die Goldbugs, dass der Preis zweifellos in Richtung 2.000 Dollar gehen würde.\n",
              "8                                                                    Now, emboldened by continuing appreciation, some are suggesting that gold could be headed even higher than that.                                                                                                                   Beflügelt aufgrund des anhaltenden Aufwärtstrends, meint man nun mancherorts, dass Gold sogar noch höher steigen könnte.\n",
              "9  One successful gold investor recently explained to me that stock prices languished for a more than a decade before the Dow Jones index crossed the 1,000 mark in the early 1980’s.                      Ein erfolgreicher Gold-Investor erklärte mir vor kurzem, dass die Aktienkurse über ein Jahrzehnt dahingedümpelt waren, bevor der Dow Jones-Index in den frühen 1980er Jahren die Marke von 1.000 Punkten überschritt."
            ]
          },
          "metadata": {
            "tags": []
          },
          "execution_count": 268
        }
      ]
    },
    {
      "cell_type": "code",
      "metadata": {
        "id": "10-1YdWsb8pF",
        "colab_type": "code",
        "outputId": "4724c2b6-0528-4291-8f46-73a71c262495",
        "colab": {
          "base_uri": "https://localhost:8080/",
          "height": 486
        }
      },
      "source": [
        "v14_df_train.iloc[-10:]"
      ],
      "execution_count": 0,
      "outputs": [
        {
          "output_type": "execute_result",
          "data": {
            "text/html": [
              "<div>\n",
              "<style scoped>\n",
              "    .dataframe tbody tr th:only-of-type {\n",
              "        vertical-align: middle;\n",
              "    }\n",
              "\n",
              "    .dataframe tbody tr th {\n",
              "        vertical-align: top;\n",
              "    }\n",
              "\n",
              "    .dataframe thead th {\n",
              "        text-align: right;\n",
              "    }\n",
              "</style>\n",
              "<table border=\"1\" class=\"dataframe\">\n",
              "  <thead>\n",
              "    <tr style=\"text-align: right;\">\n",
              "      <th></th>\n",
              "      <th>en</th>\n",
              "      <th>de</th>\n",
              "    </tr>\n",
              "  </thead>\n",
              "  <tbody>\n",
              "    <tr>\n",
              "      <th>338275</th>\n",
              "      <td>Zuma senses the urgency of the situation.</td>\n",
              "      <td>Zuma weiß um die Dringlichkeit der Situation.</td>\n",
              "    </tr>\n",
              "    <tr>\n",
              "      <th>338276</th>\n",
              "      <td>He is, after all, 67 years old and likely to serve only a single term in office. “We can’t waste time,” he says.</td>\n",
              "      <td>Immerhin ist er 67 Jahre alt und wird wahrscheinlich nur eine Amtszeit dienen. „Wir können uns keine Zeitverschwendung leisten“, sagt er.</td>\n",
              "    </tr>\n",
              "    <tr>\n",
              "      <th>338277</th>\n",
              "      <td>Yet, according to the political economist Moeletsi Mbeki, at his core, “Zuma is a conservative.” In this sense, Zuma represents yesterday’s South Africa.</td>\n",
              "      <td>Dem politischen Ökonomen Moeletsi Mbeki zufolge, ist Zuma im Grunde seines Herzens „ein Konservativer“.  In diesem Sinne vertritt Zuma das Südafrika von gestern.</td>\n",
              "    </tr>\n",
              "    <tr>\n",
              "      <th>338278</th>\n",
              "      <td>He is part of the proud generation that defeated apartheid – and then peacefully engineered a transition to durable black-majority rule.</td>\n",
              "      <td>Er ist Mitglied einer stolzen Generation, die die Apartheid bezwang – und der anschließend ein friedlicher Übergang zu einer schwarzen Mehrheitsregierung gelang.</td>\n",
              "    </tr>\n",
              "    <tr>\n",
              "      <th>338279</th>\n",
              "      <td>Their achievement remains one of the greatest in recent history.</td>\n",
              "      <td>Das bleibt eine der größten Errungenschaften in der jüngeren Geschichte.</td>\n",
              "    </tr>\n",
              "    <tr>\n",
              "      <th>338280</th>\n",
              "      <td>At the same time, Zuma’s revolutionary generation still seems uneasy leading South Africa in a post-apartheid era that is now 15 years old.</td>\n",
              "      <td>Gleichzeitig scheint sich Zumas revolutionäre Generation mit der Führung Südafrikas in der nun seit 15 Jahren dauernden Ära nach der Apartheid noch immer unwohl zu fühlen.</td>\n",
              "    </tr>\n",
              "    <tr>\n",
              "      <th>338281</th>\n",
              "      <td>In a region that reveres the elderly, Zuma’s attachment to his rural traditions must be matched by an equal openness to the appetites of the country’s youth.</td>\n",
              "      <td>In einer Region, wo die älteren Menschen sehr verehrt werden, muss Zumas Bindung an landestypische Traditionen eine gleichwertige Offenheit gegenüber den Bedürfnissen der Jugend des Landes gegenüberstehen.</td>\n",
              "    </tr>\n",
              "    <tr>\n",
              "      <th>338282</th>\n",
              "      <td>Three in ten South Africans are younger than 15, meaning that they did not live a day under apartheid.</td>\n",
              "      <td>Drei von zehn Südafrikanern sind jünger als 15 und das bedeutet, dass sie nicht einen Tag unter der Apartheid gelebt haben.</td>\n",
              "    </tr>\n",
              "    <tr>\n",
              "      <th>338283</th>\n",
              "      <td>Somehow Zuma must find a way to honor his own generation’s commitment to racial justice and national liberation, while empowering the masses who daily suffer the sting of class differences and yearn for material gain.</td>\n",
              "      <td>Irgendwie muss Zuma einen Weg finden, einerseits das Engagement seiner Generation hinsichtlich ethnischer Gerechtigkeit und nationaler Befreiung zu würdigen und andererseits den Massen, die täglich unter Klassenunterschieden leiden und sich nach materiellen Verbesserungen sehnen, mehr Mitwirkung...</td>\n",
              "    </tr>\n",
              "    <tr>\n",
              "      <th>338284</th>\n",
              "      <td></td>\n",
              "      <td></td>\n",
              "    </tr>\n",
              "  </tbody>\n",
              "</table>\n",
              "</div>"
            ],
            "text/plain": [
              "                                                                                                                                                                                                                               en                                                                                                                                                                                                                                                                                                           de\n",
              "338275                                                                                                                                                                                  Zuma senses the urgency of the situation.                                                                                                                                                                                                                                                                Zuma weiß um die Dringlichkeit der Situation.\n",
              "338276                                                                                                           He is, after all, 67 years old and likely to serve only a single term in office. “We can’t waste time,” he says.                                                                                                                                                                    Immerhin ist er 67 Jahre alt und wird wahrscheinlich nur eine Amtszeit dienen. „Wir können uns keine Zeitverschwendung leisten“, sagt er.\n",
              "338277                                                                  Yet, according to the political economist Moeletsi Mbeki, at his core, “Zuma is a conservative.” In this sense, Zuma represents yesterday’s South Africa.                                                                                                                                            Dem politischen Ökonomen Moeletsi Mbeki zufolge, ist Zuma im Grunde seines Herzens „ein Konservativer“.  In diesem Sinne vertritt Zuma das Südafrika von gestern.\n",
              "338278                                                                                   He is part of the proud generation that defeated apartheid – and then peacefully engineered a transition to durable black-majority rule.                                                                                                                                            Er ist Mitglied einer stolzen Generation, die die Apartheid bezwang – und der anschließend ein friedlicher Übergang zu einer schwarzen Mehrheitsregierung gelang.\n",
              "338279                                                                                                                                                           Their achievement remains one of the greatest in recent history.                                                                                                                                                                                                                                     Das bleibt eine der größten Errungenschaften in der jüngeren Geschichte.\n",
              "338280                                                                                At the same time, Zuma’s revolutionary generation still seems uneasy leading South Africa in a post-apartheid era that is now 15 years old.                                                                                                                                  Gleichzeitig scheint sich Zumas revolutionäre Generation mit der Führung Südafrikas in der nun seit 15 Jahren dauernden Ära nach der Apartheid noch immer unwohl zu fühlen.\n",
              "338281                                                              In a region that reveres the elderly, Zuma’s attachment to his rural traditions must be matched by an equal openness to the appetites of the country’s youth.                                                                                                In einer Region, wo die älteren Menschen sehr verehrt werden, muss Zumas Bindung an landestypische Traditionen eine gleichwertige Offenheit gegenüber den Bedürfnissen der Jugend des Landes gegenüberstehen.\n",
              "338282                                                                                                                     Three in ten South Africans are younger than 15, meaning that they did not live a day under apartheid.                                                                                                                                                                                  Drei von zehn Südafrikanern sind jünger als 15 und das bedeutet, dass sie nicht einen Tag unter der Apartheid gelebt haben.\n",
              "338283  Somehow Zuma must find a way to honor his own generation’s commitment to racial justice and national liberation, while empowering the masses who daily suffer the sting of class differences and yearn for material gain.  Irgendwie muss Zuma einen Weg finden, einerseits das Engagement seiner Generation hinsichtlich ethnischer Gerechtigkeit und nationaler Befreiung zu würdigen und andererseits den Massen, die täglich unter Klassenunterschieden leiden und sich nach materiellen Verbesserungen sehnen, mehr Mitwirkung...\n",
              "338284                                                                                                                                                                                                                                                                                                                                                                                                                                                                                                                                        "
            ]
          },
          "metadata": {
            "tags": []
          },
          "execution_count": 269
        }
      ]
    },
    {
      "cell_type": "code",
      "metadata": {
        "id": "2JicZ4UkcfVR",
        "colab_type": "code",
        "colab": {}
      },
      "source": [
        "v14_df_train = v14_df_train.drop([338284]) #drop empty row"
      ],
      "execution_count": 0,
      "outputs": []
    },
    {
      "cell_type": "markdown",
      "metadata": {
        "id": "JsTplaJBv8mF",
        "colab_type": "text"
      },
      "source": [
        "Save dataframe as csv file:"
      ]
    },
    {
      "cell_type": "code",
      "metadata": {
        "id": "TTLMcBYlazaN",
        "colab_type": "code",
        "colab": {}
      },
      "source": [
        "v14_df_train.to_csv(path_translation_data + 'news-commentary-v14.en-de.csv', index=False)"
      ],
      "execution_count": 0,
      "outputs": []
    },
    {
      "cell_type": "code",
      "metadata": {
        "id": "CzsoO2qIeyQc",
        "colab_type": "code",
        "colab": {}
      },
      "source": [
        "v14_df_train_load = pd.read_csv(path_translation_data + 'news-commentary-v14.en-de.csv')"
      ],
      "execution_count": 0,
      "outputs": []
    },
    {
      "cell_type": "markdown",
      "metadata": {
        "id": "lWzoGJYa6Xsx",
        "colab_type": "text"
      },
      "source": [
        "Dataframe before we saved into a csv file:"
      ]
    },
    {
      "cell_type": "code",
      "metadata": {
        "id": "KKLB6nNmfvUT",
        "colab_type": "code",
        "outputId": "b0f55c26-e524-4785-e4d5-a8a9146d9e06",
        "colab": {
          "base_uri": "https://localhost:8080/",
          "height": 72
        }
      },
      "source": [
        "v14_df_train.isnull().any() #old dataframe"
      ],
      "execution_count": 0,
      "outputs": [
        {
          "output_type": "execute_result",
          "data": {
            "text/plain": [
              "en    False\n",
              "de    False\n",
              "dtype: bool"
            ]
          },
          "metadata": {
            "tags": []
          },
          "execution_count": 274
        }
      ]
    },
    {
      "cell_type": "code",
      "metadata": {
        "id": "-_8-PjkThDDi",
        "colab_type": "code",
        "outputId": "6ea7c7ea-5996-4054-ee28-ffe5b643b344",
        "colab": {
          "base_uri": "https://localhost:8080/",
          "height": 72
        }
      },
      "source": [
        "v14_df_train.isnull().sum()"
      ],
      "execution_count": 0,
      "outputs": [
        {
          "output_type": "execute_result",
          "data": {
            "text/plain": [
              "en    0\n",
              "de    0\n",
              "dtype: int64"
            ]
          },
          "metadata": {
            "tags": []
          },
          "execution_count": 275
        }
      ]
    },
    {
      "cell_type": "markdown",
      "metadata": {
        "id": "7oczOZQi6g8Q",
        "colab_type": "text"
      },
      "source": [
        "New dataframe that was loaded from the saved csv file: Now 8799 English and 9780 German empty (isnull()) rows are detected which weren't detected before:"
      ]
    },
    {
      "cell_type": "code",
      "metadata": {
        "id": "KrjbopEMhU8W",
        "colab_type": "code",
        "outputId": "bead6e1c-7432-426e-f695-3ef776364b4c",
        "colab": {
          "base_uri": "https://localhost:8080/",
          "height": 72
        }
      },
      "source": [
        "v14_df_train_load.isnull().any() #new (loaded) dataframe"
      ],
      "execution_count": 0,
      "outputs": [
        {
          "output_type": "execute_result",
          "data": {
            "text/plain": [
              "en    True\n",
              "de    True\n",
              "dtype: bool"
            ]
          },
          "metadata": {
            "tags": []
          },
          "execution_count": 276
        }
      ]
    },
    {
      "cell_type": "code",
      "metadata": {
        "id": "T-11HIoJhbtP",
        "colab_type": "code",
        "outputId": "9cde614c-e1b6-485b-88b9-1d3c7a2cc159",
        "colab": {
          "base_uri": "https://localhost:8080/",
          "height": 72
        }
      },
      "source": [
        "v14_df_train_load.isnull().sum()"
      ],
      "execution_count": 0,
      "outputs": [
        {
          "output_type": "execute_result",
          "data": {
            "text/plain": [
              "en    8799\n",
              "de    8780\n",
              "dtype: int64"
            ]
          },
          "metadata": {
            "tags": []
          },
          "execution_count": 277
        }
      ]
    },
    {
      "cell_type": "markdown",
      "metadata": {
        "id": "j6c9IBThh8cq",
        "colab_type": "text"
      },
      "source": [
        "### Remove empty rows from news-commentary-v14"
      ]
    },
    {
      "cell_type": "code",
      "metadata": {
        "id": "ODaAUYcsgoK6",
        "colab_type": "code",
        "colab": {}
      },
      "source": [
        "null_rows = v14_df_train_load[v14_df_train_load[\"en\"].isnull()]"
      ],
      "execution_count": 0,
      "outputs": []
    },
    {
      "cell_type": "code",
      "metadata": {
        "id": "iE3CpCDygyNw",
        "colab_type": "code",
        "outputId": "b87df149-6ecd-45d5-c616-53981ca5264d",
        "colab": {
          "base_uri": "https://localhost:8080/",
          "height": 35
        }
      },
      "source": [
        "null_en_rows_indices = null_rows.index.values\n",
        "null_rows_indices"
      ],
      "execution_count": 0,
      "outputs": [
        {
          "output_type": "execute_result",
          "data": {
            "text/plain": [
              "array([    46,     77,    117,    127, ..., 338155, 338183, 338214, 338252])"
            ]
          },
          "metadata": {
            "tags": []
          },
          "execution_count": 279
        }
      ]
    },
    {
      "cell_type": "markdown",
      "metadata": {
        "id": "lI1t3yOWoskC",
        "colab_type": "text"
      },
      "source": [
        "In the old dataframe, the empty rows were not recognized:"
      ]
    },
    {
      "cell_type": "code",
      "metadata": {
        "id": "7ZcQ3ZMZhpVL",
        "colab_type": "code",
        "outputId": "11406d70-fa0c-4edd-af42-3b2fb9014c38",
        "colab": {
          "base_uri": "https://localhost:8080/",
          "height": 72
        }
      },
      "source": [
        "v14_df_train.iloc[46]"
      ],
      "execution_count": 0,
      "outputs": [
        {
          "output_type": "execute_result",
          "data": {
            "text/plain": [
              "en    \n",
              "de    \n",
              "Name: 46, dtype: object"
            ]
          },
          "metadata": {
            "tags": []
          },
          "execution_count": 248
        }
      ]
    },
    {
      "cell_type": "markdown",
      "metadata": {
        "id": "aROWDnHppTBn",
        "colab_type": "text"
      },
      "source": [
        "In contrast to the new dataframe:"
      ]
    },
    {
      "cell_type": "code",
      "metadata": {
        "id": "h_J4RdB6hjp0",
        "colab_type": "code",
        "outputId": "13263651-d690-4840-d9fa-713eabf04782",
        "colab": {
          "base_uri": "https://localhost:8080/",
          "height": 72
        }
      },
      "source": [
        "v14_df_train_load.iloc[46]"
      ],
      "execution_count": 0,
      "outputs": [
        {
          "output_type": "execute_result",
          "data": {
            "text/plain": [
              "en    NaN\n",
              "de    NaN\n",
              "Name: 46, dtype: object"
            ]
          },
          "metadata": {
            "tags": []
          },
          "execution_count": 280
        }
      ]
    },
    {
      "cell_type": "markdown",
      "metadata": {
        "id": "5F9Phy6AjPdu",
        "colab_type": "text"
      },
      "source": [
        "remove empty lines:"
      ]
    },
    {
      "cell_type": "code",
      "metadata": {
        "id": "vyeSh-kFjTeP",
        "colab_type": "code",
        "colab": {}
      },
      "source": [
        "null_en_rows = v14_df_train_load[v14_df_train_load[\"en\"].isnull()].index.values\n",
        "null_de_rows = v14_df_train_load[v14_df_train_load[\"de\"].isnull()].index.values"
      ],
      "execution_count": 0,
      "outputs": []
    },
    {
      "cell_type": "code",
      "metadata": {
        "id": "9nkXRqkAjoK7",
        "colab_type": "code",
        "outputId": "86609084-1194-409a-981f-1c3742f4ef4a",
        "colab": {
          "base_uri": "https://localhost:8080/",
          "height": 35
        }
      },
      "source": [
        "v14_null_rows = np.unique(np.concatenate([null_en_rows, null_de_rows]))\n",
        "v14_null_rows"
      ],
      "execution_count": 0,
      "outputs": [
        {
          "output_type": "execute_result",
          "data": {
            "text/plain": [
              "array([    46,     77,    117,    127, ..., 338155, 338183, 338214, 338252])"
            ]
          },
          "metadata": {
            "tags": []
          },
          "execution_count": 282
        }
      ]
    },
    {
      "cell_type": "code",
      "metadata": {
        "id": "9ObjTTeSj5zX",
        "colab_type": "code",
        "colab": {}
      },
      "source": [
        "v14_df_train_final = v14_df_train_load.drop(list(v14_null_rows))"
      ],
      "execution_count": 0,
      "outputs": []
    },
    {
      "cell_type": "markdown",
      "metadata": {
        "id": "XFDnT2zE7gY9",
        "colab_type": "text"
      },
      "source": [
        "No empty rows anymore:"
      ]
    },
    {
      "cell_type": "code",
      "metadata": {
        "id": "k51ruMKzk6Yf",
        "colab_type": "code",
        "outputId": "f7913c2e-c880-4895-cb7f-5864b1c3c592",
        "colab": {
          "base_uri": "https://localhost:8080/",
          "height": 72
        }
      },
      "source": [
        "v14_df_train_final.isnull().any()"
      ],
      "execution_count": 0,
      "outputs": [
        {
          "output_type": "execute_result",
          "data": {
            "text/plain": [
              "en    False\n",
              "de    False\n",
              "dtype: bool"
            ]
          },
          "metadata": {
            "tags": []
          },
          "execution_count": 284
        }
      ]
    },
    {
      "cell_type": "code",
      "metadata": {
        "id": "IHVslGjMk-1m",
        "colab_type": "code",
        "colab": {}
      },
      "source": [
        "v14_df_train_final.to_csv(path_translation_data + 'news-commentary-v14.en-de.csv', index=False)"
      ],
      "execution_count": 0,
      "outputs": []
    },
    {
      "cell_type": "code",
      "metadata": {
        "id": "uxK2SLKtlYvs",
        "colab_type": "code",
        "colab": {}
      },
      "source": [
        "v14_df_train_final = pd.read_csv(path_translation_data + 'news-commentary-v14.en-de.csv')"
      ],
      "execution_count": 0,
      "outputs": []
    },
    {
      "cell_type": "markdown",
      "metadata": {
        "id": "pDjlwTglJuhV",
        "colab_type": "text"
      },
      "source": [
        "### Smaller subset"
      ]
    },
    {
      "cell_type": "markdown",
      "metadata": {
        "id": "5tXndXst7qWl",
        "colab_type": "text"
      },
      "source": [
        "Let's create a smaller subset (from 329127 languages pairs to 50000) just in case (faster training, testing etc.)"
      ]
    },
    {
      "cell_type": "code",
      "metadata": {
        "id": "7UGTtFMuHuIT",
        "colab_type": "code",
        "outputId": "e8af5de9-fa43-4c05-e671-ac181cfba629",
        "colab": {
          "base_uri": "https://localhost:8080/",
          "height": 35
        }
      },
      "source": [
        "len(v14_df_train_final)"
      ],
      "execution_count": 0,
      "outputs": [
        {
          "output_type": "execute_result",
          "data": {
            "text/plain": [
              "329167"
            ]
          },
          "metadata": {
            "tags": []
          },
          "execution_count": 28
        }
      ]
    },
    {
      "cell_type": "code",
      "metadata": {
        "id": "lYrpHUM4HuBm",
        "colab_type": "code",
        "outputId": "79580534-45d6-4cb3-e24a-09d443a67e13",
        "colab": {
          "base_uri": "https://localhost:8080/",
          "height": 35
        }
      },
      "source": [
        "new_v14 = v14_df_train_final.copy()\n",
        "v14_50k = new_v14.sample(50000).reset_index(drop=True)\n",
        "len(v14_50k)"
      ],
      "execution_count": 0,
      "outputs": [
        {
          "output_type": "execute_result",
          "data": {
            "text/plain": [
              "50000"
            ]
          },
          "metadata": {
            "tags": []
          },
          "execution_count": 29
        }
      ]
    },
    {
      "cell_type": "code",
      "metadata": {
        "id": "LLWGZManM7R0",
        "colab_type": "code",
        "outputId": "70bed086-6c80-4506-c621-aeb49729ec95",
        "colab": {
          "base_uri": "https://localhost:8080/",
          "height": 72
        }
      },
      "source": [
        "v14_50k.isnull().any()"
      ],
      "execution_count": 0,
      "outputs": [
        {
          "output_type": "execute_result",
          "data": {
            "text/plain": [
              "en    False\n",
              "de    False\n",
              "dtype: bool"
            ]
          },
          "metadata": {
            "tags": []
          },
          "execution_count": 30
        }
      ]
    },
    {
      "cell_type": "code",
      "metadata": {
        "id": "92WWaqd5NSDH",
        "colab_type": "code",
        "outputId": "7218123c-1d01-4422-b6a9-4ee23eb8cb96",
        "colab": {
          "base_uri": "https://localhost:8080/",
          "height": 285
        }
      },
      "source": [
        "v14_50k.head()"
      ],
      "execution_count": 0,
      "outputs": [
        {
          "output_type": "execute_result",
          "data": {
            "text/html": [
              "<div>\n",
              "<style scoped>\n",
              "    .dataframe tbody tr th:only-of-type {\n",
              "        vertical-align: middle;\n",
              "    }\n",
              "\n",
              "    .dataframe tbody tr th {\n",
              "        vertical-align: top;\n",
              "    }\n",
              "\n",
              "    .dataframe thead th {\n",
              "        text-align: right;\n",
              "    }\n",
              "</style>\n",
              "<table border=\"1\" class=\"dataframe\">\n",
              "  <thead>\n",
              "    <tr style=\"text-align: right;\">\n",
              "      <th></th>\n",
              "      <th>en</th>\n",
              "      <th>de</th>\n",
              "    </tr>\n",
              "  </thead>\n",
              "  <tbody>\n",
              "    <tr>\n",
              "      <th>0</th>\n",
              "      <td>In China, people call it fazhan , or “development,” but in much of rest of the world, it is more commonly described simply as the “China Boom,” or the “China Miracle.”</td>\n",
              "      <td>In China sagt man dazu fazhan , also „Entwicklung”,  aber in den meisten Teilen der Welt wird dieses Phänomen einfach als „China-Boom“ oder „chinesisches Wunder“ bezeichnet.</td>\n",
              "    </tr>\n",
              "    <tr>\n",
              "      <th>1</th>\n",
              "      <td>Such pessimism is warranted.</td>\n",
              "      <td>Ein derartiger Pessimismus ist gerechtfertigt.</td>\n",
              "    </tr>\n",
              "    <tr>\n",
              "      <th>2</th>\n",
              "      <td>That is also what, if you take her literally, Merkel is doing now.</td>\n",
              "      <td>Dasselbe tut derzeit auch Merkel, wenn man sie beim Wort nimmt.</td>\n",
              "    </tr>\n",
              "    <tr>\n",
              "      <th>3</th>\n",
              "      <td>It proved to be the tipping point, triggering waves of protests by lawyers and other groups in Pakistan’s main cities.</td>\n",
              "      <td>Der Vorfall erwies sich als Wendepunkt, der Wellen des Protests von Anwälten und anderen Gruppen in Pakistans größten Städten auslöste.</td>\n",
              "    </tr>\n",
              "    <tr>\n",
              "      <th>4</th>\n",
              "      <td>Welfare-to-work programs in Michigan and Wisconsin served as the model for federal welfare reform under President Bill Clinton, and Obamacare is based on Massachusetts’ health-care system, introduced under Republican Governor Mitt Romney.</td>\n",
              "      <td>Arbeitsbeschaffungsprogramme in Michigan und Wisconsin dienten als Modell für die staatliche Sozialreform unter Präsident Bill Clinton, und das Krankenversicherungsprogramm „Obamacare“ baut auf dem Gesundheitssystem von Massachusetts auf, das unter dem republikanischen Gouverneur Mitt Romney eingeführt wurde.</td>\n",
              "    </tr>\n",
              "  </tbody>\n",
              "</table>\n",
              "</div>"
            ],
            "text/plain": [
              "                                                                                                                                                                                                                                               en                                                                                                                                                                                                                                                                                                                      de\n",
              "0                                                                         In China, people call it fazhan , or “development,” but in much of rest of the world, it is more commonly described simply as the “China Boom,” or the “China Miracle.”                                                                                                                                           In China sagt man dazu fazhan , also „Entwicklung”,  aber in den meisten Teilen der Welt wird dieses Phänomen einfach als „China-Boom“ oder „chinesisches Wunder“ bezeichnet.\n",
              "1                                                                                                                                                                                                                    Such pessimism is warranted.                                                                                                                                                                                                                                                                          Ein derartiger Pessimismus ist gerechtfertigt.\n",
              "2                                                                                                                                                                              That is also what, if you take her literally, Merkel is doing now.                                                                                                                                                                                                                                                         Dasselbe tut derzeit auch Merkel, wenn man sie beim Wort nimmt.\n",
              "3                                                                                                                          It proved to be the tipping point, triggering waves of protests by lawyers and other groups in Pakistan’s main cities.                                                                                                                                                                                 Der Vorfall erwies sich als Wendepunkt, der Wellen des Protests von Anwälten und anderen Gruppen in Pakistans größten Städten auslöste.\n",
              "4  Welfare-to-work programs in Michigan and Wisconsin served as the model for federal welfare reform under President Bill Clinton, and Obamacare is based on Massachusetts’ health-care system, introduced under Republican Governor Mitt Romney.  Arbeitsbeschaffungsprogramme in Michigan und Wisconsin dienten als Modell für die staatliche Sozialreform unter Präsident Bill Clinton, und das Krankenversicherungsprogramm „Obamacare“ baut auf dem Gesundheitssystem von Massachusetts auf, das unter dem republikanischen Gouverneur Mitt Romney eingeführt wurde."
            ]
          },
          "metadata": {
            "tags": []
          },
          "execution_count": 31
        }
      ]
    },
    {
      "cell_type": "code",
      "metadata": {
        "id": "vx2y74rAlizO",
        "colab_type": "code",
        "colab": {}
      },
      "source": [
        "v14_50k.to_csv(path_translation_data + 'news-commentary-50k-v14.en-de.csv', index=False)"
      ],
      "execution_count": 0,
      "outputs": []
    },
    {
      "cell_type": "markdown",
      "metadata": {
        "id": "h2ohLBU4E_6e",
        "colab_type": "text"
      },
      "source": [
        "## Validation set (newstest2013)"
      ]
    },
    {
      "cell_type": "markdown",
      "metadata": {
        "id": "GcShpZ9A77hf",
        "colab_type": "text"
      },
      "source": [
        "For validation and test sets, we have two options. Either 1) we take a small subset from our training set and label them as validation and/or test set or 2) we download a separate validation and/or test set from different sources. Let's do both just in case. For option 2) let's download the `newstest2013` and  `newstest2014` corpora as validation and test sets respectively. Those two corpora are popular in Machine Translation research to validate MT models. The original Transformer model ([\"Attention Is All You Need\"](https://arxiv.org/abs/1706.03762)) used those two corpora as well for example. "
      ]
    },
    {
      "cell_type": "code",
      "metadata": {
        "id": "biAQP6LEFqCf",
        "colab_type": "code",
        "colab": {}
      },
      "source": [
        "en_valid_fname = path_translation_data + 'newstest2013.en'\n",
        "de_valid_fname = path_translation_data + 'newstest2013.de'"
      ],
      "execution_count": 0,
      "outputs": []
    },
    {
      "cell_type": "code",
      "metadata": {
        "id": "o9KdQfk7yU4n",
        "colab_type": "code",
        "outputId": "19947eb6-0948-41e0-91ee-dfa5029c7556",
        "colab": {
          "base_uri": "https://localhost:8080/",
          "height": 35
        }
      },
      "source": [
        "with open(en_valid_fname, encoding='utf-8') as en_file, open(de_valid_fname, encoding='utf-8') as de_file:\n",
        "  en_list = []\n",
        "  for en in en_file:\n",
        "    en_list.append(en)\n",
        "    \n",
        "  de_list = []\n",
        "  for de in de_file:\n",
        "    de_list.append(de) \n",
        "    \n",
        "len(en_list), len(de_list)"
      ],
      "execution_count": 0,
      "outputs": [
        {
          "output_type": "execute_result",
          "data": {
            "text/plain": [
              "(3000, 3000)"
            ]
          },
          "metadata": {
            "tags": []
          },
          "execution_count": 289
        }
      ]
    },
    {
      "cell_type": "code",
      "metadata": {
        "id": "spYRbRgHF_L2",
        "colab_type": "code",
        "colab": {}
      },
      "source": [
        "lines_valid = [(en.rstrip(), de.rstrip()) for en, de in zip(open(en_valid_fname, encoding='utf-8'), open(de_valid_fname, encoding='utf-8'))]"
      ],
      "execution_count": 0,
      "outputs": []
    },
    {
      "cell_type": "code",
      "metadata": {
        "id": "fRnTOSwsGsB-",
        "colab_type": "code",
        "outputId": "b36b7e83-3b3e-4a6f-86a8-6e142e674feb",
        "colab": {
          "base_uri": "https://localhost:8080/",
          "height": 35
        }
      },
      "source": [
        "len(lines_valid)"
      ],
      "execution_count": 0,
      "outputs": [
        {
          "output_type": "execute_result",
          "data": {
            "text/plain": [
              "3000"
            ]
          },
          "metadata": {
            "tags": []
          },
          "execution_count": 291
        }
      ]
    },
    {
      "cell_type": "code",
      "metadata": {
        "id": "u4f3TxlnGvEb",
        "colab_type": "code",
        "outputId": "00872a9d-5620-4c98-c7d9-f4decda0a46b",
        "colab": {
          "base_uri": "https://localhost:8080/",
          "height": 219
        }
      },
      "source": [
        "lines_valid[:5]"
      ],
      "execution_count": 0,
      "outputs": [
        {
          "output_type": "execute_result",
          "data": {
            "text/plain": [
              "[('A Republican strategy to counter the re-election of Obama',\n",
              "  'Eine republikanische Strategie, um der Wiederwahl von Obama entgegenzutreten'),\n",
              " ('Republican leaders justified their policy by the need to combat electoral fraud.',\n",
              "  'Die Führungskräfte der Republikaner rechtfertigen ihre Politik mit der Notwendigkeit, den Wahlbetrug zu bekämpfen.'),\n",
              " ('However, the Brennan Centre considers this a myth, stating that electoral fraud is rarer in the United States than the number of people killed by lightning.',\n",
              "  'Allerdings hält das Brennan Center letzteres für einen Mythos, indem es bekräftigt, dass der Wahlbetrug in den USA seltener ist als die Anzahl der vom Blitzschlag getöteten Menschen.'),\n",
              " ('Indeed, Republican lawyers identified only 300 cases of electoral fraud in the United States in a decade.',\n",
              "  'Die Rechtsanwälte der Republikaner haben in 10 Jahren in den USA übrigens nur 300 Fälle von Wahlbetrug verzeichnet.'),\n",
              " ('One thing is certain: these new provisions will have a negative impact on voter turn-out.',\n",
              "  'Eins ist sicher: diese neuen Bestimmungen werden sich negativ auf die Wahlbeteiligung auswirken.')]"
            ]
          },
          "metadata": {
            "tags": []
          },
          "execution_count": 292
        }
      ]
    },
    {
      "cell_type": "code",
      "metadata": {
        "id": "Zfvh0M31HJsU",
        "colab_type": "code",
        "colab": {}
      },
      "source": [
        "df_valid = pd.DataFrame({'en': [sent[0] for sent in lines_valid], 'de': [sent[1] for sent in lines_valid]}, columns = ['en', 'de'])"
      ],
      "execution_count": 0,
      "outputs": []
    },
    {
      "cell_type": "code",
      "metadata": {
        "id": "eE3v4J8jd8AQ",
        "colab_type": "code",
        "outputId": "1dbdc568-26bf-4074-d50a-2839b6dab4cc",
        "colab": {
          "base_uri": "https://localhost:8080/",
          "height": 72
        }
      },
      "source": [
        "df_valid.isnull().any()"
      ],
      "execution_count": 0,
      "outputs": [
        {
          "output_type": "execute_result",
          "data": {
            "text/plain": [
              "en    False\n",
              "de    False\n",
              "dtype: bool"
            ]
          },
          "metadata": {
            "tags": []
          },
          "execution_count": 294
        }
      ]
    },
    {
      "cell_type": "code",
      "metadata": {
        "id": "WfnAJFxz093q",
        "colab_type": "code",
        "outputId": "801c9d28-24f1-41ec-b9d2-4c8c7c09e06e",
        "colab": {
          "base_uri": "https://localhost:8080/",
          "height": 469
        }
      },
      "source": [
        "df_valid.iloc[0:10]"
      ],
      "execution_count": 0,
      "outputs": [
        {
          "output_type": "execute_result",
          "data": {
            "text/html": [
              "<div>\n",
              "<style scoped>\n",
              "    .dataframe tbody tr th:only-of-type {\n",
              "        vertical-align: middle;\n",
              "    }\n",
              "\n",
              "    .dataframe tbody tr th {\n",
              "        vertical-align: top;\n",
              "    }\n",
              "\n",
              "    .dataframe thead th {\n",
              "        text-align: right;\n",
              "    }\n",
              "</style>\n",
              "<table border=\"1\" class=\"dataframe\">\n",
              "  <thead>\n",
              "    <tr style=\"text-align: right;\">\n",
              "      <th></th>\n",
              "      <th>en</th>\n",
              "      <th>de</th>\n",
              "    </tr>\n",
              "  </thead>\n",
              "  <tbody>\n",
              "    <tr>\n",
              "      <th>0</th>\n",
              "      <td>A Republican strategy to counter the re-election of Obama</td>\n",
              "      <td>Eine republikanische Strategie, um der Wiederwahl von Obama entgegenzutreten</td>\n",
              "    </tr>\n",
              "    <tr>\n",
              "      <th>1</th>\n",
              "      <td>Republican leaders justified their policy by the need to combat electoral fraud.</td>\n",
              "      <td>Die Führungskräfte der Republikaner rechtfertigen ihre Politik mit der Notwendigkeit, den Wahlbetrug zu bekämpfen.</td>\n",
              "    </tr>\n",
              "    <tr>\n",
              "      <th>2</th>\n",
              "      <td>However, the Brennan Centre considers this a myth, stating that electoral fraud is rarer in the United States than the number of people killed by lightning.</td>\n",
              "      <td>Allerdings hält das Brennan Center letzteres für einen Mythos, indem es bekräftigt, dass der Wahlbetrug in den USA seltener ist als die Anzahl der vom Blitzschlag getöteten Menschen.</td>\n",
              "    </tr>\n",
              "    <tr>\n",
              "      <th>3</th>\n",
              "      <td>Indeed, Republican lawyers identified only 300 cases of electoral fraud in the United States in a decade.</td>\n",
              "      <td>Die Rechtsanwälte der Republikaner haben in 10 Jahren in den USA übrigens nur 300 Fälle von Wahlbetrug verzeichnet.</td>\n",
              "    </tr>\n",
              "    <tr>\n",
              "      <th>4</th>\n",
              "      <td>One thing is certain: these new provisions will have a negative impact on voter turn-out.</td>\n",
              "      <td>Eins ist sicher: diese neuen Bestimmungen werden sich negativ auf die Wahlbeteiligung auswirken.</td>\n",
              "    </tr>\n",
              "    <tr>\n",
              "      <th>5</th>\n",
              "      <td>In this sense, the measures will partially undermine the American democratic system.</td>\n",
              "      <td>In diesem Sinne untergraben diese Maßnahmen teilweise das demokratische System der USA.</td>\n",
              "    </tr>\n",
              "    <tr>\n",
              "      <th>6</th>\n",
              "      <td>Unlike in Canada, the American States are responsible for the organisation of federal elections in the United States.</td>\n",
              "      <td>Im Gegensatz zu Kanada sind die US-Bundesstaaten für die Durchführung der Wahlen in den einzelnen Staaten verantwortlich.</td>\n",
              "    </tr>\n",
              "    <tr>\n",
              "      <th>7</th>\n",
              "      <td>It is in this spirit that a majority of American governments have passed new laws since 2009 making the registration or voting process more difficult.</td>\n",
              "      <td>In diesem Sinne hat die Mehrheit der amerikanischen Regierungen seit 2009 neue Gesetze verkündet, die das Verfahren für die Registrierung oder den Urnengang erschweren.</td>\n",
              "    </tr>\n",
              "    <tr>\n",
              "      <th>8</th>\n",
              "      <td>This phenomenon gained momentum following the November 2010 elections, which saw 675 new Republican representatives added in 26 States.</td>\n",
              "      <td>Dieses Phänomen hat nach den Wahlen vom November 2010 an Bedeutung gewonnen, bei denen 675 neue republikanische Vertreter in 26 Staaten verzeichnet werden konnten.</td>\n",
              "    </tr>\n",
              "    <tr>\n",
              "      <th>9</th>\n",
              "      <td>As a result, 180 bills restricting the exercise of the right to vote in 41 States were introduced in 2011 alone.</td>\n",
              "      <td>Infolgedessen wurden 180 Gesetzesentwürfe allein im Jahr 2011 eingeführt, die die Ausübung des Wahlrechts in 41 Staaten einschränken.</td>\n",
              "    </tr>\n",
              "  </tbody>\n",
              "</table>\n",
              "</div>"
            ],
            "text/plain": [
              "                                                                                                                                                             en                                                                                                                                                                                      de\n",
              "0                                                                                                     A Republican strategy to counter the re-election of Obama                                                                                                            Eine republikanische Strategie, um der Wiederwahl von Obama entgegenzutreten\n",
              "1                                                                              Republican leaders justified their policy by the need to combat electoral fraud.                                                                      Die Führungskräfte der Republikaner rechtfertigen ihre Politik mit der Notwendigkeit, den Wahlbetrug zu bekämpfen.\n",
              "2  However, the Brennan Centre considers this a myth, stating that electoral fraud is rarer in the United States than the number of people killed by lightning.  Allerdings hält das Brennan Center letzteres für einen Mythos, indem es bekräftigt, dass der Wahlbetrug in den USA seltener ist als die Anzahl der vom Blitzschlag getöteten Menschen.\n",
              "3                                                     Indeed, Republican lawyers identified only 300 cases of electoral fraud in the United States in a decade.                                                                     Die Rechtsanwälte der Republikaner haben in 10 Jahren in den USA übrigens nur 300 Fälle von Wahlbetrug verzeichnet.\n",
              "4                                                                     One thing is certain: these new provisions will have a negative impact on voter turn-out.                                                                                        Eins ist sicher: diese neuen Bestimmungen werden sich negativ auf die Wahlbeteiligung auswirken.\n",
              "5                                                                          In this sense, the measures will partially undermine the American democratic system.                                                                                                 In diesem Sinne untergraben diese Maßnahmen teilweise das demokratische System der USA.\n",
              "6                                         Unlike in Canada, the American States are responsible for the organisation of federal elections in the United States.                                                               Im Gegensatz zu Kanada sind die US-Bundesstaaten für die Durchführung der Wahlen in den einzelnen Staaten verantwortlich.\n",
              "7        It is in this spirit that a majority of American governments have passed new laws since 2009 making the registration or voting process more difficult.                In diesem Sinne hat die Mehrheit der amerikanischen Regierungen seit 2009 neue Gesetze verkündet, die das Verfahren für die Registrierung oder den Urnengang erschweren.\n",
              "8                       This phenomenon gained momentum following the November 2010 elections, which saw 675 new Republican representatives added in 26 States.                     Dieses Phänomen hat nach den Wahlen vom November 2010 an Bedeutung gewonnen, bei denen 675 neue republikanische Vertreter in 26 Staaten verzeichnet werden konnten.\n",
              "9                                              As a result, 180 bills restricting the exercise of the right to vote in 41 States were introduced in 2011 alone.                                                   Infolgedessen wurden 180 Gesetzesentwürfe allein im Jahr 2011 eingeführt, die die Ausübung des Wahlrechts in 41 Staaten einschränken."
            ]
          },
          "metadata": {
            "tags": []
          },
          "execution_count": 295
        }
      ]
    },
    {
      "cell_type": "code",
      "metadata": {
        "id": "ZKWo92Iw0etJ",
        "colab_type": "code",
        "outputId": "b6908c8f-e47c-4aa0-8bd0-bf0e170e1d2c",
        "colab": {
          "base_uri": "https://localhost:8080/",
          "height": 469
        }
      },
      "source": [
        "df_valid.iloc[-10:]"
      ],
      "execution_count": 0,
      "outputs": [
        {
          "output_type": "execute_result",
          "data": {
            "text/html": [
              "<div>\n",
              "<style scoped>\n",
              "    .dataframe tbody tr th:only-of-type {\n",
              "        vertical-align: middle;\n",
              "    }\n",
              "\n",
              "    .dataframe tbody tr th {\n",
              "        vertical-align: top;\n",
              "    }\n",
              "\n",
              "    .dataframe thead th {\n",
              "        text-align: right;\n",
              "    }\n",
              "</style>\n",
              "<table border=\"1\" class=\"dataframe\">\n",
              "  <thead>\n",
              "    <tr style=\"text-align: right;\">\n",
              "      <th></th>\n",
              "      <th>en</th>\n",
              "      <th>de</th>\n",
              "    </tr>\n",
              "  </thead>\n",
              "  <tbody>\n",
              "    <tr>\n",
              "      <th>2990</th>\n",
              "      <td>The Internet has caused a boom in these speculations.</td>\n",
              "      <td>Das Internet hat diese Spekulationen erhöht.</td>\n",
              "    </tr>\n",
              "    <tr>\n",
              "      <th>2991</th>\n",
              "      <td>\"In other places, people don't think about it\" he said.</td>\n",
              "      <td>\"Anderenorts denken die Leute nicht so\", sagt er.</td>\n",
              "    </tr>\n",
              "    <tr>\n",
              "      <th>2992</th>\n",
              "      <td>It's mostly in the English-speaking world.</td>\n",
              "      <td>Dies ist hauptsächlich in der englischsprechenden Welt der Fall.</td>\n",
              "    </tr>\n",
              "    <tr>\n",
              "      <th>2993</th>\n",
              "      <td>Joseph Dougherty, a Professor of religion at La Salle University, who is giving courses in the Philippines this year, responded quickly to the question of whether he knew about any courses on the \"end of the world\" there.</td>\n",
              "      <td>Joseph Dougherty, ein Religionsprofessor der Universität La Salle, der dieses Jahr auf den Philippinen unterrichtet, antwortet schnell auf die Frage, ob er dort einen Kurs über das \"Ende der Welt\" kennen würde.</td>\n",
              "    </tr>\n",
              "    <tr>\n",
              "      <th>2994</th>\n",
              "      <td>\"The Philippines are not taking part in the end of the world\" he wrote, suggesting an exception of a higher authority.</td>\n",
              "      <td>\"Die Philippinen beteiligen sich nicht am Ende der Welt\", schrieb er als Andeutung auf eine Ausnahme einer höheren Instanz.</td>\n",
              "    </tr>\n",
              "    <tr>\n",
              "      <th>2995</th>\n",
              "      <td>We have an indulgence from the Pope.</td>\n",
              "      <td>Wir haben eine Begnadigung vom Papst.</td>\n",
              "    </tr>\n",
              "    <tr>\n",
              "      <th>2996</th>\n",
              "      <td>Restall noted that over the years there has been talk of many days of the last judgement, and said that if nothing happens on December 21st, \"people will immediately start thinking of the next date\" or philosophising that December 21st is the beginning of a seven-year period after which the worl...</td>\n",
              "      <td>Restall wies darauf hin, dass über die Jahre viele Tage vom letzten Gericht gesprochen wurde, und sagte, dass wenn am 21. Dezember nichts passiert, \"die Leute sofort an ein neues Datum denken\" oder darüber philosophierten, dass der 21. Dezember der Beginn einer siebenjährigen Periode sei, wonach...</td>\n",
              "    </tr>\n",
              "    <tr>\n",
              "      <th>2997</th>\n",
              "      <td>Students and teachers are taking the date lightly.</td>\n",
              "      <td>Studenten und Professoren nehmen dieses Datum leicht.</td>\n",
              "    </tr>\n",
              "    <tr>\n",
              "      <th>2998</th>\n",
              "      <td>Some said they plan to go to \"end of the world\" parties.</td>\n",
              "      <td>Mehrere sagten, dass sie zu Feiern über \"das Ende der Welt\" gehen möchten.</td>\n",
              "    </tr>\n",
              "    <tr>\n",
              "      <th>2999</th>\n",
              "      <td>\"Maybe I'll call some friends so we can have a laugh together\" said Samira Ford, 20-year-old communications student.</td>\n",
              "      <td>\"Vielleicht rufe ich ein paar Freunde an, damit wir zusammen lachen können\", sagte Samira Ford, eine 20-jährige Studentin für Kommunikationen.</td>\n",
              "    </tr>\n",
              "  </tbody>\n",
              "</table>\n",
              "</div>"
            ],
            "text/plain": [
              "                                                                                                                                                                                                                                                                                                               en                                                                                                                                                                                                                                                                                                           de\n",
              "2990                                                                                                                                                                                                                                                        The Internet has caused a boom in these speculations.                                                                                                                                                                                                                                                                 Das Internet hat diese Spekulationen erhöht.\n",
              "2991                                                                                                                                                                                                                                                      \"In other places, people don't think about it\" he said.                                                                                                                                                                                                                                                            \"Anderenorts denken die Leute nicht so\", sagt er.\n",
              "2992                                                                                                                                                                                                                                                                   It's mostly in the English-speaking world.                                                                                                                                                                                                                                             Dies ist hauptsächlich in der englischsprechenden Welt der Fall.\n",
              "2993                                                                                Joseph Dougherty, a Professor of religion at La Salle University, who is giving courses in the Philippines this year, responded quickly to the question of whether he knew about any courses on the \"end of the world\" there.                                                                                           Joseph Dougherty, ein Religionsprofessor der Universität La Salle, der dieses Jahr auf den Philippinen unterrichtet, antwortet schnell auf die Frage, ob er dort einen Kurs über das \"Ende der Welt\" kennen würde.\n",
              "2994                                                                                                                                                                                       \"The Philippines are not taking part in the end of the world\" he wrote, suggesting an exception of a higher authority.                                                                                                                                                                                  \"Die Philippinen beteiligen sich nicht am Ende der Welt\", schrieb er als Andeutung auf eine Ausnahme einer höheren Instanz.\n",
              "2995                                                                                                                                                                                                                                                                         We have an indulgence from the Pope.                                                                                                                                                                                                                                                                        Wir haben eine Begnadigung vom Papst.\n",
              "2996  Restall noted that over the years there has been talk of many days of the last judgement, and said that if nothing happens on December 21st, \"people will immediately start thinking of the next date\" or philosophising that December 21st is the beginning of a seven-year period after which the worl...  Restall wies darauf hin, dass über die Jahre viele Tage vom letzten Gericht gesprochen wurde, und sagte, dass wenn am 21. Dezember nichts passiert, \"die Leute sofort an ein neues Datum denken\" oder darüber philosophierten, dass der 21. Dezember der Beginn einer siebenjährigen Periode sei, wonach...\n",
              "2997                                                                                                                                                                                                                                                           Students and teachers are taking the date lightly.                                                                                                                                                                                                                                                        Studenten und Professoren nehmen dieses Datum leicht.\n",
              "2998                                                                                                                                                                                                                                                     Some said they plan to go to \"end of the world\" parties.                                                                                                                                                                                                                                   Mehrere sagten, dass sie zu Feiern über \"das Ende der Welt\" gehen möchten.\n",
              "2999                                                                                                                                                                                         \"Maybe I'll call some friends so we can have a laugh together\" said Samira Ford, 20-year-old communications student.                                                                                                                                                               \"Vielleicht rufe ich ein paar Freunde an, damit wir zusammen lachen können\", sagte Samira Ford, eine 20-jährige Studentin für Kommunikationen."
            ]
          },
          "metadata": {
            "tags": []
          },
          "execution_count": 296
        }
      ]
    },
    {
      "cell_type": "code",
      "metadata": {
        "id": "99kU4DO-d6_w",
        "colab_type": "code",
        "colab": {}
      },
      "source": [
        "df_valid.to_csv(path_translation_data + 'newstest2013.en-de.csv', index=False)"
      ],
      "execution_count": 0,
      "outputs": []
    },
    {
      "cell_type": "code",
      "metadata": {
        "id": "JfedMxsOIlSf",
        "colab_type": "code",
        "colab": {}
      },
      "source": [
        "df_valid = pd.read_csv(path_translation_data + 'newstest2013.en-de.csv')"
      ],
      "execution_count": 0,
      "outputs": []
    },
    {
      "cell_type": "code",
      "metadata": {
        "id": "U28dIz1Up37Y",
        "colab_type": "code",
        "outputId": "45513650-4f14-4542-eb35-97e9c4235a4e",
        "colab": {
          "base_uri": "https://localhost:8080/",
          "height": 72
        }
      },
      "source": [
        "df_valid.isnull().any()"
      ],
      "execution_count": 0,
      "outputs": [
        {
          "output_type": "execute_result",
          "data": {
            "text/plain": [
              "en    False\n",
              "de    False\n",
              "dtype: bool"
            ]
          },
          "metadata": {
            "tags": []
          },
          "execution_count": 299
        }
      ]
    },
    {
      "cell_type": "markdown",
      "metadata": {
        "id": "bp9NmNXAI1Z9",
        "colab_type": "text"
      },
      "source": [
        "## Test set (newstest2014)"
      ]
    },
    {
      "cell_type": "code",
      "metadata": {
        "id": "DKYQvTv_JAOD",
        "colab_type": "code",
        "colab": {}
      },
      "source": [
        "en_test_fname = path_translation_data + 'newstest2014.en'\n",
        "de_test_fname = path_translation_data + 'newstest2014.de'"
      ],
      "execution_count": 0,
      "outputs": []
    },
    {
      "cell_type": "code",
      "metadata": {
        "id": "3SKTRNwOymIS",
        "colab_type": "code",
        "outputId": "b9b8533b-0751-4e57-dfe1-2e1013da4fa2",
        "colab": {
          "base_uri": "https://localhost:8080/",
          "height": 35
        }
      },
      "source": [
        "with open(en_test_fname, encoding='utf-8') as en_file, open(de_test_fname, encoding='utf-8') as de_file:\n",
        "  en_list = []\n",
        "  for en in en_file:\n",
        "    en_list.append(en)\n",
        "    \n",
        "  de_list = []\n",
        "  for de in de_file:\n",
        "    de_list.append(de) \n",
        "    \n",
        "len(en_list), len(de_list)"
      ],
      "execution_count": 0,
      "outputs": [
        {
          "output_type": "execute_result",
          "data": {
            "text/plain": [
              "(3003, 3003)"
            ]
          },
          "metadata": {
            "tags": []
          },
          "execution_count": 301
        }
      ]
    },
    {
      "cell_type": "code",
      "metadata": {
        "id": "zYvUIt3HI0XH",
        "colab_type": "code",
        "colab": {}
      },
      "source": [
        "lines_test = [(en.rstrip(), de.rstrip()) for en, de in zip(open(en_test_fname, encoding='utf-8'), open(de_test_fname, encoding='utf-8'))]"
      ],
      "execution_count": 0,
      "outputs": []
    },
    {
      "cell_type": "code",
      "metadata": {
        "id": "b2eBJVo2J-8r",
        "colab_type": "code",
        "outputId": "2e77cd9d-f13b-478b-8195-c34cd866bbca",
        "colab": {
          "base_uri": "https://localhost:8080/",
          "height": 35
        }
      },
      "source": [
        "len(lines_test)"
      ],
      "execution_count": 0,
      "outputs": [
        {
          "output_type": "execute_result",
          "data": {
            "text/plain": [
              "3003"
            ]
          },
          "metadata": {
            "tags": []
          },
          "execution_count": 303
        }
      ]
    },
    {
      "cell_type": "code",
      "metadata": {
        "id": "bS4V-AcMKC0o",
        "colab_type": "code",
        "outputId": "705d5711-f2bd-494c-c4a7-61bb6ee30fa9",
        "colab": {
          "base_uri": "https://localhost:8080/",
          "height": 219
        }
      },
      "source": [
        "lines_test[:5]"
      ],
      "execution_count": 0,
      "outputs": [
        {
          "output_type": "execute_result",
          "data": {
            "text/plain": [
              "[('Gutach: Increased safety for pedestrians',\n",
              "  'Gutach: Noch mehr Sicherheit für Fußgänger'),\n",
              " ('They are not even 100 metres apart: On Tuesday, the new B 33 pedestrian lights in Dorfparkplatz in Gutach became operational - within view of the existing Town Hall traffic lights.',\n",
              "  'Sie stehen keine 100 Meter voneinander entfernt: Am Dienstag ist in Gutach die neue B 33-Fußgängerampel am Dorfparkplatz in Betrieb genommen worden - in Sichtweite der älteren Rathausampel.'),\n",
              " ('Two sets of lights so close to one another: intentional or just a silly error?',\n",
              "  'Zwei Anlagen so nah beieinander: Absicht oder Schildbürgerstreich?'),\n",
              " (\"Yesterday, Gutacht's Mayor gave a clear answer to this question.\",\n",
              "  'Diese Frage hat Gutachs Bürgermeister gestern klar beantwortet.'),\n",
              " ('\"At the time, the Town Hall traffic lights were installed because this was a school route,\" explained Eckert yesterday.',\n",
              "  '\"Die Rathausampel ist damals installiert worden, weil diese den Schulweg sichert\", erläuterte Eckert gestern.')]"
            ]
          },
          "metadata": {
            "tags": []
          },
          "execution_count": 304
        }
      ]
    },
    {
      "cell_type": "code",
      "metadata": {
        "id": "j9FH_GOTKSoc",
        "colab_type": "code",
        "colab": {}
      },
      "source": [
        "df_test = pd.DataFrame({'en': [sent[0] for sent in lines_test], 'de': [sent[1] for sent in lines_test]}, columns = ['en', 'de'])"
      ],
      "execution_count": 0,
      "outputs": []
    },
    {
      "cell_type": "code",
      "metadata": {
        "id": "ZM_K3w5tef1f",
        "colab_type": "code",
        "outputId": "a73893c9-08e2-4197-df64-025298b7ab8d",
        "colab": {
          "base_uri": "https://localhost:8080/",
          "height": 72
        }
      },
      "source": [
        "df_test.isnull().any()"
      ],
      "execution_count": 0,
      "outputs": [
        {
          "output_type": "execute_result",
          "data": {
            "text/plain": [
              "en    False\n",
              "de    False\n",
              "dtype: bool"
            ]
          },
          "metadata": {
            "tags": []
          },
          "execution_count": 306
        }
      ]
    },
    {
      "cell_type": "code",
      "metadata": {
        "id": "4svHq-k11HyW",
        "colab_type": "code",
        "outputId": "eb72ca32-0d2d-41a7-ef90-bbe046ae1248",
        "colab": {
          "base_uri": "https://localhost:8080/",
          "height": 469
        }
      },
      "source": [
        "df_test.iloc[:10]"
      ],
      "execution_count": 0,
      "outputs": [
        {
          "output_type": "execute_result",
          "data": {
            "text/html": [
              "<div>\n",
              "<style scoped>\n",
              "    .dataframe tbody tr th:only-of-type {\n",
              "        vertical-align: middle;\n",
              "    }\n",
              "\n",
              "    .dataframe tbody tr th {\n",
              "        vertical-align: top;\n",
              "    }\n",
              "\n",
              "    .dataframe thead th {\n",
              "        text-align: right;\n",
              "    }\n",
              "</style>\n",
              "<table border=\"1\" class=\"dataframe\">\n",
              "  <thead>\n",
              "    <tr style=\"text-align: right;\">\n",
              "      <th></th>\n",
              "      <th>en</th>\n",
              "      <th>de</th>\n",
              "    </tr>\n",
              "  </thead>\n",
              "  <tbody>\n",
              "    <tr>\n",
              "      <th>0</th>\n",
              "      <td>Gutach: Increased safety for pedestrians</td>\n",
              "      <td>Gutach: Noch mehr Sicherheit für Fußgänger</td>\n",
              "    </tr>\n",
              "    <tr>\n",
              "      <th>1</th>\n",
              "      <td>They are not even 100 metres apart: On Tuesday, the new B 33 pedestrian lights in Dorfparkplatz in Gutach became operational - within view of the existing Town Hall traffic lights.</td>\n",
              "      <td>Sie stehen keine 100 Meter voneinander entfernt: Am Dienstag ist in Gutach die neue B 33-Fußgängerampel am Dorfparkplatz in Betrieb genommen worden - in Sichtweite der älteren Rathausampel.</td>\n",
              "    </tr>\n",
              "    <tr>\n",
              "      <th>2</th>\n",
              "      <td>Two sets of lights so close to one another: intentional or just a silly error?</td>\n",
              "      <td>Zwei Anlagen so nah beieinander: Absicht oder Schildbürgerstreich?</td>\n",
              "    </tr>\n",
              "    <tr>\n",
              "      <th>3</th>\n",
              "      <td>Yesterday, Gutacht's Mayor gave a clear answer to this question.</td>\n",
              "      <td>Diese Frage hat Gutachs Bürgermeister gestern klar beantwortet.</td>\n",
              "    </tr>\n",
              "    <tr>\n",
              "      <th>4</th>\n",
              "      <td>\"At the time, the Town Hall traffic lights were installed because this was a school route,\" explained Eckert yesterday.</td>\n",
              "      <td>\"Die Rathausampel ist damals installiert worden, weil diese den Schulweg sichert\", erläuterte Eckert gestern.</td>\n",
              "    </tr>\n",
              "    <tr>\n",
              "      <th>5</th>\n",
              "      <td>The Kluser lights protect cyclists, as well as those travelling by bus and the residents of Bergle.</td>\n",
              "      <td>Die Kluser-Ampel sichere sowohl Radfahrer als auch Busfahrgäste und die Bergle-Bewohner.</td>\n",
              "    </tr>\n",
              "    <tr>\n",
              "      <th>6</th>\n",
              "      <td>The system, which officially became operational yesterday, is of importance to the Sulzbachweg/Kirchstrasse junction.</td>\n",
              "      <td>Die gestern offiziell in Betrieb genommene Anlage sei wichtig für den Kreuzungsbereich Sulzbachweg/Kirchstraße.</td>\n",
              "    </tr>\n",
              "    <tr>\n",
              "      <th>7</th>\n",
              "      <td>We have the museum, two churches, the spa gardens, the bus stop, a doctor's practice and a bank, not to mention the traffic from the 'Grub' residential area.</td>\n",
              "      <td>Wir haben das Museum, zwei Kirchen, Kurpark, die Bushaltestelle, einen Arzt und eine Bank sowie den Verkehrsfluss aus dem Wohngebiet ›Grub‹.</td>\n",
              "    </tr>\n",
              "    <tr>\n",
              "      <th>8</th>\n",
              "      <td>\"At times of high road and pedestrian traffic, an additional set of lights were required to ensure safety,\" said Eckert.</td>\n",
              "      <td>\"Bei dem hohen Verkehrs- und Fußgängeraufkommen musste zu deren Sicherheit eine weitere Ampel her\", so Eckert.</td>\n",
              "    </tr>\n",
              "    <tr>\n",
              "      <th>9</th>\n",
              "      <td>This was also confirmed by Peter Arnold from the Offenburg District Office.</td>\n",
              "      <td>Dies bestätigt auch Peter Arnold vom Landratsamt Offenburg.</td>\n",
              "    </tr>\n",
              "  </tbody>\n",
              "</table>\n",
              "</div>"
            ],
            "text/plain": [
              "                                                                                                                                                                                     en                                                                                                                                                                                             de\n",
              "0                                                                                                                                              Gutach: Increased safety for pedestrians                                                                                                                                                     Gutach: Noch mehr Sicherheit für Fußgänger\n",
              "1  They are not even 100 metres apart: On Tuesday, the new B 33 pedestrian lights in Dorfparkplatz in Gutach became operational - within view of the existing Town Hall traffic lights.  Sie stehen keine 100 Meter voneinander entfernt: Am Dienstag ist in Gutach die neue B 33-Fußgängerampel am Dorfparkplatz in Betrieb genommen worden - in Sichtweite der älteren Rathausampel.\n",
              "2                                                                                                        Two sets of lights so close to one another: intentional or just a silly error?                                                                                                                             Zwei Anlagen so nah beieinander: Absicht oder Schildbürgerstreich?\n",
              "3                                                                                                                      Yesterday, Gutacht's Mayor gave a clear answer to this question.                                                                                                                                Diese Frage hat Gutachs Bürgermeister gestern klar beantwortet.\n",
              "4                                                               \"At the time, the Town Hall traffic lights were installed because this was a school route,\" explained Eckert yesterday.                                                                                  \"Die Rathausampel ist damals installiert worden, weil diese den Schulweg sichert\", erläuterte Eckert gestern.\n",
              "5                                                                                   The Kluser lights protect cyclists, as well as those travelling by bus and the residents of Bergle.                                                                                                       Die Kluser-Ampel sichere sowohl Radfahrer als auch Busfahrgäste und die Bergle-Bewohner.\n",
              "6                                                                 The system, which officially became operational yesterday, is of importance to the Sulzbachweg/Kirchstrasse junction.                                                                                Die gestern offiziell in Betrieb genommene Anlage sei wichtig für den Kreuzungsbereich Sulzbachweg/Kirchstraße.\n",
              "7                         We have the museum, two churches, the spa gardens, the bus stop, a doctor's practice and a bank, not to mention the traffic from the 'Grub' residential area.                                                   Wir haben das Museum, zwei Kirchen, Kurpark, die Bushaltestelle, einen Arzt und eine Bank sowie den Verkehrsfluss aus dem Wohngebiet ›Grub‹.\n",
              "8                                                              \"At times of high road and pedestrian traffic, an additional set of lights were required to ensure safety,\" said Eckert.                                                                                 \"Bei dem hohen Verkehrs- und Fußgängeraufkommen musste zu deren Sicherheit eine weitere Ampel her\", so Eckert.\n",
              "9                                                                                                           This was also confirmed by Peter Arnold from the Offenburg District Office.                                                                                                                                    Dies bestätigt auch Peter Arnold vom Landratsamt Offenburg."
            ]
          },
          "metadata": {
            "tags": []
          },
          "execution_count": 307
        }
      ]
    },
    {
      "cell_type": "code",
      "metadata": {
        "id": "tGEHAUTw1NNF",
        "colab_type": "code",
        "outputId": "f963d96f-2b2a-4f18-d4ed-47e9a3b7849e",
        "colab": {
          "base_uri": "https://localhost:8080/",
          "height": 538
        }
      },
      "source": [
        "df_test.iloc[-10:]"
      ],
      "execution_count": 0,
      "outputs": [
        {
          "output_type": "execute_result",
          "data": {
            "text/html": [
              "<div>\n",
              "<style scoped>\n",
              "    .dataframe tbody tr th:only-of-type {\n",
              "        vertical-align: middle;\n",
              "    }\n",
              "\n",
              "    .dataframe tbody tr th {\n",
              "        vertical-align: top;\n",
              "    }\n",
              "\n",
              "    .dataframe thead th {\n",
              "        text-align: right;\n",
              "    }\n",
              "</style>\n",
              "<table border=\"1\" class=\"dataframe\">\n",
              "  <thead>\n",
              "    <tr style=\"text-align: right;\">\n",
              "      <th></th>\n",
              "      <th>en</th>\n",
              "      <th>de</th>\n",
              "    </tr>\n",
              "  </thead>\n",
              "  <tbody>\n",
              "    <tr>\n",
              "      <th>2993</th>\n",
              "      <td>Phuket police interviewed Bamford for two days before she confessed to fabricating the story.</td>\n",
              "      <td>Die Polizei in Phuket verhörte Bamford zwei Tage lang, bis sie gestand, sich die Geschichte ausgedacht zu haben.</td>\n",
              "    </tr>\n",
              "    <tr>\n",
              "      <th>2994</th>\n",
              "      <td>She was held in local police cells before the court hearing.</td>\n",
              "      <td>Bis zur Gerichtsverhandlung befand sie sich vor Ort in Polizeigewahrsam.</td>\n",
              "    </tr>\n",
              "    <tr>\n",
              "      <th>2995</th>\n",
              "      <td>Bamford was sentenced to serve the 15-day prison term at a low security detention centre on the outskirts of Phuket rather than in an adult women's jail.</td>\n",
              "      <td>Bamford wurde zu einer 15-tägigen Gefängnisstrafe in einer Haftanstalt mit niedriger Sicherheitsstufe am Rande Phukets verurteilt, statt in einem Gefängnis für erwachsene Frauen.</td>\n",
              "    </tr>\n",
              "    <tr>\n",
              "      <th>2996</th>\n",
              "      <td>She is the daughter of former Australian league player Peter Tunks, who has appealed to the Department of Foreign Affairs in Canberra to assist his daughter.</td>\n",
              "      <td>Sie ist die Tochter von Peter Tunks, einem ehemaligen Spieler der australischen Rubgy-Liga, der sich an das Außenministerium in Canberra mit der Bitte um Hilfe für seine Tochter gewandt hat.</td>\n",
              "    </tr>\n",
              "    <tr>\n",
              "      <th>2997</th>\n",
              "      <td>Tunks told Sydney's Sunday Telegraph the whole family was \"extremely concerned\" about his daughter's welfare and wanted her back in Australia.</td>\n",
              "      <td>Tunks erklärte gegenüber dem Sunday Telegraph in Sydney, die ganze Familie sei „extrem besorgt“ über das Wohlergehen seiner Tochter und wollte sie zurück in Australien haben.</td>\n",
              "    </tr>\n",
              "    <tr>\n",
              "      <th>2998</th>\n",
              "      <td>\"It's obviously been a worrying time but we're hopeful to have her back home safely as soon as possible,\" Tunks said.</td>\n",
              "      <td>„Wir machen uns natürlich große Sorgen, aber wir hoffen, dass sie so bald wie möglich wieder zu Hause ist“, sagte Tunks.</td>\n",
              "    </tr>\n",
              "    <tr>\n",
              "      <th>2999</th>\n",
              "      <td>Bamford is appealing the sentence and has been granted bail of 50,000 baht.</td>\n",
              "      <td>Bamford hat gegen das Urteil Berufung eingelegt und ist gegen eine Kaution von 50.000 Baht auf freiem Fuß.</td>\n",
              "    </tr>\n",
              "    <tr>\n",
              "      <th>3000</th>\n",
              "      <td>Reports in Australia said that in the meantime, she was holidaying at the resort area of Krabi in Southern Thailand.</td>\n",
              "      <td>In australischen Berichten war zu lesen, dass sie in der Zwischenzeit im Ferienort Krabi in Südthailand Urlaub macht.</td>\n",
              "    </tr>\n",
              "    <tr>\n",
              "      <th>3001</th>\n",
              "      <td>Thai-based legal sources said Bamford was being represented by a local lawyer in Phuket but warned that the appeal may lead to the court increasing her sentence by up to two years and forcing her to serve it in an adult prison.</td>\n",
              "      <td>Vonseiten des Gerichts war zu hören, Bamford werde durch einen lokalen Anwalt in Phuket vertreten und sei gewarnt worden, dass die Berufung auch zur Verhängung einer höheren Strafe von bis zu zwei Jahren in einem Gefängnis für Erwachsene führen könne.</td>\n",
              "    </tr>\n",
              "    <tr>\n",
              "      <th>3002</th>\n",
              "      <td>However, following the recent murder of Australian travel agent Michelle Smith in Phuket, Thailand may also be looking to repair its battered tourist image, leading to an acquittal.</td>\n",
              "      <td>Allerdings ist es auch möglich, dass Thailand nach der kürzlichen Ermordung der Reisekauffrau Michelle Smith in Phuket bemüht sein könnte, sein angeschlagenes touristisches Image zu verbessern, und es deshalb zu einem Freispruch kommt.</td>\n",
              "    </tr>\n",
              "  </tbody>\n",
              "</table>\n",
              "</div>"
            ],
            "text/plain": [
              "                                                                                                                                                                                                                                       en                                                                                                                                                                                                                                                           de\n",
              "2993                                                                                                                                        Phuket police interviewed Bamford for two days before she confessed to fabricating the story.                                                                                                                                             Die Polizei in Phuket verhörte Bamford zwei Tage lang, bis sie gestand, sich die Geschichte ausgedacht zu haben.\n",
              "2994                                                                                                                                                                         She was held in local police cells before the court hearing.                                                                                                                                                                                     Bis zur Gerichtsverhandlung befand sie sich vor Ort in Polizeigewahrsam.\n",
              "2995                                                                            Bamford was sentenced to serve the 15-day prison term at a low security detention centre on the outskirts of Phuket rather than in an adult women's jail.                                                                           Bamford wurde zu einer 15-tägigen Gefängnisstrafe in einer Haftanstalt mit niedriger Sicherheitsstufe am Rande Phukets verurteilt, statt in einem Gefängnis für erwachsene Frauen.\n",
              "2996                                                                        She is the daughter of former Australian league player Peter Tunks, who has appealed to the Department of Foreign Affairs in Canberra to assist his daughter.                                                               Sie ist die Tochter von Peter Tunks, einem ehemaligen Spieler der australischen Rubgy-Liga, der sich an das Außenministerium in Canberra mit der Bitte um Hilfe für seine Tochter gewandt hat.\n",
              "2997                                                                                       Tunks told Sydney's Sunday Telegraph the whole family was \"extremely concerned\" about his daughter's welfare and wanted her back in Australia.                                                                               Tunks erklärte gegenüber dem Sunday Telegraph in Sydney, die ganze Familie sei „extrem besorgt“ über das Wohlergehen seiner Tochter und wollte sie zurück in Australien haben.\n",
              "2998                                                                                                                \"It's obviously been a worrying time but we're hopeful to have her back home safely as soon as possible,\" Tunks said.                                                                                                                                     „Wir machen uns natürlich große Sorgen, aber wir hoffen, dass sie so bald wie möglich wieder zu Hause ist“, sagte Tunks.\n",
              "2999                                                                                                                                                          Bamford is appealing the sentence and has been granted bail of 50,000 baht.                                                                                                                                                   Bamford hat gegen das Urteil Berufung eingelegt und ist gegen eine Kaution von 50.000 Baht auf freiem Fuß.\n",
              "3000                                                                                                                 Reports in Australia said that in the meantime, she was holidaying at the resort area of Krabi in Southern Thailand.                                                                                                                                        In australischen Berichten war zu lesen, dass sie in der Zwischenzeit im Ferienort Krabi in Südthailand Urlaub macht.\n",
              "3001  Thai-based legal sources said Bamford was being represented by a local lawyer in Phuket but warned that the appeal may lead to the court increasing her sentence by up to two years and forcing her to serve it in an adult prison.  Vonseiten des Gerichts war zu hören, Bamford werde durch einen lokalen Anwalt in Phuket vertreten und sei gewarnt worden, dass die Berufung auch zur Verhängung einer höheren Strafe von bis zu zwei Jahren in einem Gefängnis für Erwachsene führen könne.\n",
              "3002                                                However, following the recent murder of Australian travel agent Michelle Smith in Phuket, Thailand may also be looking to repair its battered tourist image, leading to an acquittal.                  Allerdings ist es auch möglich, dass Thailand nach der kürzlichen Ermordung der Reisekauffrau Michelle Smith in Phuket bemüht sein könnte, sein angeschlagenes touristisches Image zu verbessern, und es deshalb zu einem Freispruch kommt."
            ]
          },
          "metadata": {
            "tags": []
          },
          "execution_count": 308
        }
      ]
    },
    {
      "cell_type": "code",
      "metadata": {
        "id": "J0oNtyuyeYog",
        "colab_type": "code",
        "colab": {}
      },
      "source": [
        "df_test.to_csv(path_translation_data + 'newstest2014.en-de.csv', index=False)"
      ],
      "execution_count": 0,
      "outputs": []
    },
    {
      "cell_type": "code",
      "metadata": {
        "id": "SGQ0MgwnKScY",
        "colab_type": "code",
        "colab": {}
      },
      "source": [
        "df_test = pd.read_csv(path_translation_data + 'newstest2014.en-de.csv')"
      ],
      "execution_count": 0,
      "outputs": []
    },
    {
      "cell_type": "code",
      "metadata": {
        "id": "4P8ozut2qGNi",
        "colab_type": "code",
        "outputId": "dce37f56-8f96-4026-f2e1-f1e4e70c1897",
        "colab": {
          "base_uri": "https://localhost:8080/",
          "height": 72
        }
      },
      "source": [
        "df_test.isnull().any()"
      ],
      "execution_count": 0,
      "outputs": [
        {
          "output_type": "execute_result",
          "data": {
            "text/plain": [
              "en    False\n",
              "de    False\n",
              "dtype: bool"
            ]
          },
          "metadata": {
            "tags": []
          },
          "execution_count": 311
        }
      ]
    },
    {
      "cell_type": "markdown",
      "metadata": {
        "id": "pic8M_8bWcg1",
        "colab_type": "text"
      },
      "source": [
        "# Create DataBunch"
      ]
    },
    {
      "cell_type": "markdown",
      "metadata": {
        "id": "hu3gmWvpmsXf",
        "colab_type": "text"
      },
      "source": [
        "Load all csv files:"
      ]
    },
    {
      "cell_type": "code",
      "metadata": {
        "id": "XGl7FSZnmu9O",
        "colab_type": "code",
        "colab": {}
      },
      "source": [
        "df_train = pd.read_csv(path_translation_data + 'news-commentary-v14.en-de.csv')\n",
        "df_train_50k = pd.read_csv(path_translation_data + 'news-commentary-50k-v14.en-de.csv')\n",
        "df_valid = pd.read_csv(path_translation_data + 'newstest2013.en-de.csv')\n",
        "df_test = pd.read_csv(path_translation_data + 'newstest2014.en-de.csv')"
      ],
      "execution_count": 0,
      "outputs": []
    },
    {
      "cell_type": "code",
      "metadata": {
        "id": "m3ytTln9nPEI",
        "colab_type": "code",
        "outputId": "78659141-0bdd-48e9-d95b-0cb9761a0519",
        "colab": {
          "base_uri": "https://localhost:8080/",
          "height": 35
        }
      },
      "source": [
        "df_train.isnull().any().any(), df_train_50k.isnull().any().any(), df_valid.isnull().any().any(), df_test.isnull().any().any()"
      ],
      "execution_count": 0,
      "outputs": [
        {
          "output_type": "execute_result",
          "data": {
            "text/plain": [
              "(False, False, False, False)"
            ]
          },
          "metadata": {
            "tags": []
          },
          "execution_count": 45
        }
      ]
    },
    {
      "cell_type": "markdown",
      "metadata": {
        "id": "Vu2z1btoWcg6",
        "colab_type": "text"
      },
      "source": [
        "Lowercase everything"
      ]
    },
    {
      "cell_type": "code",
      "metadata": {
        "id": "HS9PZYc9Wcg7",
        "colab_type": "code",
        "colab": {}
      },
      "source": [
        "df_train['en'] = df_train['en'].apply(lambda x:x.lower())\n",
        "df_train['de'] = df_train['de'].apply(lambda x:x.lower())\n",
        "\n",
        "df_train_50k['en'] = df_train_50k['en'].apply(lambda x:x.lower())\n",
        "df_train_50k['de'] = df_train_50k['de'].apply(lambda x:x.lower())\n",
        "\n",
        "df_valid['en'] = df_valid['en'].apply(lambda x:x.lower())\n",
        "df_valid['de'] = df_valid['de'].apply(lambda x:x.lower())\n",
        "\n",
        "df_test['en'] = df_test['en'].apply(lambda x:x.lower())\n",
        "df_test['de'] = df_test['de'].apply(lambda x:x.lower())"
      ],
      "execution_count": 0,
      "outputs": []
    },
    {
      "cell_type": "code",
      "metadata": {
        "id": "WmPLF_rCoPeF",
        "colab_type": "code",
        "colab": {}
      },
      "source": [
        "pd.set_option('max_colwidth', 800)"
      ],
      "execution_count": 0,
      "outputs": []
    },
    {
      "cell_type": "code",
      "metadata": {
        "id": "aeouaTscny-5",
        "colab_type": "code",
        "outputId": "251a2101-3eeb-45ae-f688-feba17a12595",
        "colab": {
          "base_uri": "https://localhost:8080/",
          "height": 319
        }
      },
      "source": [
        "df_train.tail()"
      ],
      "execution_count": 0,
      "outputs": [
        {
          "output_type": "execute_result",
          "data": {
            "text/html": [
              "<div>\n",
              "<style scoped>\n",
              "    .dataframe tbody tr th:only-of-type {\n",
              "        vertical-align: middle;\n",
              "    }\n",
              "\n",
              "    .dataframe tbody tr th {\n",
              "        vertical-align: top;\n",
              "    }\n",
              "\n",
              "    .dataframe thead th {\n",
              "        text-align: right;\n",
              "    }\n",
              "</style>\n",
              "<table border=\"1\" class=\"dataframe\">\n",
              "  <thead>\n",
              "    <tr style=\"text-align: right;\">\n",
              "      <th></th>\n",
              "      <th>en</th>\n",
              "      <th>de</th>\n",
              "    </tr>\n",
              "  </thead>\n",
              "  <tbody>\n",
              "    <tr>\n",
              "      <th>329162</th>\n",
              "      <td>their achievement remains one of the greatest in recent history.</td>\n",
              "      <td>das bleibt eine der größten errungenschaften in der jüngeren geschichte.</td>\n",
              "    </tr>\n",
              "    <tr>\n",
              "      <th>329163</th>\n",
              "      <td>at the same time, zuma’s revolutionary generation still seems uneasy leading south africa in a post-apartheid era that is now 15 years old.</td>\n",
              "      <td>gleichzeitig scheint sich zumas revolutionäre generation mit der führung südafrikas in der nun seit 15 jahren dauernden ära nach der apartheid noch immer unwohl zu fühlen.</td>\n",
              "    </tr>\n",
              "    <tr>\n",
              "      <th>329164</th>\n",
              "      <td>in a region that reveres the elderly, zuma’s attachment to his rural traditions must be matched by an equal openness to the appetites of the country’s youth.</td>\n",
              "      <td>in einer region, wo die älteren menschen sehr verehrt werden, muss zumas bindung an landestypische traditionen eine gleichwertige offenheit gegenüber den bedürfnissen der jugend des landes gegenüberstehen.</td>\n",
              "    </tr>\n",
              "    <tr>\n",
              "      <th>329165</th>\n",
              "      <td>three in ten south africans are younger than 15, meaning that they did not live a day under apartheid.</td>\n",
              "      <td>drei von zehn südafrikanern sind jünger als 15 und das bedeutet, dass sie nicht einen tag unter der apartheid gelebt haben.</td>\n",
              "    </tr>\n",
              "    <tr>\n",
              "      <th>329166</th>\n",
              "      <td>somehow zuma must find a way to honor his own generation’s commitment to racial justice and national liberation, while empowering the masses who daily suffer the sting of class differences and yearn for material gain.</td>\n",
              "      <td>irgendwie muss zuma einen weg finden, einerseits das engagement seiner generation hinsichtlich ethnischer gerechtigkeit und nationaler befreiung zu würdigen und andererseits den massen, die täglich unter klassenunterschieden leiden und sich nach materiellen verbesserungen sehnen, mehr mitwirkungsmöglichkeiten einzuräumen.</td>\n",
              "    </tr>\n",
              "  </tbody>\n",
              "</table>\n",
              "</div>"
            ],
            "text/plain": [
              "                                                                                                                                                                                                                               en                                                                                                                                                                                                                                                                                                                                   de\n",
              "329162                                                                                                                                                           their achievement remains one of the greatest in recent history.                                                                                                                                                                                                                                                             das bleibt eine der größten errungenschaften in der jüngeren geschichte.\n",
              "329163                                                                                at the same time, zuma’s revolutionary generation still seems uneasy leading south africa in a post-apartheid era that is now 15 years old.                                                                                                                                                          gleichzeitig scheint sich zumas revolutionäre generation mit der führung südafrikas in der nun seit 15 jahren dauernden ära nach der apartheid noch immer unwohl zu fühlen.\n",
              "329164                                                              in a region that reveres the elderly, zuma’s attachment to his rural traditions must be matched by an equal openness to the appetites of the country’s youth.                                                                                                                        in einer region, wo die älteren menschen sehr verehrt werden, muss zumas bindung an landestypische traditionen eine gleichwertige offenheit gegenüber den bedürfnissen der jugend des landes gegenüberstehen.\n",
              "329165                                                                                                                     three in ten south africans are younger than 15, meaning that they did not live a day under apartheid.                                                                                                                                                                                                          drei von zehn südafrikanern sind jünger als 15 und das bedeutet, dass sie nicht einen tag unter der apartheid gelebt haben.\n",
              "329166  somehow zuma must find a way to honor his own generation’s commitment to racial justice and national liberation, while empowering the masses who daily suffer the sting of class differences and yearn for material gain.  irgendwie muss zuma einen weg finden, einerseits das engagement seiner generation hinsichtlich ethnischer gerechtigkeit und nationaler befreiung zu würdigen und andererseits den massen, die täglich unter klassenunterschieden leiden und sich nach materiellen verbesserungen sehnen, mehr mitwirkungsmöglichkeiten einzuräumen."
            ]
          },
          "metadata": {
            "tags": []
          },
          "execution_count": 48
        }
      ]
    },
    {
      "cell_type": "markdown",
      "metadata": {
        "id": "6-Re1moRN5CY",
        "colab_type": "text"
      },
      "source": [
        "## Combine train and validation set"
      ]
    },
    {
      "cell_type": "markdown",
      "metadata": {
        "id": "GWCjlA2oOrAs",
        "colab_type": "text"
      },
      "source": [
        "**split_from_df()**\n",
        "\n",
        "If you want to use the separate `newstest2013`  or `newstest2014` as validation and test sets respectively, you can concatenate them with the training set in a pandas dataframe. With fastai's `split_from_df()` method, we can split them later in a fastai Databunch. Just add a `is_valid` column (True or False) as an extra column. If is_valid[index] = True, then that example is put in the validation set and if is_valid[index] = False the example is put in the training set."
      ]
    },
    {
      "cell_type": "code",
      "metadata": {
        "id": "Fka7ZBKWOyn2",
        "colab_type": "code",
        "outputId": "0f64c69d-0081-44dd-8a76-3a5b63e82b95",
        "colab": {
          "base_uri": "https://localhost:8080/",
          "height": 302
        }
      },
      "source": [
        "df_train_50k[\"is_valid\"] = 'False'\n",
        "df_train_50k.head()"
      ],
      "execution_count": 0,
      "outputs": [
        {
          "output_type": "execute_result",
          "data": {
            "text/html": [
              "<div>\n",
              "<style scoped>\n",
              "    .dataframe tbody tr th:only-of-type {\n",
              "        vertical-align: middle;\n",
              "    }\n",
              "\n",
              "    .dataframe tbody tr th {\n",
              "        vertical-align: top;\n",
              "    }\n",
              "\n",
              "    .dataframe thead th {\n",
              "        text-align: right;\n",
              "    }\n",
              "</style>\n",
              "<table border=\"1\" class=\"dataframe\">\n",
              "  <thead>\n",
              "    <tr style=\"text-align: right;\">\n",
              "      <th></th>\n",
              "      <th>en</th>\n",
              "      <th>de</th>\n",
              "      <th>is_valid</th>\n",
              "    </tr>\n",
              "  </thead>\n",
              "  <tbody>\n",
              "    <tr>\n",
              "      <th>0</th>\n",
              "      <td>in china, people call it fazhan , or “development,” but in much of rest of the world, it is more commonly described simply as the “china boom,” or the “china miracle.”</td>\n",
              "      <td>in china sagt man dazu fazhan , also „entwicklung”,  aber in den meisten teilen der welt wird dieses phänomen einfach als „china-boom“ oder „chinesisches wunder“ bezeichnet.</td>\n",
              "      <td>False</td>\n",
              "    </tr>\n",
              "    <tr>\n",
              "      <th>1</th>\n",
              "      <td>such pessimism is warranted.</td>\n",
              "      <td>ein derartiger pessimismus ist gerechtfertigt.</td>\n",
              "      <td>False</td>\n",
              "    </tr>\n",
              "    <tr>\n",
              "      <th>2</th>\n",
              "      <td>that is also what, if you take her literally, merkel is doing now.</td>\n",
              "      <td>dasselbe tut derzeit auch merkel, wenn man sie beim wort nimmt.</td>\n",
              "      <td>False</td>\n",
              "    </tr>\n",
              "    <tr>\n",
              "      <th>3</th>\n",
              "      <td>it proved to be the tipping point, triggering waves of protests by lawyers and other groups in pakistan’s main cities.</td>\n",
              "      <td>der vorfall erwies sich als wendepunkt, der wellen des protests von anwälten und anderen gruppen in pakistans größten städten auslöste.</td>\n",
              "      <td>False</td>\n",
              "    </tr>\n",
              "    <tr>\n",
              "      <th>4</th>\n",
              "      <td>welfare-to-work programs in michigan and wisconsin served as the model for federal welfare reform under president bill clinton, and obamacare is based on massachusetts’ health-care system, introduced under republican governor mitt romney.</td>\n",
              "      <td>arbeitsbeschaffungsprogramme in michigan und wisconsin dienten als modell für die staatliche sozialreform unter präsident bill clinton, und das krankenversicherungsprogramm „obamacare“ baut auf dem gesundheitssystem von massachusetts auf, das unter dem republikanischen gouverneur mitt romney eingeführt wurde.</td>\n",
              "      <td>False</td>\n",
              "    </tr>\n",
              "  </tbody>\n",
              "</table>\n",
              "</div>"
            ],
            "text/plain": [
              "                                                                                                                                                                                                                                               en  ... is_valid\n",
              "0                                                                         in china, people call it fazhan , or “development,” but in much of rest of the world, it is more commonly described simply as the “china boom,” or the “china miracle.”  ...    False\n",
              "1                                                                                                                                                                                                                    such pessimism is warranted.  ...    False\n",
              "2                                                                                                                                                                              that is also what, if you take her literally, merkel is doing now.  ...    False\n",
              "3                                                                                                                          it proved to be the tipping point, triggering waves of protests by lawyers and other groups in pakistan’s main cities.  ...    False\n",
              "4  welfare-to-work programs in michigan and wisconsin served as the model for federal welfare reform under president bill clinton, and obamacare is based on massachusetts’ health-care system, introduced under republican governor mitt romney.  ...    False\n",
              "\n",
              "[5 rows x 3 columns]"
            ]
          },
          "metadata": {
            "tags": []
          },
          "execution_count": 49
        }
      ]
    },
    {
      "cell_type": "code",
      "metadata": {
        "id": "lVw7f_UNXNiJ",
        "colab_type": "code",
        "outputId": "bb2084fa-5cb1-4b6b-867e-6dd0335a1a3b",
        "colab": {
          "base_uri": "https://localhost:8080/",
          "height": 267
        }
      },
      "source": [
        "df_valid[\"is_valid\"] = 'True'\n",
        "df_valid.head()"
      ],
      "execution_count": 0,
      "outputs": [
        {
          "output_type": "execute_result",
          "data": {
            "text/html": [
              "<div>\n",
              "<style scoped>\n",
              "    .dataframe tbody tr th:only-of-type {\n",
              "        vertical-align: middle;\n",
              "    }\n",
              "\n",
              "    .dataframe tbody tr th {\n",
              "        vertical-align: top;\n",
              "    }\n",
              "\n",
              "    .dataframe thead th {\n",
              "        text-align: right;\n",
              "    }\n",
              "</style>\n",
              "<table border=\"1\" class=\"dataframe\">\n",
              "  <thead>\n",
              "    <tr style=\"text-align: right;\">\n",
              "      <th></th>\n",
              "      <th>en</th>\n",
              "      <th>de</th>\n",
              "      <th>is_valid</th>\n",
              "    </tr>\n",
              "  </thead>\n",
              "  <tbody>\n",
              "    <tr>\n",
              "      <th>0</th>\n",
              "      <td>a republican strategy to counter the re-election of obama</td>\n",
              "      <td>eine republikanische strategie, um der wiederwahl von obama entgegenzutreten</td>\n",
              "      <td>True</td>\n",
              "    </tr>\n",
              "    <tr>\n",
              "      <th>1</th>\n",
              "      <td>republican leaders justified their policy by the need to combat electoral fraud.</td>\n",
              "      <td>die führungskräfte der republikaner rechtfertigen ihre politik mit der notwendigkeit, den wahlbetrug zu bekämpfen.</td>\n",
              "      <td>True</td>\n",
              "    </tr>\n",
              "    <tr>\n",
              "      <th>2</th>\n",
              "      <td>however, the brennan centre considers this a myth, stating that electoral fraud is rarer in the united states than the number of people killed by lightning.</td>\n",
              "      <td>allerdings hält das brennan center letzteres für einen mythos, indem es bekräftigt, dass der wahlbetrug in den usa seltener ist als die anzahl der vom blitzschlag getöteten menschen.</td>\n",
              "      <td>True</td>\n",
              "    </tr>\n",
              "    <tr>\n",
              "      <th>3</th>\n",
              "      <td>indeed, republican lawyers identified only 300 cases of electoral fraud in the united states in a decade.</td>\n",
              "      <td>die rechtsanwälte der republikaner haben in 10 jahren in den usa übrigens nur 300 fälle von wahlbetrug verzeichnet.</td>\n",
              "      <td>True</td>\n",
              "    </tr>\n",
              "    <tr>\n",
              "      <th>4</th>\n",
              "      <td>one thing is certain: these new provisions will have a negative impact on voter turn-out.</td>\n",
              "      <td>eins ist sicher: diese neuen bestimmungen werden sich negativ auf die wahlbeteiligung auswirken.</td>\n",
              "      <td>True</td>\n",
              "    </tr>\n",
              "  </tbody>\n",
              "</table>\n",
              "</div>"
            ],
            "text/plain": [
              "                                                                                                                                                             en  ... is_valid\n",
              "0                                                                                                     a republican strategy to counter the re-election of obama  ...     True\n",
              "1                                                                              republican leaders justified their policy by the need to combat electoral fraud.  ...     True\n",
              "2  however, the brennan centre considers this a myth, stating that electoral fraud is rarer in the united states than the number of people killed by lightning.  ...     True\n",
              "3                                                     indeed, republican lawyers identified only 300 cases of electoral fraud in the united states in a decade.  ...     True\n",
              "4                                                                     one thing is certain: these new provisions will have a negative impact on voter turn-out.  ...     True\n",
              "\n",
              "[5 rows x 3 columns]"
            ]
          },
          "metadata": {
            "tags": []
          },
          "execution_count": 50
        }
      ]
    },
    {
      "cell_type": "code",
      "metadata": {
        "id": "495zXza3XYXM",
        "colab_type": "code",
        "outputId": "876ff22a-8a6a-470c-ebb3-f34c2e67417c",
        "colab": {
          "base_uri": "https://localhost:8080/",
          "height": 1000
        }
      },
      "source": [
        "df_train_valid = pd.concat([df_train_50k, df_valid]).reset_index(drop=True)\n",
        "df_train_valid"
      ],
      "execution_count": 0,
      "outputs": [
        {
          "output_type": "execute_result",
          "data": {
            "text/html": [
              "<div>\n",
              "<style scoped>\n",
              "    .dataframe tbody tr th:only-of-type {\n",
              "        vertical-align: middle;\n",
              "    }\n",
              "\n",
              "    .dataframe tbody tr th {\n",
              "        vertical-align: top;\n",
              "    }\n",
              "\n",
              "    .dataframe thead th {\n",
              "        text-align: right;\n",
              "    }\n",
              "</style>\n",
              "<table border=\"1\" class=\"dataframe\">\n",
              "  <thead>\n",
              "    <tr style=\"text-align: right;\">\n",
              "      <th></th>\n",
              "      <th>en</th>\n",
              "      <th>de</th>\n",
              "      <th>is_valid</th>\n",
              "    </tr>\n",
              "  </thead>\n",
              "  <tbody>\n",
              "    <tr>\n",
              "      <th>0</th>\n",
              "      <td>in china, people call it fazhan , or “development,” but in much of rest of the world, it is more commonly described simply as the “china boom,” or the “china miracle.”</td>\n",
              "      <td>in china sagt man dazu fazhan , also „entwicklung”,  aber in den meisten teilen der welt wird dieses phänomen einfach als „china-boom“ oder „chinesisches wunder“ bezeichnet.</td>\n",
              "      <td>False</td>\n",
              "    </tr>\n",
              "    <tr>\n",
              "      <th>1</th>\n",
              "      <td>such pessimism is warranted.</td>\n",
              "      <td>ein derartiger pessimismus ist gerechtfertigt.</td>\n",
              "      <td>False</td>\n",
              "    </tr>\n",
              "    <tr>\n",
              "      <th>2</th>\n",
              "      <td>that is also what, if you take her literally, merkel is doing now.</td>\n",
              "      <td>dasselbe tut derzeit auch merkel, wenn man sie beim wort nimmt.</td>\n",
              "      <td>False</td>\n",
              "    </tr>\n",
              "    <tr>\n",
              "      <th>3</th>\n",
              "      <td>it proved to be the tipping point, triggering waves of protests by lawyers and other groups in pakistan’s main cities.</td>\n",
              "      <td>der vorfall erwies sich als wendepunkt, der wellen des protests von anwälten und anderen gruppen in pakistans größten städten auslöste.</td>\n",
              "      <td>False</td>\n",
              "    </tr>\n",
              "    <tr>\n",
              "      <th>4</th>\n",
              "      <td>welfare-to-work programs in michigan and wisconsin served as the model for federal welfare reform under president bill clinton, and obamacare is based on massachusetts’ health-care system, introduced under republican governor mitt romney.</td>\n",
              "      <td>arbeitsbeschaffungsprogramme in michigan und wisconsin dienten als modell für die staatliche sozialreform unter präsident bill clinton, und das krankenversicherungsprogramm „obamacare“ baut auf dem gesundheitssystem von massachusetts auf, das unter dem republikanischen gouverneur mitt romney eingeführt wurde.</td>\n",
              "      <td>False</td>\n",
              "    </tr>\n",
              "    <tr>\n",
              "      <th>5</th>\n",
              "      <td>the french have been the most insistent that europe has interests that are not identical to america’s – particularly in the middle east, where france has been pro-arab.</td>\n",
              "      <td>die franzosen haben am meisten darauf bestanden, dass es europäische interessen gibt, die nicht mit denen amerikas identisch sind – vor allem im nahen osten, wo frankreich bislang proarabisch war.</td>\n",
              "      <td>False</td>\n",
              "    </tr>\n",
              "    <tr>\n",
              "      <th>6</th>\n",
              "      <td>in all of these areas, trump has reversed attractive american policies.</td>\n",
              "      <td>in allen diesen bereichen hat trump die attraktivität der amerikanischen politik verringert.</td>\n",
              "      <td>False</td>\n",
              "    </tr>\n",
              "    <tr>\n",
              "      <th>7</th>\n",
              "      <td>so far, park, sensing that the electorate trusts her foreign-policy instincts, has kept her north korea cards close to her chest.</td>\n",
              "      <td>park hat erkannt, dass die wählerschaft ihren außenpolitischen instinkten vertraut, und bislang niemanden in ihre nordkorea-karten schauen lassen.</td>\n",
              "      <td>False</td>\n",
              "    </tr>\n",
              "    <tr>\n",
              "      <th>8</th>\n",
              "      <td>and ronald reagan launched his 1980 campaign near the mississippi town where three civil-rights activists were murdered by white supremacists in 1964.</td>\n",
              "      <td>und ronald reagan hat seinen wahlkampf 1980 nahe der stadt in mississippi eröffnet, wo drei bürgerrechtsaktivisten 1964 von verfechtern der weißen vorherrschaft ermordet worden waren.</td>\n",
              "      <td>False</td>\n",
              "    </tr>\n",
              "    <tr>\n",
              "      <th>9</th>\n",
              "      <td>the governments that launched emu anticipated that their workers and businesses would eventually be sufficiently mobile and flexible to adjust to economic changes affecting them differentially.</td>\n",
              "      <td>die an der ewu beteiligten regierungen gingen davon aus, dass arbeitskräfte und firmen letztlich ausreichend mobilität und flexibilität entwickeln würden, um sich den, sie in unterschiedlichen ausmaß betreffenden wirtschaftlichen veränderungen, anzupassen.</td>\n",
              "      <td>False</td>\n",
              "    </tr>\n",
              "    <tr>\n",
              "      <th>10</th>\n",
              "      <td>so china’s cut in imports could not shave more than a few tenths of a percentage point from us gdp, and even that would be spread over several years.</td>\n",
              "      <td>also kann der rückgang des us-bip durch die geringeren chinesischen importe nicht mehr als ein paar zehntel prozent betragen, und sogar dies würde sich auf mehrere jahre verteilen.</td>\n",
              "      <td>False</td>\n",
              "    </tr>\n",
              "    <tr>\n",
              "      <th>11</th>\n",
              "      <td>so the launch of a debate on national identity by president nicolas sarkozy is anything but accidental.</td>\n",
              "      <td>daher kommt die von präsident nicolas sarkozy entfachte debatte über nationale identität alles andere als zufällig.</td>\n",
              "      <td>False</td>\n",
              "    </tr>\n",
              "    <tr>\n",
              "      <th>12</th>\n",
              "      <td>he is off to a good start, having freed the peso from its official peg, reduced taxes, and moved toward freer trade.</td>\n",
              "      <td>er hat einen guten start hingelegt und den peso von seiner offiziellen währungsanbindung gelöst, die steuern gesenkt und sich auf einen freieren handel zubewegt.</td>\n",
              "      <td>False</td>\n",
              "    </tr>\n",
              "    <tr>\n",
              "      <th>13</th>\n",
              "      <td>both big oil and big finance have made major mistakes in recent years, channeling funds into socially destructive investments.</td>\n",
              "      <td>die großen ölkonzerne haben ebenso wie die großen finanzinstitute in den letzten jahren den fehler gemacht, gelder in sozial unverträgliche investitionen zu stecken.</td>\n",
              "      <td>False</td>\n",
              "    </tr>\n",
              "    <tr>\n",
              "      <th>14</th>\n",
              "      <td>the fed, through its control of the money supply, has enormous economic power, and such power can easily be abused for political purposes – say, to generate more jobs in the short run.</td>\n",
              "      <td>die fed verfügt aufgrund ihrer kontrolle über die geldmenge über eine enorme wirtschaftliche macht, die sich leicht für politische zwecke missbrauchen lässt – etwa, um kurzfristig mehr arbeitsplätze zu schaffen.</td>\n",
              "      <td>False</td>\n",
              "    </tr>\n",
              "    <tr>\n",
              "      <th>15</th>\n",
              "      <td>for decades, academic analysts have been fighting over whether such large-scale family businesses should be considered beneficial.</td>\n",
              "      <td>seit jahrzehnten streiten wissenschaftler, ob solche großen familienunternehmen vorteilhaft sind.</td>\n",
              "      <td>False</td>\n",
              "    </tr>\n",
              "    <tr>\n",
              "      <th>16</th>\n",
              "      <td>today, more than 260 million children are out of school, and over 500 million boys and girls who do attend are not receiving a quality education, as the international commission on financing global education opportunity discovered.</td>\n",
              "      <td>heute gehen mehr als 260 millionen kinder nicht zur schule, und über 500 millionen jungen und mädchen, die zur schule gehen, erhalten keine qualitativ hochwertige ausbildung, wie die internationale kommission zur finanzierung globaler bildungschancen festgestellt hat.</td>\n",
              "      <td>False</td>\n",
              "    </tr>\n",
              "    <tr>\n",
              "      <th>17</th>\n",
              "      <td>they�focus on ending organ trafficking but ignore the time-tested truth that trying to stamp out illicit markets either drives them further underground or causes corruption to�reappear elsewhere.</td>\n",
              "      <td>sie konzentrieren sich darauf, den organhandel zu stoppen, ignorieren jedoch die sich immer wieder bestätigende wahrheit, dass die versuche, den schwarzmarkt auszumerzen, diesen entweder weiter in den untergrund treiben oder dazu führen, dass die verwerfungen an anderer stelle wieder auftauchen.</td>\n",
              "      <td>False</td>\n",
              "    </tr>\n",
              "    <tr>\n",
              "      <th>18</th>\n",
              "      <td>that the agency was running an operation aimed at harming north korea.</td>\n",
              "      <td>dass die behörde eine operation am laufen hatte, die darauf abzielte, nordkorea zu schaden.</td>\n",
              "      <td>False</td>\n",
              "    </tr>\n",
              "    <tr>\n",
              "      <th>19</th>\n",
              "      <td>there is a long-standing presumption of “sovereign immunity”: states can be sued only under limited circumstances. but investment agreements like those backed by the us demand that developing countries waive this presumption and permit the adjudication of suits according to procedures that fall far short of those expected in twenty-first-century democracies.</td>\n",
              "      <td>seit langem geht man von einer „staatenimmunität” aus: staaten können nur unter bestimmten umständen geklagt werden.  doch investitionsschutzabkommen wie sie von den usa unterstützt werden, verlangen, dass entwicklungsländer diese annahme über bord werfen und eine gerichtliche urteilsfindung in verfahren erlauben, deren modalitäten bei weitem nicht jenen entsprechen, wie man sie in demokratien des 21. jahrhunderts erwartet.</td>\n",
              "      <td>False</td>\n",
              "    </tr>\n",
              "    <tr>\n",
              "      <th>20</th>\n",
              "      <td>for some time now america has appeared to be intent on discarding the basic ordering instrument of relations between states - international treaties and the institutions that watch over them.</td>\n",
              "      <td>seit einiger zeit schon scheinen es die vereinigten staaten darauf abgesehen zu haben, die grundlegenden instrumente für die beziehungen zwischen den staaten zu missachten: die internationalen verträge und die institutionen, die über sie wachen.</td>\n",
              "      <td>False</td>\n",
              "    </tr>\n",
              "    <tr>\n",
              "      <th>21</th>\n",
              "      <td>a single rulebook for financial services is being put in place for the single market.</td>\n",
              "      <td>für den binnenmarkt wird es ein einheitliches regelwerk für finanzdienstleistungen geben.</td>\n",
              "      <td>False</td>\n",
              "    </tr>\n",
              "    <tr>\n",
              "      <th>22</th>\n",
              "      <td>positive feedback from consumption to production, employment, and income generation – both within countries and across countries via trade channels – could further accelerate the pace of global growth, particularly if monetary policies in most advanced economies remain looser than expected, supporting asset reflation and thus demand and growth.</td>\n",
              "      <td>positive rückkopplungen vom konsum zur produktion, beschäftigung und einkommensschaffung – sowohl innerhalb der einzelnen länder als auch länderübergreifend durch handelskanäle – könnten das tempo des weltweiten wachstums weiter beschleunigen, insbesondere wenn die geldpolitik in den meisten hochentwickelten volkswirtschaften lockerer bleibt als erwartet, was eine reflation der anlagewerte und damit nachfrage und wachstum unterstützen würde.</td>\n",
              "      <td>False</td>\n",
              "    </tr>\n",
              "    <tr>\n",
              "      <th>23</th>\n",
              "      <td>amid the chaos of camps, makeshift huts, and destitution, the fight for an important new principle of international aid has begun: even in times of conflict, children must have access to education.</td>\n",
              "      <td>inmitten des chaos der lager, behelfshütten und des elends hat ein kampf um ein wichtiges neues prinzip der internationalen hilfe begonnen: dass kinder selbst in konfliktzeiten einen zugang zur bildung haben müssen.</td>\n",
              "      <td>False</td>\n",
              "    </tr>\n",
              "    <tr>\n",
              "      <th>24</th>\n",
              "      <td>the issue of women faculty members, especially in basic sciences, is far more complex.</td>\n",
              "      <td>das problem universitärer wissenschafterinnen in der grundlagenforschung ist weitaus komplexer.</td>\n",
              "      <td>False</td>\n",
              "    </tr>\n",
              "    <tr>\n",
              "      <th>25</th>\n",
              "      <td>the treaty establishing the icc explicitly states that heads of state do not enjoy immunity.</td>\n",
              "      <td>der gründungsvertrag des istgh legt ausdrücklich fest, dass staatsoberhäupter keine immunität genießen.</td>\n",
              "      <td>False</td>\n",
              "    </tr>\n",
              "    <tr>\n",
              "      <th>26</th>\n",
              "      <td>in a report released in june, the six banks described how they have provided more than $100 billion in climate finance in the four years since joint reporting began.</td>\n",
              "      <td>in einem bericht vom juni beschreiben die sechs banken, wie sie in den letzten vier jahren vor dem beginn der gemeinsamen berichterstattung über 100 milliarden dollar an klimafinanzierungen bereitgestellt haben.</td>\n",
              "      <td>False</td>\n",
              "    </tr>\n",
              "    <tr>\n",
              "      <th>27</th>\n",
              "      <td>fréderic mitterand, the culture minister, spoke of “a scary america that has just shown its face.”</td>\n",
              "      <td>der französische außenminister bernard kouchner bezeichnete polanskis festnahme als „unheimlich“.</td>\n",
              "      <td>False</td>\n",
              "    </tr>\n",
              "    <tr>\n",
              "      <th>28</th>\n",
              "      <td>oversight and the power of the purse will be their most powerful tools.</td>\n",
              "      <td>aufsicht und die macht über das geld werden ihre stärksten instrumente sein.</td>\n",
              "      <td>False</td>\n",
              "    </tr>\n",
              "    <tr>\n",
              "      <th>29</th>\n",
              "      <td>after our report is issued in january, secretary-general kofi annan will issue a report to the world in the spring, identifying the practical steps that should be taken this year.</td>\n",
              "      <td>nach der veröffentlichung unseres berichts im januar wird generalsekretär kofi annan im frühling selbst einen bericht herausgeben, in dem die in diesem jahr zu unternehmenden schritte aufgelistet sein werden.</td>\n",
              "      <td>False</td>\n",
              "    </tr>\n",
              "    <tr>\n",
              "      <th>...</th>\n",
              "      <td>...</td>\n",
              "      <td>...</td>\n",
              "      <td>...</td>\n",
              "    </tr>\n",
              "    <tr>\n",
              "      <th>52970</th>\n",
              "      <td>if nuclear material falls into the hands of terrorists, for example, a war could break out.</td>\n",
              "      <td>wenn nukleares material in die hände von terroristen gelangt, könnte beispielsweise ein krieg ausbrechen.</td>\n",
              "      <td>True</td>\n",
              "    </tr>\n",
              "    <tr>\n",
              "      <th>52971</th>\n",
              "      <td>this month students analysed movies with an apocalyptic theme and explored how they compare with real-life examples.</td>\n",
              "      <td>diesen monat analysierten die studenten filme mit apokalyptischem inhalt und untersuchten, wie sie sich im vergleich mit dem wirklichen leben vergleichen ließen.</td>\n",
              "      <td>True</td>\n",
              "    </tr>\n",
              "    <tr>\n",
              "      <th>52972</th>\n",
              "      <td>\"i've tried to inform students about what is possible, probable, credible and impossible\" said vacker.</td>\n",
              "      <td>\"ich habe versucht, die studenten darüber zu informieren, was möglich, wahrscheinlich, glaubhaft und unmöglich ist\", sagte vacker.</td>\n",
              "      <td>True</td>\n",
              "    </tr>\n",
              "    <tr>\n",
              "      <th>52973</th>\n",
              "      <td>at the main pennsylvania state university campus, latin american history professor matthew restall, and his colleague amara solari, an associate art history and anthropology professor, have teamed up to give a course, called simply \"the end of the world.\"</td>\n",
              "      <td>auf dem hauptcampus der universität pennsylvania haben der professor für lateinamerikanische geschichte matthew restall und seine kollegin amara solari, eine beisitzende professorin für kunstgeschichte und anthropologie ein team gebildet, um einen kurs mit der schlichten bezeichnung \"das ende der welt\" anzubieten.</td>\n",
              "      <td>True</td>\n",
              "    </tr>\n",
              "    <tr>\n",
              "      <th>52974</th>\n",
              "      <td>\"we don't add '2012' so we always have the option of running the course again, if the world doesn't come to an end\" said restall.</td>\n",
              "      <td>\"wir nehmen 2012 nicht auf, damit wir immer die option behalten, den kurs neu abhalten zu können, für den fall, dass die welt nicht untergeht\", sagte restall.</td>\n",
              "      <td>True</td>\n",
              "    </tr>\n",
              "    <tr>\n",
              "      <th>52975</th>\n",
              "      <td>despite the \"impending doom,\" students have to study, undertake projects and take final exams.</td>\n",
              "      <td>trotz des \"bevorstehenden untergangs\" müssen die studenten studieren, projekte erstellen und an abschlussprüfungen teilnehmen.</td>\n",
              "      <td>True</td>\n",
              "    </tr>\n",
              "    <tr>\n",
              "      <th>52976</th>\n",
              "      <td>at penn state, the final exam will be taken on the eve of the apocalypse, which leaves students no choice but to work \"until the very night the world is supposed to end\" said restall.</td>\n",
              "      <td>in penn state wird die abschlussprüfung am vorabend der apokalypse durchgeführt, weshalb die studenten keine andere chance haben, als \"bis zur nacht weiterzuarbeiten, wo die welt angeblich zu ende geht\", sagte restall.</td>\n",
              "      <td>True</td>\n",
              "    </tr>\n",
              "    <tr>\n",
              "      <th>52977</th>\n",
              "      <td>the courses proved quite popular.</td>\n",
              "      <td>die kurse waren sehr beliebt.</td>\n",
              "      <td>True</td>\n",
              "    </tr>\n",
              "    <tr>\n",
              "      <th>52978</th>\n",
              "      <td>\"it was fully booked within two hours\" said restall, on his course for students with high averages, which was filled with 35 students.</td>\n",
              "      <td>\"in zwei stunden gab es keine plätze mehr\" sagte restall über seinen kurs für studenten mit hohem durchschnitt, der sich mit 35 studenten füllte.</td>\n",
              "      <td>True</td>\n",
              "    </tr>\n",
              "    <tr>\n",
              "      <th>52979</th>\n",
              "      <td>we received emails for weeks and weeks before the start of the term, from people asking if there were any places.</td>\n",
              "      <td>wochenlang vor semesterbeginn erhielten wir e-mails von studenten, die fragten, ob noch plätze frei seien.</td>\n",
              "      <td>True</td>\n",
              "    </tr>\n",
              "    <tr>\n",
              "      <th>52980</th>\n",
              "      <td>students, meanwhile, say the course is one of the most interesting around.</td>\n",
              "      <td>die studenten ihrerseits versichern, dass der kurs zu den interessantesten zählt.</td>\n",
              "      <td>True</td>\n",
              "    </tr>\n",
              "    <tr>\n",
              "      <th>52981</th>\n",
              "      <td>\"i find it fascinating to see what people do to console themselves\" said bridgid robinson, a 23-year-old post-graduate religion and sociology student from haddonfield, new jersey, at rutgers-camden.</td>\n",
              "      <td>\"es ist faszinierend zu sehen, was die leute tun, um sich selbst zu trösten\", sagte bridgid robinson, eine 23-jährige studentin in rutgers-camden für religion und soziologie aus haddonfield, new jersey.</td>\n",
              "      <td>True</td>\n",
              "    </tr>\n",
              "    <tr>\n",
              "      <th>52982</th>\n",
              "      <td>and the apocalyptic, secular or religious mentality is just a matter consolation or a lack of it.</td>\n",
              "      <td>die apokalyptische sekten- oder religionsmentalität ist eigentlich nur eine frage von trost oder dessen fehlen.</td>\n",
              "      <td>True</td>\n",
              "    </tr>\n",
              "    <tr>\n",
              "      <th>52983</th>\n",
              "      <td>will wekesa, a 25-year-old post-graduate psychology and nursing student, said he had seen all the apocalyptic movies.</td>\n",
              "      <td>der 25-jährige student will wekesa für psychologie und krankenpflege erklärt, alle apokalyptischen filme gesehen zu haben.</td>\n",
              "      <td>True</td>\n",
              "    </tr>\n",
              "    <tr>\n",
              "      <th>52984</th>\n",
              "      <td>\"i'd never heard of a class that could teach it\" he said.</td>\n",
              "      <td>\"nie habe ich etwas von einem unterricht gehört, wo dies unterrichtet wird\", gab er an.</td>\n",
              "      <td>True</td>\n",
              "    </tr>\n",
              "    <tr>\n",
              "      <th>52985</th>\n",
              "      <td>i enjoy it.</td>\n",
              "      <td>ich genieße es.</td>\n",
              "      <td>True</td>\n",
              "    </tr>\n",
              "    <tr>\n",
              "      <th>52986</th>\n",
              "      <td>but none of the students interviewed - much less any professor - said they believed in the end date of december 21st.</td>\n",
              "      <td>aber keiner der befragten studenten - und weniger noch ein professor - erklärte, an das letzte datum des 21. dezembers zu glauben.</td>\n",
              "      <td>True</td>\n",
              "    </tr>\n",
              "    <tr>\n",
              "      <th>52987</th>\n",
              "      <td>\"our first project was about the mayan prophecy and to a certain extent we discredited it\" said julie zeglen, a 21-year-old final year student at temple, from west chester.</td>\n",
              "      <td>\"unser erstes projekt behandelte die prophezeiung der mayas, und auf bestimmte art und weise diskreditieren wir sie\", sagte julie zeglen, student im letzten jahr in temple, 21 jahre alt und aus west chester.</td>\n",
              "      <td>True</td>\n",
              "    </tr>\n",
              "    <tr>\n",
              "      <th>52988</th>\n",
              "      <td>the mayans never predicted the end of the world: it is just a key point in the calendar, said restall.</td>\n",
              "      <td>die mayas sagten nie das ende der welt voraus; es handelt sich nur um einen schlüsselpunkt im kalender, sagte restall.</td>\n",
              "      <td>True</td>\n",
              "    </tr>\n",
              "    <tr>\n",
              "      <th>52989</th>\n",
              "      <td>but he said that western culture suffers from apocalyptic anxiety, which goes back several centuries, in which people react to changes around them by predicting the end of the world.</td>\n",
              "      <td>er merkt allerdings an, dass in der westlichen gesellschaft eine apokalyptische angst besteht, die mehrere jahrhunderte zurückführt, als die leute auf änderungen in ihrer umgebung mit der vorhersage des endes der welt reagierten.</td>\n",
              "      <td>True</td>\n",
              "    </tr>\n",
              "    <tr>\n",
              "      <th>52990</th>\n",
              "      <td>the internet has caused a boom in these speculations.</td>\n",
              "      <td>das internet hat diese spekulationen erhöht.</td>\n",
              "      <td>True</td>\n",
              "    </tr>\n",
              "    <tr>\n",
              "      <th>52991</th>\n",
              "      <td>\"in other places, people don't think about it\" he said.</td>\n",
              "      <td>\"anderenorts denken die leute nicht so\", sagt er.</td>\n",
              "      <td>True</td>\n",
              "    </tr>\n",
              "    <tr>\n",
              "      <th>52992</th>\n",
              "      <td>it's mostly in the english-speaking world.</td>\n",
              "      <td>dies ist hauptsächlich in der englischsprechenden welt der fall.</td>\n",
              "      <td>True</td>\n",
              "    </tr>\n",
              "    <tr>\n",
              "      <th>52993</th>\n",
              "      <td>joseph dougherty, a professor of religion at la salle university, who is giving courses in the philippines this year, responded quickly to the question of whether he knew about any courses on the \"end of the world\" there.</td>\n",
              "      <td>joseph dougherty, ein religionsprofessor der universität la salle, der dieses jahr auf den philippinen unterrichtet, antwortet schnell auf die frage, ob er dort einen kurs über das \"ende der welt\" kennen würde.</td>\n",
              "      <td>True</td>\n",
              "    </tr>\n",
              "    <tr>\n",
              "      <th>52994</th>\n",
              "      <td>\"the philippines are not taking part in the end of the world\" he wrote, suggesting an exception of a higher authority.</td>\n",
              "      <td>\"die philippinen beteiligen sich nicht am ende der welt\", schrieb er als andeutung auf eine ausnahme einer höheren instanz.</td>\n",
              "      <td>True</td>\n",
              "    </tr>\n",
              "    <tr>\n",
              "      <th>52995</th>\n",
              "      <td>we have an indulgence from the pope.</td>\n",
              "      <td>wir haben eine begnadigung vom papst.</td>\n",
              "      <td>True</td>\n",
              "    </tr>\n",
              "    <tr>\n",
              "      <th>52996</th>\n",
              "      <td>restall noted that over the years there has been talk of many days of the last judgement, and said that if nothing happens on december 21st, \"people will immediately start thinking of the next date\" or philosophising that december 21st is the beginning of a seven-year period after which the world will end.</td>\n",
              "      <td>restall wies darauf hin, dass über die jahre viele tage vom letzten gericht gesprochen wurde, und sagte, dass wenn am 21. dezember nichts passiert, \"die leute sofort an ein neues datum denken\" oder darüber philosophierten, dass der 21. dezember der beginn einer siebenjährigen periode sei, wonach das ende der welt käme.</td>\n",
              "      <td>True</td>\n",
              "    </tr>\n",
              "    <tr>\n",
              "      <th>52997</th>\n",
              "      <td>students and teachers are taking the date lightly.</td>\n",
              "      <td>studenten und professoren nehmen dieses datum leicht.</td>\n",
              "      <td>True</td>\n",
              "    </tr>\n",
              "    <tr>\n",
              "      <th>52998</th>\n",
              "      <td>some said they plan to go to \"end of the world\" parties.</td>\n",
              "      <td>mehrere sagten, dass sie zu feiern über \"das ende der welt\" gehen möchten.</td>\n",
              "      <td>True</td>\n",
              "    </tr>\n",
              "    <tr>\n",
              "      <th>52999</th>\n",
              "      <td>\"maybe i'll call some friends so we can have a laugh together\" said samira ford, 20-year-old communications student.</td>\n",
              "      <td>\"vielleicht rufe ich ein paar freunde an, damit wir zusammen lachen können\", sagte samira ford, eine 20-jährige studentin für kommunikationen.</td>\n",
              "      <td>True</td>\n",
              "    </tr>\n",
              "  </tbody>\n",
              "</table>\n",
              "<p>53000 rows × 3 columns</p>\n",
              "</div>"
            ],
            "text/plain": [
              "                                                                                                                                                                                                                                                                                                                                                                             en  ... is_valid\n",
              "0                                                                                                                                                                                                       in china, people call it fazhan , or “development,” but in much of rest of the world, it is more commonly described simply as the “china boom,” or the “china miracle.”  ...    False\n",
              "1                                                                                                                                                                                                                                                                                                                                                  such pessimism is warranted.  ...    False\n",
              "2                                                                                                                                                                                                                                                                                                            that is also what, if you take her literally, merkel is doing now.  ...    False\n",
              "3                                                                                                                                                                                                                                                        it proved to be the tipping point, triggering waves of protests by lawyers and other groups in pakistan’s main cities.  ...    False\n",
              "4                                                                                                                                welfare-to-work programs in michigan and wisconsin served as the model for federal welfare reform under president bill clinton, and obamacare is based on massachusetts’ health-care system, introduced under republican governor mitt romney.  ...    False\n",
              "5                                                                                                                                                                                                      the french have been the most insistent that europe has interests that are not identical to america’s – particularly in the middle east, where france has been pro-arab.  ...    False\n",
              "6                                                                                                                                                                                                                                                                                                       in all of these areas, trump has reversed attractive american policies.  ...    False\n",
              "7                                                                                                                                                                                                                                             so far, park, sensing that the electorate trusts her foreign-policy instincts, has kept her north korea cards close to her chest.  ...    False\n",
              "8                                                                                                                                                                                                                        and ronald reagan launched his 1980 campaign near the mississippi town where three civil-rights activists were murdered by white supremacists in 1964.  ...    False\n",
              "9                                                                                                                                                                             the governments that launched emu anticipated that their workers and businesses would eventually be sufficiently mobile and flexible to adjust to economic changes affecting them differentially.  ...    False\n",
              "10                                                                                                                                                                                                                        so china’s cut in imports could not shave more than a few tenths of a percentage point from us gdp, and even that would be spread over several years.  ...    False\n",
              "11                                                                                                                                                                                                                                                                      so the launch of a debate on national identity by president nicolas sarkozy is anything but accidental.  ...    False\n",
              "12                                                                                                                                                                                                                                                         he is off to a good start, having freed the peso from its official peg, reduced taxes, and moved toward freer trade.  ...    False\n",
              "13                                                                                                                                                                                                                                               both big oil and big finance have made major mistakes in recent years, channeling funds into socially destructive investments.  ...    False\n",
              "14                                                                                                                                                                                     the fed, through its control of the money supply, has enormous economic power, and such power can easily be abused for political purposes – say, to generate more jobs in the short run.  ...    False\n",
              "15                                                                                                                                                                                                                                           for decades, academic analysts have been fighting over whether such large-scale family businesses should be considered beneficial.  ...    False\n",
              "16                                                                                                                                      today, more than 260 million children are out of school, and over 500 million boys and girls who do attend are not receiving a quality education, as the international commission on financing global education opportunity discovered.  ...    False\n",
              "17                                                                                                                                                                          they�focus on ending organ trafficking but ignore the time-tested truth that trying to stamp out illicit markets either drives them further underground or causes corruption to�reappear elsewhere.  ...    False\n",
              "18                                                                                                                                                                                                                                                                                                       that the agency was running an operation aimed at harming north korea.  ...    False\n",
              "19     there is a long-standing presumption of “sovereign immunity”: states can be sued only under limited circumstances. but investment agreements like those backed by the us demand that developing countries waive this presumption and permit the adjudication of suits according to procedures that fall far short of those expected in twenty-first-century democracies.  ...    False\n",
              "20                                                                                                                                                                              for some time now america has appeared to be intent on discarding the basic ordering instrument of relations between states - international treaties and the institutions that watch over them.  ...    False\n",
              "21                                                                                                                                                                                                                                                                                        a single rulebook for financial services is being put in place for the single market.  ...    False\n",
              "22                   positive feedback from consumption to production, employment, and income generation – both within countries and across countries via trade channels – could further accelerate the pace of global growth, particularly if monetary policies in most advanced economies remain looser than expected, supporting asset reflation and thus demand and growth.  ...    False\n",
              "23                                                                                                                                                                        amid the chaos of camps, makeshift huts, and destitution, the fight for an important new principle of international aid has begun: even in times of conflict, children must have access to education.  ...    False\n",
              "24                                                                                                                                                                                                                                                                                       the issue of women faculty members, especially in basic sciences, is far more complex.  ...    False\n",
              "25                                                                                                                                                                                                                                                                                 the treaty establishing the icc explicitly states that heads of state do not enjoy immunity.  ...    False\n",
              "26                                                                                                                                                                                                        in a report released in june, the six banks described how they have provided more than $100 billion in climate finance in the four years since joint reporting began.  ...    False\n",
              "27                                                                                                                                                                                                                                                                           fréderic mitterand, the culture minister, spoke of “a scary america that has just shown its face.”  ...    False\n",
              "28                                                                                                                                                                                                                                                                                                      oversight and the power of the purse will be their most powerful tools.  ...    False\n",
              "29                                                                                                                                                                                          after our report is issued in january, secretary-general kofi annan will issue a report to the world in the spring, identifying the practical steps that should be taken this year.  ...    False\n",
              "...                                                                                                                                                                                                                                                                                                                                                                         ...  ...      ...\n",
              "52970                                                                                                                                                                                                                                                                               if nuclear material falls into the hands of terrorists, for example, a war could break out.  ...     True\n",
              "52971                                                                                                                                                                                                                                                      this month students analysed movies with an apocalyptic theme and explored how they compare with real-life examples.  ...     True\n",
              "52972                                                                                                                                                                                                                                                                    \"i've tried to inform students about what is possible, probable, credible and impossible\" said vacker.  ...     True\n",
              "52973                                                                                                           at the main pennsylvania state university campus, latin american history professor matthew restall, and his colleague amara solari, an associate art history and anthropology professor, have teamed up to give a course, called simply \"the end of the world.\"  ...     True\n",
              "52974                                                                                                                                                                                                                                         \"we don't add '2012' so we always have the option of running the course again, if the world doesn't come to an end\" said restall.  ...     True\n",
              "52975                                                                                                                                                                                                                                                                            despite the \"impending doom,\" students have to study, undertake projects and take final exams.  ...     True\n",
              "52976                                                                                                                                                                                   at penn state, the final exam will be taken on the eve of the apocalypse, which leaves students no choice but to work \"until the very night the world is supposed to end\" said restall.  ...     True\n",
              "52977                                                                                                                                                                                                                                                                                                                                         the courses proved quite popular.  ...     True\n",
              "52978                                                                                                                                                                                                                                    \"it was fully booked within two hours\" said restall, on his course for students with high averages, which was filled with 35 students.  ...     True\n",
              "52979                                                                                                                                                                                                                                                         we received emails for weeks and weeks before the start of the term, from people asking if there were any places.  ...     True\n",
              "52980                                                                                                                                                                                                                                                                                                students, meanwhile, say the course is one of the most interesting around.  ...     True\n",
              "52981                                                                                                                                                                    \"i find it fascinating to see what people do to console themselves\" said bridgid robinson, a 23-year-old post-graduate religion and sociology student from haddonfield, new jersey, at rutgers-camden.  ...     True\n",
              "52982                                                                                                                                                                                                                                                                         and the apocalyptic, secular or religious mentality is just a matter consolation or a lack of it.  ...     True\n",
              "52983                                                                                                                                                                                                                                                     will wekesa, a 25-year-old post-graduate psychology and nursing student, said he had seen all the apocalyptic movies.  ...     True\n",
              "52984                                                                                                                                                                                                                                                                                                                 \"i'd never heard of a class that could teach it\" he said.  ...     True\n",
              "52985                                                                                                                                                                                                                                                                                                                                                               i enjoy it.  ...     True\n",
              "52986                                                                                                                                                                                                                                                     but none of the students interviewed - much less any professor - said they believed in the end date of december 21st.  ...     True\n",
              "52987                                                                                                                                                                                              \"our first project was about the mayan prophecy and to a certain extent we discredited it\" said julie zeglen, a 21-year-old final year student at temple, from west chester.  ...     True\n",
              "52988                                                                                                                                                                                                                                                                    the mayans never predicted the end of the world: it is just a key point in the calendar, said restall.  ...     True\n",
              "52989                                                                                                                                                                                    but he said that western culture suffers from apocalyptic anxiety, which goes back several centuries, in which people react to changes around them by predicting the end of the world.  ...     True\n",
              "52990                                                                                                                                                                                                                                                                                                                     the internet has caused a boom in these speculations.  ...     True\n",
              "52991                                                                                                                                                                                                                                                                                                                   \"in other places, people don't think about it\" he said.  ...     True\n",
              "52992                                                                                                                                                                                                                                                                                                                                it's mostly in the english-speaking world.  ...     True\n",
              "52993                                                                                                                                             joseph dougherty, a professor of religion at la salle university, who is giving courses in the philippines this year, responded quickly to the question of whether he knew about any courses on the \"end of the world\" there.  ...     True\n",
              "52994                                                                                                                                                                                                                                                    \"the philippines are not taking part in the end of the world\" he wrote, suggesting an exception of a higher authority.  ...     True\n",
              "52995                                                                                                                                                                                                                                                                                                                                      we have an indulgence from the pope.  ...     True\n",
              "52996                                                       restall noted that over the years there has been talk of many days of the last judgement, and said that if nothing happens on december 21st, \"people will immediately start thinking of the next date\" or philosophising that december 21st is the beginning of a seven-year period after which the world will end.  ...     True\n",
              "52997                                                                                                                                                                                                                                                                                                                        students and teachers are taking the date lightly.  ...     True\n",
              "52998                                                                                                                                                                                                                                                                                                                  some said they plan to go to \"end of the world\" parties.  ...     True\n",
              "52999                                                                                                                                                                                                                                                      \"maybe i'll call some friends so we can have a laugh together\" said samira ford, 20-year-old communications student.  ...     True\n",
              "\n",
              "[53000 rows x 3 columns]"
            ]
          },
          "metadata": {
            "tags": []
          },
          "execution_count": 57
        }
      ]
    },
    {
      "cell_type": "code",
      "metadata": {
        "id": "YKKng_VjXYKx",
        "colab_type": "code",
        "colab": {}
      },
      "source": [
        "df_train_valid.to_csv(path_translation_data + 'news-commentary-v14-50k-train-valid.en-de.csv', index=False)"
      ],
      "execution_count": 0,
      "outputs": []
    },
    {
      "cell_type": "code",
      "metadata": {
        "id": "R4ZOYB1xZ789",
        "colab_type": "code",
        "colab": {}
      },
      "source": [
        "df_train_valid_50k = pd.read_csv(path_translation_data + 'news-commentary-v14-50k-train-valid.en-de.csv')"
      ],
      "execution_count": 0,
      "outputs": []
    },
    {
      "cell_type": "code",
      "metadata": {
        "id": "cEIhnwtEag9Q",
        "colab_type": "code",
        "outputId": "cb66b70e-ceb8-4864-b0a0-9b03704e00ed",
        "colab": {
          "base_uri": "https://localhost:8080/",
          "height": 90
        }
      },
      "source": [
        "df_train_valid_50k.isnull().any()"
      ],
      "execution_count": 0,
      "outputs": [
        {
          "output_type": "execute_result",
          "data": {
            "text/plain": [
              "en          False\n",
              "de          False\n",
              "is_valid    False\n",
              "dtype: bool"
            ]
          },
          "metadata": {
            "tags": []
          },
          "execution_count": 65
        }
      ]
    },
    {
      "cell_type": "markdown",
      "metadata": {
        "id": "NmYzcPvIZgDQ",
        "colab_type": "text"
      },
      "source": [
        "## Necessary methods for creating a DataBunch for a Machine Translation model"
      ]
    },
    {
      "cell_type": "code",
      "metadata": {
        "id": "5xoiPXk6Wcg-",
        "colab_type": "code",
        "colab": {}
      },
      "source": [
        "def seq2seq_collate(samples, pad_idx=1, pad_first=True, backwards=False):\n",
        "    \"Function that collect samples and adds padding. Flips token order if needed\"\n",
        "    samples = to_data(samples) #https://docs.fast.ai/torch_core.html#to_data #to their int value?\n",
        "    max_len_x,max_len_y = max([len(s[0]) for s in samples]),max([len(s[1]) for s in samples]) #max length of a sentence in the dataset\n",
        "    res_x = torch.zeros(len(samples), max_len_x).long() + pad_idx #samples x max_len of whole data \n",
        "    res_y = torch.zeros(len(samples), max_len_y).long() + pad_idx\n",
        "    if backwards: pad_first = not pad_first\n",
        "    for i,s in enumerate(samples): #go through every sample\n",
        "        if pad_first: #padding tokens first then emb\n",
        "            res_x[i,-len(s[0]):],res_y[i,-len(s[1]):] = LongTensor(s[0]),LongTensor(s[1]) #row 0, 1, 2 (one sentence in each language each)\n",
        "        else:         \n",
        "            res_x[i,:len(s[0]):],res_y[i,:len(s[1]):] = LongTensor(s[0]),LongTensor(s[1])\n",
        "    if backwards: res_x,res_y = res_x.flip(1),res_y.flip(1)\n",
        "    return res_x,res_y"
      ],
      "execution_count": 0,
      "outputs": []
    },
    {
      "cell_type": "code",
      "metadata": {
        "id": "IQB9EqKgWchL",
        "colab_type": "code",
        "colab": {}
      },
      "source": [
        "class Seq2SeqDataBunch(TextDataBunch):\n",
        "    \"Create a `TextDataBunch` suitable for training an RNN classifier.\"\n",
        "    @classmethod\n",
        "    def create(cls, train_ds, valid_ds, test_ds=None, path:PathOrStr='.', bs:int=32, val_bs:int=None, pad_idx=1,\n",
        "               dl_tfms=None, pad_first=False, device:torch.device=None, no_check:bool=False, backwards:bool=False, **dl_kwargs) -> DataBunch:\n",
        "        \"Function that transform the `datasets` in a `DataBunch` for classification. Passes `**dl_kwargs` on to `DataLoader()`\"\n",
        "        datasets = cls._init_ds(train_ds, valid_ds, test_ds)\n",
        "        val_bs = ifnone(val_bs, bs)\n",
        "        collate_fn = partial(seq2seq_collate, pad_idx=pad_idx, pad_first=pad_first, backwards=backwards)\n",
        "        train_sampler = SortishSampler(datasets[0].x, key=lambda t: len(datasets[0][t][0].data), bs=bs//2)\n",
        "        train_dl = DataLoader(datasets[0], batch_size=bs, sampler=train_sampler, drop_last=True, **dl_kwargs)\n",
        "        dataloaders = [train_dl]\n",
        "        for ds in datasets[1:]:\n",
        "            lengths = [len(t) for t in ds.x.items]\n",
        "            sampler = SortSampler(ds.x, key=lengths.__getitem__)\n",
        "            dataloaders.append(DataLoader(ds, batch_size=val_bs, sampler=sampler, **dl_kwargs))\n",
        "        return cls(*dataloaders, path=path, device=device, collate_fn=collate_fn, no_check=no_check)"
      ],
      "execution_count": 0,
      "outputs": []
    },
    {
      "cell_type": "code",
      "metadata": {
        "id": "flUxRvu2WchS",
        "colab_type": "code",
        "colab": {}
      },
      "source": [
        "class Seq2SeqTextList(TextList):\n",
        "    _bunch = Seq2SeqDataBunch\n",
        "    _label_cls = TextList"
      ],
      "execution_count": 0,
      "outputs": []
    },
    {
      "cell_type": "markdown",
      "metadata": {
        "id": "IxYolpM3B-mP",
        "colab_type": "text"
      },
      "source": [
        "## Option 1:"
      ]
    },
    {
      "cell_type": "markdown",
      "metadata": {
        "id": "jpXSs6mHmJRj",
        "colab_type": "text"
      },
      "source": [
        "Use `newstest2013` as own validation set"
      ]
    },
    {
      "cell_type": "markdown",
      "metadata": {
        "id": "WAphHygt1lHV",
        "colab_type": "text"
      },
      "source": [
        "https://docs.fast.ai/data_block.html#Step-1:-Provide-inputs"
      ]
    },
    {
      "cell_type": "markdown",
      "metadata": {
        "id": "GI_mV9Ty1nsB",
        "colab_type": "text"
      },
      "source": [
        "1.   Step 1: Provide inputs\n",
        "2.   Step 2: Split the data between the training and the validation set\n",
        "3.   Step 3: Label the inputs\n",
        "4.   optional: add test set: https://docs.fast.ai/data_block.html#LabelLists.add_test_folder\n",
        "\n",
        "\n",
        "\n"
      ]
    },
    {
      "cell_type": "markdown",
      "metadata": {
        "id": "hWXrp4RAmi0h",
        "colab_type": "text"
      },
      "source": [
        "**split_from_df()** looks up the `is_valid` column of our dataframe and separates training and validation set"
      ]
    },
    {
      "cell_type": "code",
      "metadata": {
        "id": "sOQPye5GWchV",
        "colab_type": "code",
        "colab": {}
      },
      "source": [
        "src = (Seq2SeqTextList.from_df(df_train_valid_50k, path=path_translation_data, cols='en') #Step 1\n",
        "       .split_from_df() #Step 2\n",
        "       .label_from_df(cols='de', label_cls=TextList)) #Step 3"
      ],
      "execution_count": 0,
      "outputs": []
    },
    {
      "cell_type": "code",
      "metadata": {
        "id": "kZlh-ufzep6R",
        "colab_type": "code",
        "outputId": "6224c59d-8f84-4b2c-a445-40da2be6b406",
        "colab": {
          "base_uri": "https://localhost:8080/",
          "height": 346
        }
      },
      "source": [
        "src"
      ],
      "execution_count": 0,
      "outputs": [
        {
          "output_type": "execute_result",
          "data": {
            "text/plain": [
              "LabelLists;\n",
              "\n",
              "Train: LabelList (50000 items)\n",
              "x: Seq2SeqTextList\n",
              "xxbos in china , people call it xxunk , or “ development , ” but in much of rest of the world , it is more commonly described simply as the “ china boom , ” or the “ china miracle . ”,xxbos such pessimism is warranted .,xxbos that is also what , if you take her literally , merkel is doing now .,xxbos it proved to be the tipping point , triggering waves of protests by lawyers and other groups in pakistan ’s main cities .,xxbos welfare - to - work programs in michigan and xxunk served as the model for federal welfare reform under president bill clinton , and obamacare is based on massachusetts ’ health - care system , introduced under republican governor mitt romney .\n",
              "y: TextList\n",
              "xxbos in china sagt man dazu xxunk , also „ entwicklung ” ,    aber in den meisten teilen der welt wird dieses phänomen einfach als „ china - boom “ oder „ chinesisches wunder “ bezeichnet .,xxbos ein derartiger pessimismus ist gerechtfertigt .,xxbos dasselbe tut derzeit auch merkel , wenn man sie beim wort nimmt .,xxbos der vorfall erwies sich als wendepunkt , der wellen des xxunk von anwälten und anderen gruppen in pakistans größten städten auslöste .,xxbos xxunk in michigan und xxunk dienten als modell für die staatliche xxunk unter präsident bill clinton , und das xxunk „ obamacare “ baut auf dem gesundheitssystem von massachusetts auf , das unter dem republikanischen gouverneur mitt romney eingeführt wurde .\n",
              "Path: /content/gdrive/My Drive/data/translation/data;\n",
              "\n",
              "Valid: LabelList (3000 items)\n",
              "x: Seq2SeqTextList\n",
              "xxbos a republican strategy to counter the re - election of obama,xxbos republican leaders justified their policy by the need to combat electoral fraud .,xxbos however , the brennan centre considers this a myth , stating that electoral fraud is xxunk in the united states than the number of people killed by xxunk .,xxbos indeed , republican lawyers identified only 300 cases of electoral fraud in the united states in a decade .,xxbos one thing is certain : these new provisions will have a negative impact on voter turn - out .\n",
              "y: TextList\n",
              "xxbos eine republikanische strategie , um der wiederwahl von obama entgegenzutreten,xxbos die führungskräfte der republikaner rechtfertigen ihre politik mit der notwendigkeit , den wahlbetrug zu bekämpfen .,xxbos allerdings hält das xxunk center letzteres für einen mythos , indem es bekräftigt , dass der wahlbetrug in den usa seltener ist als die anzahl der vom xxunk xxunk menschen .,xxbos die rechtsanwälte der republikaner haben in 10 jahren in den usa übrigens nur 300 fälle von wahlbetrug verzeichnet .,xxbos eins ist sicher : diese neuen bestimmungen werden sich negativ auf die wahlbeteiligung auswirken .\n",
              "Path: /content/gdrive/My Drive/data/translation/data;\n",
              "\n",
              "Test: None"
            ]
          },
          "metadata": {
            "tags": []
          },
          "execution_count": 89
        }
      ]
    },
    {
      "cell_type": "markdown",
      "metadata": {
        "id": "bInMkNcIw7Hb",
        "colab_type": "text"
      },
      "source": [
        "Length (number of tokens) of a sentence for the 90th percentile (en=43.0, en=44.0)"
      ]
    },
    {
      "cell_type": "code",
      "metadata": {
        "id": "BgGQY_zTWchZ",
        "colab_type": "code",
        "outputId": "ead5f2d4-0a87-4ae8-f64c-c154a44644b4",
        "colab": {
          "base_uri": "https://localhost:8080/",
          "height": 35
        }
      },
      "source": [
        "np.percentile([len(o) for o in src.train.x.items] + [len(o) for o in src.valid.x.items], 90)"
      ],
      "execution_count": 0,
      "outputs": [
        {
          "output_type": "execute_result",
          "data": {
            "text/plain": [
              "43.0"
            ]
          },
          "metadata": {
            "tags": []
          },
          "execution_count": 90
        }
      ]
    },
    {
      "cell_type": "code",
      "metadata": {
        "id": "Jkyp8wCpWchc",
        "colab_type": "code",
        "outputId": "cff11233-e27f-451f-d6dc-116bada9184b",
        "colab": {
          "base_uri": "https://localhost:8080/",
          "height": 35
        }
      },
      "source": [
        "np.percentile([len(o) for o in src.train.y.items] + [len(o) for o in src.valid.y.items], 90)"
      ],
      "execution_count": 0,
      "outputs": [
        {
          "output_type": "execute_result",
          "data": {
            "text/plain": [
              "44.0"
            ]
          },
          "metadata": {
            "tags": []
          },
          "execution_count": 91
        }
      ]
    },
    {
      "cell_type": "markdown",
      "metadata": {
        "id": "OYUEaNcVWche",
        "colab_type": "text"
      },
      "source": [
        "For faster training and better accuracy (the longer a sentence the worse the generated translation tend to be), we remove the examples that have 40 tokens long. You can go lower than 40 of course (I do 25 in Option 2 below for example)"
      ]
    },
    {
      "cell_type": "code",
      "metadata": {
        "id": "8G0F7SREWche",
        "colab_type": "code",
        "colab": {}
      },
      "source": [
        "src = src.filter_by_func(lambda x,y: len(x) > 40 or len(y) > 40)"
      ],
      "execution_count": 0,
      "outputs": []
    },
    {
      "cell_type": "code",
      "metadata": {
        "id": "fGTRINLWWchg",
        "colab_type": "code",
        "outputId": "385e33a1-c5ba-4b41-feb5-68c35c8b37bb",
        "colab": {
          "base_uri": "https://localhost:8080/",
          "height": 35
        }
      },
      "source": [
        "len(src.train), len(src.valid)"
      ],
      "execution_count": 0,
      "outputs": [
        {
          "output_type": "execute_result",
          "data": {
            "text/plain": [
              "(41477, 2677)"
            ]
          },
          "metadata": {
            "tags": []
          },
          "execution_count": 98
        }
      ]
    },
    {
      "cell_type": "code",
      "metadata": {
        "scrolled": true,
        "id": "loJbnAiKWchi",
        "colab_type": "code",
        "colab": {}
      },
      "source": [
        "data = src.databunch()"
      ],
      "execution_count": 0,
      "outputs": []
    },
    {
      "cell_type": "code",
      "metadata": {
        "id": "MtSFVfALWchk",
        "colab_type": "code",
        "colab": {}
      },
      "source": [
        "data.save(\"db1_41k\")"
      ],
      "execution_count": 0,
      "outputs": []
    },
    {
      "cell_type": "markdown",
      "metadata": {
        "id": "t95uJf5PnSdw",
        "colab_type": "text"
      },
      "source": [
        "## Option 2:"
      ]
    },
    {
      "cell_type": "markdown",
      "metadata": {
        "id": "dXiwDr1AnWNh",
        "colab_type": "text"
      },
      "source": [
        "We create our validation set from our training set"
      ]
    },
    {
      "cell_type": "code",
      "metadata": {
        "id": "oKiQrO31tPkF",
        "colab_type": "code",
        "colab": {}
      },
      "source": [
        "df_train = pd.read_csv(path_translation_data + 'news-commentary-v14.en-de.csv')"
      ],
      "execution_count": 0,
      "outputs": []
    },
    {
      "cell_type": "code",
      "metadata": {
        "id": "rIzST__gtPYx",
        "colab_type": "code",
        "outputId": "7148c8d0-6bd1-48b7-c7a7-73266a4d84bc",
        "colab": {
          "base_uri": "https://localhost:8080/",
          "height": 72
        }
      },
      "source": [
        "df_train.isnull().any()"
      ],
      "execution_count": 0,
      "outputs": [
        {
          "output_type": "execute_result",
          "data": {
            "text/plain": [
              "en    False\n",
              "de    False\n",
              "dtype: bool"
            ]
          },
          "metadata": {
            "tags": []
          },
          "execution_count": 11
        }
      ]
    },
    {
      "cell_type": "code",
      "metadata": {
        "id": "GluonE0utprs",
        "colab_type": "code",
        "colab": {}
      },
      "source": [
        "df_train['en'] = df_train['en'].apply(lambda x:x.lower())\n",
        "df_train['de'] = df_train['de'].apply(lambda x:x.lower())"
      ],
      "execution_count": 0,
      "outputs": []
    },
    {
      "cell_type": "code",
      "metadata": {
        "id": "_NNEFVSytr71",
        "colab_type": "code",
        "outputId": "a33c9671-7fd9-47be-ed2a-4241d4f9645e",
        "colab": {
          "base_uri": "https://localhost:8080/",
          "height": 35
        }
      },
      "source": [
        "len(df_train)"
      ],
      "execution_count": 0,
      "outputs": [
        {
          "output_type": "execute_result",
          "data": {
            "text/plain": [
              "329167"
            ]
          },
          "metadata": {
            "tags": []
          },
          "execution_count": 13
        }
      ]
    },
    {
      "cell_type": "code",
      "metadata": {
        "id": "oL4S5LeXt7n_",
        "colab_type": "code",
        "colab": {}
      },
      "source": [
        "pd.set_option('max_colwidth', 800)"
      ],
      "execution_count": 0,
      "outputs": []
    },
    {
      "cell_type": "code",
      "metadata": {
        "id": "J1MLGt_HtugM",
        "colab_type": "code",
        "outputId": "3af77a5c-5e0b-4d85-ad85-e73cbd2d70fc",
        "colab": {
          "base_uri": "https://localhost:8080/",
          "height": 319
        }
      },
      "source": [
        "df_train.tail()"
      ],
      "execution_count": 0,
      "outputs": [
        {
          "output_type": "execute_result",
          "data": {
            "text/html": [
              "<div>\n",
              "<style scoped>\n",
              "    .dataframe tbody tr th:only-of-type {\n",
              "        vertical-align: middle;\n",
              "    }\n",
              "\n",
              "    .dataframe tbody tr th {\n",
              "        vertical-align: top;\n",
              "    }\n",
              "\n",
              "    .dataframe thead th {\n",
              "        text-align: right;\n",
              "    }\n",
              "</style>\n",
              "<table border=\"1\" class=\"dataframe\">\n",
              "  <thead>\n",
              "    <tr style=\"text-align: right;\">\n",
              "      <th></th>\n",
              "      <th>en</th>\n",
              "      <th>de</th>\n",
              "    </tr>\n",
              "  </thead>\n",
              "  <tbody>\n",
              "    <tr>\n",
              "      <th>329162</th>\n",
              "      <td>their achievement remains one of the greatest in recent history.</td>\n",
              "      <td>das bleibt eine der größten errungenschaften in der jüngeren geschichte.</td>\n",
              "    </tr>\n",
              "    <tr>\n",
              "      <th>329163</th>\n",
              "      <td>at the same time, zuma’s revolutionary generation still seems uneasy leading south africa in a post-apartheid era that is now 15 years old.</td>\n",
              "      <td>gleichzeitig scheint sich zumas revolutionäre generation mit der führung südafrikas in der nun seit 15 jahren dauernden ära nach der apartheid noch immer unwohl zu fühlen.</td>\n",
              "    </tr>\n",
              "    <tr>\n",
              "      <th>329164</th>\n",
              "      <td>in a region that reveres the elderly, zuma’s attachment to his rural traditions must be matched by an equal openness to the appetites of the country’s youth.</td>\n",
              "      <td>in einer region, wo die älteren menschen sehr verehrt werden, muss zumas bindung an landestypische traditionen eine gleichwertige offenheit gegenüber den bedürfnissen der jugend des landes gegenüberstehen.</td>\n",
              "    </tr>\n",
              "    <tr>\n",
              "      <th>329165</th>\n",
              "      <td>three in ten south africans are younger than 15, meaning that they did not live a day under apartheid.</td>\n",
              "      <td>drei von zehn südafrikanern sind jünger als 15 und das bedeutet, dass sie nicht einen tag unter der apartheid gelebt haben.</td>\n",
              "    </tr>\n",
              "    <tr>\n",
              "      <th>329166</th>\n",
              "      <td>somehow zuma must find a way to honor his own generation’s commitment to racial justice and national liberation, while empowering the masses who daily suffer the sting of class differences and yearn for material gain.</td>\n",
              "      <td>irgendwie muss zuma einen weg finden, einerseits das engagement seiner generation hinsichtlich ethnischer gerechtigkeit und nationaler befreiung zu würdigen und andererseits den massen, die täglich unter klassenunterschieden leiden und sich nach materiellen verbesserungen sehnen, mehr mitwirkungsmöglichkeiten einzuräumen.</td>\n",
              "    </tr>\n",
              "  </tbody>\n",
              "</table>\n",
              "</div>"
            ],
            "text/plain": [
              "                                                                                                                                                                                                                               en                                                                                                                                                                                                                                                                                                                                   de\n",
              "329162                                                                                                                                                           their achievement remains one of the greatest in recent history.                                                                                                                                                                                                                                                             das bleibt eine der größten errungenschaften in der jüngeren geschichte.\n",
              "329163                                                                                at the same time, zuma’s revolutionary generation still seems uneasy leading south africa in a post-apartheid era that is now 15 years old.                                                                                                                                                          gleichzeitig scheint sich zumas revolutionäre generation mit der führung südafrikas in der nun seit 15 jahren dauernden ära nach der apartheid noch immer unwohl zu fühlen.\n",
              "329164                                                              in a region that reveres the elderly, zuma’s attachment to his rural traditions must be matched by an equal openness to the appetites of the country’s youth.                                                                                                                        in einer region, wo die älteren menschen sehr verehrt werden, muss zumas bindung an landestypische traditionen eine gleichwertige offenheit gegenüber den bedürfnissen der jugend des landes gegenüberstehen.\n",
              "329165                                                                                                                     three in ten south africans are younger than 15, meaning that they did not live a day under apartheid.                                                                                                                                                                                                          drei von zehn südafrikanern sind jünger als 15 und das bedeutet, dass sie nicht einen tag unter der apartheid gelebt haben.\n",
              "329166  somehow zuma must find a way to honor his own generation’s commitment to racial justice and national liberation, while empowering the masses who daily suffer the sting of class differences and yearn for material gain.  irgendwie muss zuma einen weg finden, einerseits das engagement seiner generation hinsichtlich ethnischer gerechtigkeit und nationaler befreiung zu würdigen und andererseits den massen, die täglich unter klassenunterschieden leiden und sich nach materiellen verbesserungen sehnen, mehr mitwirkungsmöglichkeiten einzuräumen."
            ]
          },
          "metadata": {
            "tags": []
          },
          "execution_count": 15
        }
      ]
    },
    {
      "cell_type": "markdown",
      "metadata": {
        "id": "VUQjt6wJnfEH",
        "colab_type": "text"
      },
      "source": [
        "**split_from_rand_pct** takes a percentage(valid_pct = 0.2 (default)) from our training set as validation set."
      ]
    },
    {
      "cell_type": "code",
      "metadata": {
        "id": "QV6mAhWHt-x_",
        "colab_type": "code",
        "colab": {}
      },
      "source": [
        "src = (Seq2SeqTextList.from_df(df_train, path=path_translation_data, cols='en') #Step 1\n",
        "       .split_by_rand_pct(valid_pct=0.1,seed=42) #Step 2\n",
        "       .label_from_df(cols='de', label_cls=TextList)) #Step 3"
      ],
      "execution_count": 0,
      "outputs": []
    },
    {
      "cell_type": "code",
      "metadata": {
        "id": "rqzEaBMvwrPC",
        "colab_type": "code",
        "outputId": "255033c2-64d6-44e8-f1f8-5f602d089a31",
        "colab": {
          "base_uri": "https://localhost:8080/",
          "height": 163
        }
      },
      "source": [
        "src.train.x.items[:5]"
      ],
      "execution_count": 0,
      "outputs": [
        {
          "output_type": "execute_result",
          "data": {
            "text/plain": [
              "array([array([   2,  157, 5307, 1546,  101]),\n",
              "       array([   2, 4244, 6542,   24,   23,   32,  361,   62,  856,   13,   33,   16, 2614, 4883,   81,    9,  426,   12,\n",
              "       1546,   11]),\n",
              "       array([    2,   146,   160,  1290,    10,  3065,   737,  5196, 21369,    14, 26370, 26371,   355, 26372, 24364,    19,\n",
              "           0, 14099,  6297, 14881,   136,  2466,    10, 13732,  4913,   116,  1546,    20,   454,    11]),\n",
              "       array([  2,  48, 290, 322, 457,  23, 101]),\n",
              "       array([   2,  169,   38, 5628, 2459,   10,    9,  317,   12, 1546,   32, 2026,  119,  184,  372,   11])],\n",
              "      dtype=object)"
            ]
          },
          "metadata": {
            "tags": []
          },
          "execution_count": 17
        }
      ]
    },
    {
      "cell_type": "code",
      "metadata": {
        "id": "84p3GPPBwy6o",
        "colab_type": "code",
        "outputId": "e0fcc1e7-682a-47b1-d0bb-ac01078652bd",
        "colab": {
          "base_uri": "https://localhost:8080/",
          "height": 35
        }
      },
      "source": [
        "len(src.train.x.items[0])"
      ],
      "execution_count": 0,
      "outputs": [
        {
          "output_type": "execute_result",
          "data": {
            "text/plain": [
              "5"
            ]
          },
          "metadata": {
            "tags": []
          },
          "execution_count": 18
        }
      ]
    },
    {
      "cell_type": "code",
      "metadata": {
        "id": "fkkUao3x0TQP",
        "colab_type": "code",
        "outputId": "e401fa42-9ea6-4474-cbd2-12364f67ba89",
        "colab": {
          "base_uri": "https://localhost:8080/",
          "height": 35
        }
      },
      "source": [
        "src.train.x[0]"
      ],
      "execution_count": 0,
      "outputs": [
        {
          "output_type": "execute_result",
          "data": {
            "text/plain": [
              "Text xxbos $ 10,000 gold ?"
            ]
          },
          "metadata": {
            "tags": []
          },
          "execution_count": 19
        }
      ]
    },
    {
      "cell_type": "code",
      "metadata": {
        "id": "TFQBxd8NxNzT",
        "colab_type": "code",
        "outputId": "77ab6a4d-9ea1-443b-be4b-a4b055a531c6",
        "colab": {
          "base_uri": "https://localhost:8080/",
          "height": 35
        }
      },
      "source": [
        "np.percentile([len(o) for o in src.train.x.items] + [len(o) for o in src.valid.x.items], 90)"
      ],
      "execution_count": 0,
      "outputs": [
        {
          "output_type": "execute_result",
          "data": {
            "text/plain": [
              "43.0"
            ]
          },
          "metadata": {
            "tags": []
          },
          "execution_count": 20
        }
      ]
    },
    {
      "cell_type": "code",
      "metadata": {
        "id": "2IvdvtEGxTfB",
        "colab_type": "code",
        "outputId": "d75adb96-8ae5-4b87-d6b5-b8c4d014afe6",
        "colab": {
          "base_uri": "https://localhost:8080/",
          "height": 35
        }
      },
      "source": [
        "np.percentile([len(o) for o in src.train.y.items] + [len(o) for o in src.valid.y.items], 90)"
      ],
      "execution_count": 0,
      "outputs": [
        {
          "output_type": "execute_result",
          "data": {
            "text/plain": [
              "44.0"
            ]
          },
          "metadata": {
            "tags": []
          },
          "execution_count": 21
        }
      ]
    },
    {
      "cell_type": "markdown",
      "metadata": {
        "id": "KgzHL_ARyI8N",
        "colab_type": "text"
      },
      "source": [
        "For even more efficient training, let's just keep the sentences with less than < 25 tokens (in Option 1 we just removed sentences with 40 tokens which is probably still too long):"
      ]
    },
    {
      "cell_type": "code",
      "metadata": {
        "id": "IDixmJ4jyTKQ",
        "colab_type": "code",
        "colab": {}
      },
      "source": [
        "src_2 = src.filter_by_func(lambda x,y: len(x) > 25 or len(y) > 25)"
      ],
      "execution_count": 0,
      "outputs": []
    },
    {
      "cell_type": "code",
      "metadata": {
        "id": "S9wAzGFLyhbq",
        "colab_type": "code",
        "outputId": "0f47cbfa-bf87-4f61-b14a-f52a213aa1e7",
        "colab": {
          "base_uri": "https://localhost:8080/",
          "height": 35
        }
      },
      "source": [
        "len(src_2.train), len(src_2.valid)"
      ],
      "execution_count": 0,
      "outputs": [
        {
          "output_type": "execute_result",
          "data": {
            "text/plain": [
              "(137400, 15335)"
            ]
          },
          "metadata": {
            "tags": []
          },
          "execution_count": 23
        }
      ]
    },
    {
      "cell_type": "code",
      "metadata": {
        "id": "9RU81aS_2uvZ",
        "colab_type": "code",
        "colab": {}
      },
      "source": [
        "data = src_2.databunch()"
      ],
      "execution_count": 0,
      "outputs": []
    },
    {
      "cell_type": "code",
      "metadata": {
        "id": "GRm95juU2-db",
        "colab_type": "code",
        "outputId": "b6f5e2a4-3c25-4517-f4b7-6022a6afa7c3",
        "colab": {
          "base_uri": "https://localhost:8080/",
          "height": 285
        }
      },
      "source": [
        "data.show_batch()"
      ],
      "execution_count": 0,
      "outputs": [
        {
          "output_type": "display_data",
          "data": {
            "text/html": [
              "<table border=\"1\" class=\"dataframe\">\n",
              "  <thead>\n",
              "    <tr style=\"text-align: right;\">\n",
              "      <th>text</th>\n",
              "      <th>target</th>\n",
              "    </tr>\n",
              "  </thead>\n",
              "  <tbody>\n",
              "    <tr>\n",
              "      <td>xxbos they are suffering huge financial losses by boycotting the courts , and yet they are determined that the chief justice must be reinstated .</td>\n",
              "      <td>xxbos durch ihren xxunk erleiden sie xxunk finanzielle verluste und dennoch halten sie unbeirrt daran fest , dass der höchstrichter wieder eingesetzt werden muss .</td>\n",
              "    </tr>\n",
              "    <tr>\n",
              "      <td>xxbos of the 14 indicators of progress associated with the primary gender equity goal , sdg 5 , most countries are measuring just three .</td>\n",
              "      <td>xxbos von den 14 xxunk , die dem primärziel der gleichberechtigung , sdg 5 , zugeordnet sind , messen die meisten länder lediglich 3 .</td>\n",
              "    </tr>\n",
              "    <tr>\n",
              "      <td>xxbos germany , in particular , feels that it has no reason to share its imf representation with other , fiscally weaker eurozone members .</td>\n",
              "      <td>xxbos deutschland insbesondere sieht keinen anlass , seine iwf - vertretung mit anderen , fiskalisch schwächeren mitgliedern der eurozone zu teilen .</td>\n",
              "    </tr>\n",
              "    <tr>\n",
              "      <td>xxbos needless to say , the ability to comprehend change has become indispensable at a time when the world is experiencing tectonic geopolitical shifts .</td>\n",
              "      <td>xxbos die fähigkeit , wandel zu erkennen ist natürlich umso unverzichtbarer in einer zeit , in der die welt tektonische geopolitische veränderungen erlebt .</td>\n",
              "    </tr>\n",
              "    <tr>\n",
              "      <td>xxbos and yet m5s probably can not achieve a parliamentary majority , and it has vowed not to enter into coalitions with other parties .</td>\n",
              "      <td>xxbos dennoch wird die m5s wahrscheinlich keine parlamentsmehrheit erringen und sie versprach auch , nicht in koalitionen mit anderen parteien einzutreten .</td>\n",
              "    </tr>\n",
              "  </tbody>\n",
              "</table>"
            ],
            "text/plain": [
              "<IPython.core.display.HTML object>"
            ]
          },
          "metadata": {
            "tags": []
          }
        }
      ]
    },
    {
      "cell_type": "markdown",
      "metadata": {
        "id": "wSMFEOMIrfgA",
        "colab_type": "text"
      },
      "source": [
        "Vocabulary size for English (33272 tokens) and German (60000 tokens)."
      ]
    },
    {
      "cell_type": "code",
      "metadata": {
        "id": "exjsgo_Z3JSC",
        "colab_type": "code",
        "outputId": "97e07f0b-5200-44ce-d7f1-05f74c72ef52",
        "colab": {
          "base_uri": "https://localhost:8080/",
          "height": 35
        }
      },
      "source": [
        "len(data.x.vocab.itos), len(data.y.vocab.itos)"
      ],
      "execution_count": 0,
      "outputs": [
        {
          "output_type": "execute_result",
          "data": {
            "text/plain": [
              "(33272, 60000)"
            ]
          },
          "metadata": {
            "tags": []
          },
          "execution_count": 127
        }
      ]
    },
    {
      "cell_type": "markdown",
      "metadata": {
        "id": "enqjyKi3n8GM",
        "colab_type": "text"
      },
      "source": [
        "**Save the Databunch with 137400 training sentences and  15335 validation sentences which have less than 25 tokens each. We will use this Databunch for our further experiments.**"
      ]
    },
    {
      "cell_type": "code",
      "metadata": {
        "id": "9CJgTLib3o6u",
        "colab_type": "code",
        "colab": {}
      },
      "source": [
        "data.save(\"db1_137k_25sl\")"
      ],
      "execution_count": 0,
      "outputs": []
    },
    {
      "cell_type": "markdown",
      "metadata": {
        "id": "6e1V3wpc4IAo",
        "colab_type": "text"
      },
      "source": [
        "## Save and Load Databunch (137k training size with maximum sentence length 25 tokens)"
      ]
    },
    {
      "cell_type": "code",
      "metadata": {
        "id": "D0OlstPJ4QWz",
        "colab_type": "code",
        "colab": {}
      },
      "source": [
        "data = load_data(path_translation_data, \"db1_137k_25sl\")"
      ],
      "execution_count": 0,
      "outputs": []
    },
    {
      "cell_type": "code",
      "metadata": {
        "id": "WvdXW6fL4qbj",
        "colab_type": "code",
        "outputId": "82f1d4d1-19a8-43c7-cc4f-a432a690e6e1",
        "colab": {
          "base_uri": "https://localhost:8080/",
          "height": 285
        }
      },
      "source": [
        "data.show_batch()"
      ],
      "execution_count": 0,
      "outputs": [
        {
          "output_type": "display_data",
          "data": {
            "text/html": [
              "<table border=\"1\" class=\"dataframe\">\n",
              "  <thead>\n",
              "    <tr style=\"text-align: right;\">\n",
              "      <th>text</th>\n",
              "      <th>target</th>\n",
              "    </tr>\n",
              "  </thead>\n",
              "  <tbody>\n",
              "    <tr>\n",
              "      <td>xxbos for example , better attribution forensics may enhance the role of punishment ; and better defenses through encryption may increase deterrence by denial .</td>\n",
              "      <td>xxbos so könnte etwa eine bessere xxunk die rolle der bestrafung verstärken , und bessere verteidigungsmechanismen durch verschlüsselung könnten die abschreckung durch verhinderung steigern .</td>\n",
              "    </tr>\n",
              "    <tr>\n",
              "      <td>xxbos hamas ’s capture of the gaza strip has created , along with iran , a second radical islamist state in the middle east .</td>\n",
              "      <td>xxbos die machtübernahme i m gazastreifen durch die hamas hat zusätzlich zum iran einen zweiten radikal - islamistischen staat i m nahen osten geschaffen .</td>\n",
              "    </tr>\n",
              "    <tr>\n",
              "      <td>xxbos the basel iii agreement on capital adequacy and other recent reforms still have not ring - fenced trade financing from these potential shocks .</td>\n",
              "      <td>xxbos das basel - iii - übereinkommen zur eigenkapitalausstattung und andere aktuelle reformen haben die handelsfinanzierung bisher noch nicht gegen diese potenziellen erschütterungen isoliert .</td>\n",
              "    </tr>\n",
              "    <tr>\n",
              "      <td>xxbos anyone who portrays the us as a huge loser from the global economic status quo needs to gain some perspective on the matter .</td>\n",
              "      <td>xxbos wer die usa als großen verlierer des weltwirtschaftlichen status quo darstellt , muss seine sicht diesbezüglich dringend relativieren .</td>\n",
              "    </tr>\n",
              "    <tr>\n",
              "      <td>xxbos whereas labor - force participation in the eurozone is on the rise , it has been declining in the us since around 2000 .</td>\n",
              "      <td>xxbos während die erwerbsbeteiligung in der eurozone steigt , sinkt sie in den usa seit etwa dem jahr 2000 .</td>\n",
              "    </tr>\n",
              "  </tbody>\n",
              "</table>"
            ],
            "text/plain": [
              "<IPython.core.display.HTML object>"
            ]
          },
          "metadata": {
            "tags": []
          }
        }
      ]
    },
    {
      "cell_type": "code",
      "metadata": {
        "id": "3uUS3nk5sWsx",
        "colab_type": "code",
        "outputId": "6b702a82-0f86-4bc1-a7ad-f3e1b441668f",
        "colab": {
          "base_uri": "https://localhost:8080/",
          "height": 54
        }
      },
      "source": [
        "data.train_ds[50]"
      ],
      "execution_count": 0,
      "outputs": [
        {
          "output_type": "execute_result",
          "data": {
            "text/plain": [
              "(Text xxbos few people can muster great enthusiasm for the un .,\n",
              " Text xxbos wenigen menschen gelingt es , große begeisterung für die uno aufzubringen .)"
            ]
          },
          "metadata": {
            "tags": []
          },
          "execution_count": 15
        }
      ]
    },
    {
      "cell_type": "code",
      "metadata": {
        "id": "08FEfK6Tsf_t",
        "colab_type": "code",
        "outputId": "64025592-a586-4e2c-8baa-df5c27ff1804",
        "colab": {
          "base_uri": "https://localhost:8080/",
          "height": 35
        }
      },
      "source": [
        "data.train_ds[50][0].data[:]  #embedding for: \"xxbos few people can muster great enthusiasm for the un .\""
      ],
      "execution_count": 0,
      "outputs": [
        {
          "output_type": "execute_result",
          "data": {
            "text/plain": [
              "array([   2,  276,   84,   49, 8943,  273, 4374,   21,    9,  409,   11])"
            ]
          },
          "metadata": {
            "tags": []
          },
          "execution_count": 18
        }
      ]
    },
    {
      "cell_type": "markdown",
      "metadata": {
        "id": "7XXDCPB1Wchv",
        "colab_type": "text"
      },
      "source": [
        "# Create Pretrained embeddings"
      ]
    },
    {
      "cell_type": "markdown",
      "metadata": {
        "id": "xqe48k7-Wchv",
        "colab_type": "text"
      },
      "source": [
        "Download the word embeddings (crawl vectors) from the fastText docs. FastText has [pre-trained word vectors](https://fasttext.cc/docs/en/crawl-vectors.html) for 157 languages, trained on Common Crawl and Wikipedia. These models were trained using CBOW. Load them with FastTexts `load_model()` method."
      ]
    },
    {
      "cell_type": "code",
      "metadata": {
        "id": "nQcSmL6ObVeT",
        "colab_type": "code",
        "outputId": "e48c9102-0b6c-454b-c0da-bf69d571f314",
        "colab": {
          "base_uri": "https://localhost:8080/",
          "height": 35
        }
      },
      "source": [
        "en_vecs = ft.load_model(str(path_translation_data + 'cc.en.300.bin'))"
      ],
      "execution_count": 0,
      "outputs": [
        {
          "output_type": "stream",
          "text": [
            "\n"
          ],
          "name": "stderr"
        }
      ]
    },
    {
      "cell_type": "code",
      "metadata": {
        "scrolled": true,
        "id": "i0etY2SOWch6",
        "colab_type": "code",
        "outputId": "9aa89038-6d88-45c2-a07b-382a8b508182",
        "colab": {
          "base_uri": "https://localhost:8080/",
          "height": 35
        }
      },
      "source": [
        "de_vecs = ft.load_model(path_translation_data + 'cc.de.300.bin')"
      ],
      "execution_count": 0,
      "outputs": [
        {
          "output_type": "stream",
          "text": [
            "\n"
          ],
          "name": "stderr"
        }
      ]
    },
    {
      "cell_type": "markdown",
      "metadata": {
        "id": "kTa5fWpDWch-",
        "colab_type": "text"
      },
      "source": [
        "Embedding module with the pretrained vectors and random data for the missing parts."
      ]
    },
    {
      "cell_type": "code",
      "metadata": {
        "id": "P7Ejp2lkWch_",
        "colab_type": "code",
        "colab": {}
      },
      "source": [
        "def create_emb(vecs, itos, em_sz=300, mult=1.): #parameters(downloaded vectors, vocabulary, embedding size, mult)\n",
        "    emb = nn.Embedding(len(itos), em_sz, padding_idx=1)  #PyTorch Embedding\n",
        "    wgts = emb.weight.data\n",
        "    vec_dic = {w:vecs.get_word_vector(w) for w in vecs.get_words()} #create dict; word: vector; 1) get_word_vector: Get the vector representation of word.; 2) get_words(): Get the entire list of words of the dictionary\n",
        "    miss = []\n",
        "    for i,w in enumerate(itos):\n",
        "        try: wgts[i] = tensor(vec_dic[w]) #save the vocabulary in wgts\n",
        "        except: miss.append(w)\n",
        "    return emb"
      ],
      "execution_count": 0,
      "outputs": []
    },
    {
      "cell_type": "code",
      "metadata": {
        "id": "DILqX1GOWciD",
        "colab_type": "code",
        "colab": {}
      },
      "source": [
        "emb_enc = create_emb(en_vecs, data.x.vocab.itos)\n",
        "emb_dec = create_emb(de_vecs, data.y.vocab.itos)"
      ],
      "execution_count": 0,
      "outputs": []
    },
    {
      "cell_type": "code",
      "metadata": {
        "id": "C1ZGEn-6WciJ",
        "colab_type": "code",
        "outputId": "1f80674b-cbeb-4573-df45-d69b97c85a23",
        "colab": {
          "base_uri": "https://localhost:8080/",
          "height": 35
        }
      },
      "source": [
        "emb_enc.weight.size(), emb_dec.weight.size() #English, German embedding matrix"
      ],
      "execution_count": 0,
      "outputs": [
        {
          "output_type": "execute_result",
          "data": {
            "text/plain": [
              "(torch.Size([33272, 300]), torch.Size([60000, 300]))"
            ]
          },
          "metadata": {
            "tags": []
          },
          "execution_count": 134
        }
      ]
    },
    {
      "cell_type": "code",
      "metadata": {
        "id": "aIdGMGOCGqmK",
        "colab_type": "code",
        "outputId": "adae7082-17ca-4613-d567-20f8b651be4f",
        "colab": {
          "base_uri": "https://localhost:8080/",
          "height": 35
        }
      },
      "source": [
        "emb_enc.num_embeddings, emb_enc.embedding_dim"
      ],
      "execution_count": 0,
      "outputs": [
        {
          "output_type": "execute_result",
          "data": {
            "text/plain": [
              "(33272, 300)"
            ]
          },
          "metadata": {
            "tags": []
          },
          "execution_count": 135
        }
      ]
    },
    {
      "cell_type": "code",
      "metadata": {
        "id": "5dAGeu94MgGg",
        "colab_type": "code",
        "outputId": "35211958-b904-4bd0-f904-c0929193fc82",
        "colab": {
          "base_uri": "https://localhost:8080/",
          "height": 35
        }
      },
      "source": [
        "emb_dec.num_embeddings, emb_dec.embedding_dim"
      ],
      "execution_count": 0,
      "outputs": [
        {
          "output_type": "execute_result",
          "data": {
            "text/plain": [
              "(60000, 300)"
            ]
          },
          "metadata": {
            "tags": []
          },
          "execution_count": 136
        }
      ]
    },
    {
      "cell_type": "code",
      "metadata": {
        "id": "D5LclmBdWciQ",
        "colab_type": "code",
        "colab": {}
      },
      "source": [
        "torch.save(emb_enc, path_translation + 'en_emb_137k_25l.pth')"
      ],
      "execution_count": 0,
      "outputs": []
    },
    {
      "cell_type": "code",
      "metadata": {
        "id": "SsPP7W7IrLJV",
        "colab_type": "code",
        "colab": {}
      },
      "source": [
        "torch.save(emb_dec, path_translation + 'de_emb_137k_25l.pth')"
      ],
      "execution_count": 0,
      "outputs": []
    },
    {
      "cell_type": "code",
      "metadata": {
        "id": "35mBRJj2WciS",
        "colab_type": "code",
        "colab": {}
      },
      "source": [
        "emb_enc = torch.load(path_translation + 'en_emb_137k_25l.pth')\n",
        "emb_dec = torch.load(path_translation + 'de_emb_137k_25l.pth')"
      ],
      "execution_count": 0,
      "outputs": []
    },
    {
      "cell_type": "code",
      "metadata": {
        "id": "AKwQZoxxNz5v",
        "colab_type": "code",
        "outputId": "d4827dcb-e040-4439-dde5-4b697608412e",
        "colab": {
          "base_uri": "https://localhost:8080/",
          "height": 35
        }
      },
      "source": [
        "emb_enc, type(emb_enc)"
      ],
      "execution_count": 0,
      "outputs": [
        {
          "output_type": "execute_result",
          "data": {
            "text/plain": [
              "(Embedding(33272, 300, padding_idx=1), torch.nn.modules.sparse.Embedding)"
            ]
          },
          "metadata": {
            "tags": []
          },
          "execution_count": 32
        }
      ]
    },
    {
      "cell_type": "code",
      "metadata": {
        "id": "5F_c1oWhmEgI",
        "colab_type": "code",
        "outputId": "0d82276e-a245-464f-90b4-ca635981878f",
        "colab": {
          "base_uri": "https://localhost:8080/",
          "height": 163
        }
      },
      "source": [
        "emb_enc.weight.data ,emb_enc.weight.data.shape #English"
      ],
      "execution_count": 0,
      "outputs": [
        {
          "output_type": "execute_result",
          "data": {
            "text/plain": [
              "(tensor([[ 0.6550,  0.9002, -0.6118,  ...,  1.4594,  0.5450, -0.5295],\n",
              "         [ 0.0000,  0.0000,  0.0000,  ...,  0.0000,  0.0000,  0.0000],\n",
              "         [ 0.4711,  0.4144,  0.6080,  ...,  0.4429,  0.5999, -0.6418],\n",
              "         ...,\n",
              "         [-0.0192, -0.0574, -0.0462,  ...,  0.0495, -0.1114, -0.1833],\n",
              "         [-0.0357, -0.0035, -0.1139,  ...,  0.0867, -0.0637, -0.0681],\n",
              "         [-0.6883, -0.2589,  2.5070,  ...,  0.5557,  0.7431,  0.4535]]),\n",
              " torch.Size([33272, 300]))"
            ]
          },
          "metadata": {
            "tags": []
          },
          "execution_count": 33
        }
      ]
    },
    {
      "cell_type": "code",
      "metadata": {
        "id": "2Cc_iEWXUHIX",
        "colab_type": "code",
        "outputId": "3f9625c5-b372-46fe-d706-c4163677d9d7",
        "colab": {
          "base_uri": "https://localhost:8080/",
          "height": 254
        }
      },
      "source": [
        "emb_dec.weight.data ,emb_dec.weight.data.shape #German"
      ],
      "execution_count": 0,
      "outputs": [
        {
          "output_type": "execute_result",
          "data": {
            "text/plain": [
              "(tensor([[-1.6373e+00,  9.0775e-01, -6.2051e-01,  ...,  1.5115e+00,\n",
              "          -3.0657e-01,  4.7299e-01],\n",
              "         [ 0.0000e+00,  0.0000e+00,  0.0000e+00,  ...,  0.0000e+00,\n",
              "           0.0000e+00,  0.0000e+00],\n",
              "         [ 2.3741e-01, -4.2239e-01, -4.0976e-01,  ...,  9.2944e-01,\n",
              "           1.1001e+00, -5.6154e-02],\n",
              "         ...,\n",
              "         [ 1.1834e-03, -2.0987e-02,  1.0963e-02,  ..., -1.4762e-02,\n",
              "          -2.2906e-02, -3.2849e-03],\n",
              "         [ 2.0987e-02, -7.4525e-01, -1.2339e+00,  ..., -5.1861e-02,\n",
              "          -1.2668e+00, -8.9546e-01],\n",
              "         [ 1.1385e+00,  9.1379e-02,  1.3485e+00,  ...,  4.9208e-02,\n",
              "          -2.2599e+00,  8.0766e-01]]), torch.Size([60000, 300]))"
            ]
          },
          "metadata": {
            "tags": []
          },
          "execution_count": 34
        }
      ]
    }
  ]
}