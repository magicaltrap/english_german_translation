{
  "nbformat": 4,
  "nbformat_minor": 0,
  "metadata": {
    "kernelspec": {
      "name": "python3",
      "display_name": "Python 3"
    },
    "language_info": {
      "codemirror_mode": {
        "name": "ipython",
        "version": 3
      },
      "file_extension": ".py",
      "mimetype": "text/x-python",
      "name": "python",
      "nbconvert_exporter": "python",
      "pygments_lexer": "ipython3",
      "version": "3.7.1"
    },
    "colab": {
      "name": "translation-transformer.ipynb",
      "version": "0.3.2",
      "provenance": [],
      "collapsed_sections": [],
      "toc_visible": true,
      "include_colab_link": true
    },
    "accelerator": "GPU"
  },
  "cells": [
    {
      "cell_type": "markdown",
      "metadata": {
        "id": "view-in-github",
        "colab_type": "text"
      },
      "source": [
        "<a href=\"https://colab.research.google.com/github/magicaltrap/english_german_translation/blob/master/translation_transformer.ipynb\" target=\"_parent\"><img src=\"https://colab.research.google.com/assets/colab-badge.svg\" alt=\"Open In Colab\"/></a>"
      ]
    },
    {
      "cell_type": "markdown",
      "metadata": {
        "id": "YDoa2vll9OX-",
        "colab_type": "text"
      },
      "source": [
        "# Transformer Model"
      ]
    },
    {
      "cell_type": "code",
      "metadata": {
        "id": "bDWQvhd6Cmjp",
        "colab_type": "code",
        "outputId": "49a1c12b-b8d2-40cc-c483-a077d3eaf2cb",
        "colab": {
          "base_uri": "https://localhost:8080/",
          "height": 54
        }
      },
      "source": [
        "!curl -s https://course.fast.ai/setup/colab | bash"
      ],
      "execution_count": 0,
      "outputs": [
        {
          "output_type": "stream",
          "text": [
            "Updating fastai...\n",
            "Done.\n"
          ],
          "name": "stdout"
        }
      ]
    },
    {
      "cell_type": "code",
      "metadata": {
        "id": "dZBULB0qCrnX",
        "colab_type": "code",
        "colab": {}
      },
      "source": [
        "from google.colab import drive\n",
        "drive.mount('/content/gdrive', force_remount=True)\n",
        "root_dir = \"/content/gdrive/My Drive/\"\n",
        "path_translation = \"/content/gdrive/My Drive/data/translation/\"\n",
        "path_translation_data = \"/content/gdrive/My Drive/data/translation/data/\""
      ],
      "execution_count": 0,
      "outputs": []
    },
    {
      "cell_type": "code",
      "metadata": {
        "id": "J6V6UJ-79OYJ",
        "colab_type": "code",
        "colab": {}
      },
      "source": [
        "from fastai.text import *"
      ],
      "execution_count": 0,
      "outputs": []
    },
    {
      "cell_type": "markdown",
      "metadata": {
        "id": "bJ7AfnaB9OYp",
        "colab_type": "text"
      },
      "source": [
        "## Load data"
      ]
    },
    {
      "cell_type": "code",
      "metadata": {
        "id": "lPChngeN9OYz",
        "colab_type": "code",
        "colab": {}
      },
      "source": [
        "def seq2seq_collate(samples, pad_idx=1, pad_first=True, backwards=False):\n",
        "    \"Function that collect samples and adds padding. Flips token order if needed\"\n",
        "    samples = to_data(samples)\n",
        "    max_len_x,max_len_y = max([len(s[0]) for s in samples]),max([len(s[1]) for s in samples])\n",
        "    res_x = torch.zeros(len(samples), max_len_x).long() + pad_idx\n",
        "    res_y = torch.zeros(len(samples), max_len_y).long() + pad_idx\n",
        "    if backwards: pad_first = not pad_first\n",
        "    for i,s in enumerate(samples):\n",
        "        if pad_first: \n",
        "            res_x[i,-len(s[0]):],res_y[i,-len(s[1]):] = LongTensor(s[0]),LongTensor(s[1])\n",
        "        else:         \n",
        "            res_x[i, :len(s[0])],res_y[i, :len(s[1])] = LongTensor(s[0]),LongTensor(s[1])\n",
        "    if backwards: res_x,res_y = res_x.flip(1),res_y.flip(1)\n",
        "    return res_x, res_y"
      ],
      "execution_count": 0,
      "outputs": []
    },
    {
      "cell_type": "code",
      "metadata": {
        "id": "y7nKQNdK9OY-",
        "colab_type": "code",
        "colab": {}
      },
      "source": [
        "class Seq2SeqDataBunch(TextDataBunch):\n",
        "    \"Create a `TextDataBunch` suitable for training an RNN classifier.\"\n",
        "    @classmethod\n",
        "    def create(cls, train_ds, valid_ds, test_ds=None, path='.', bs=32, val_bs=None, pad_idx=1,\n",
        "               dl_tfms=None, pad_first=False, device=None, no_check=False, backwards=False, **dl_kwargs):\n",
        "        \"Function that transform the `datasets` in a `DataBunch` for classification. Passes `**dl_kwargs` on to `DataLoader()`\"\n",
        "        datasets = cls._init_ds(train_ds, valid_ds, test_ds)\n",
        "        val_bs = ifnone(val_bs, bs)\n",
        "        collate_fn = partial(seq2seq_collate, pad_idx=pad_idx, pad_first=pad_first, backwards=backwards)\n",
        "        train_sampler = SortishSampler(datasets[0].x, key=lambda t: len(datasets[0][t][0].data), bs=bs//2)\n",
        "        train_dl = DataLoader(datasets[0], batch_size=bs, sampler=train_sampler, drop_last=True, **dl_kwargs)\n",
        "        dataloaders = [train_dl]\n",
        "        for ds in datasets[1:]:\n",
        "            lengths = [len(t) for t in ds.x.items]\n",
        "            sampler = SortSampler(ds.x, key=lengths.__getitem__)\n",
        "            dataloaders.append(DataLoader(ds, batch_size=val_bs, sampler=sampler, **dl_kwargs))\n",
        "        return cls(*dataloaders, path=path, device=device, collate_fn=collate_fn, no_check=no_check)"
      ],
      "execution_count": 0,
      "outputs": []
    },
    {
      "cell_type": "code",
      "metadata": {
        "id": "2KW299lb9OZK",
        "colab_type": "code",
        "colab": {}
      },
      "source": [
        "class Seq2SeqTextList(TextList):\n",
        "    _bunch = Seq2SeqDataBunch\n",
        "    _label_cls = TextList"
      ],
      "execution_count": 0,
      "outputs": []
    },
    {
      "cell_type": "code",
      "metadata": {
        "id": "H-MyMovkDIww",
        "colab_type": "code",
        "colab": {}
      },
      "source": [
        "data = load_data(path_translation_data, \"db1_137k_25sl\")"
      ],
      "execution_count": 0,
      "outputs": []
    },
    {
      "cell_type": "code",
      "metadata": {
        "id": "76Telkcd9OZj",
        "colab_type": "code",
        "outputId": "17a2a5ff-cf5b-4cf0-91d0-4e79da837aeb",
        "colab": {
          "base_uri": "https://localhost:8080/",
          "height": 285
        }
      },
      "source": [
        "data.show_batch()"
      ],
      "execution_count": 0,
      "outputs": [
        {
          "output_type": "display_data",
          "data": {
            "text/html": [
              "<table border=\"1\" class=\"dataframe\">\n",
              "  <thead>\n",
              "    <tr style=\"text-align: right;\">\n",
              "      <th>text</th>\n",
              "      <th>target</th>\n",
              "    </tr>\n",
              "  </thead>\n",
              "  <tbody>\n",
              "    <tr>\n",
              "      <td>xxbos this is why today ’s most contentious borders separate economies where the income gaps between people on the two sides are the greatest .</td>\n",
              "      <td>xxbos deshalb trennen derzeit die umstrittensten grenzen volkswirtschaften , in denen die einkommensunterschiede zwischen den menschen auf beiden seiten am größten sind .</td>\n",
              "    </tr>\n",
              "    <tr>\n",
              "      <td>xxbos the annual xxunk club dinner in washington , where the president is xxunk by the press , is a relic of this custom .</td>\n",
              "      <td>xxbos das alljährliche xxunk club dinner in washington , bei dem der präsident von der presse verspottet wird , ist ein überbleibsel dieses xxunk .</td>\n",
              "    </tr>\n",
              "    <tr>\n",
              "      <td>xxbos and in the case of egypt today , it is radical islamists who are reaping the rewards of popular disillusionment with the government .</td>\n",
              "      <td>xxbos i m heutigen ägypten sind es die radikalen islamisten , die die früchte der allgemeinen unzufriedenheit mit der regierung ernten .</td>\n",
              "    </tr>\n",
              "    <tr>\n",
              "      <td>xxbos first , the us labor market is failing so badly that expanded government spending carries no resource cost to society as a whole .</td>\n",
              "      <td>xxbos erstens versagt der us - arbeitsmarkt in einem solchen ausmaß , dass erweiterte staatsausgaben für die gesellschaft insgesamt keine xxunk mit sich bringen .</td>\n",
              "    </tr>\n",
              "    <tr>\n",
              "      <td>xxbos researchers at the european university institute in florence and ucla recently demonstrated that there is a relationship between trust and individuals ’ income .</td>\n",
              "      <td>xxbos forscher am europäischen xxunk in florenz und an der ucla zeigten vor kurzem , dass es eine beziehung zwischen vertrauen und einkommen gibt .</td>\n",
              "    </tr>\n",
              "  </tbody>\n",
              "</table>"
            ],
            "text/plain": [
              "<IPython.core.display.HTML object>"
            ]
          },
          "metadata": {
            "tags": []
          }
        }
      ]
    },
    {
      "cell_type": "markdown",
      "metadata": {
        "id": "TRtVCbIE9OZw",
        "colab_type": "text"
      },
      "source": [
        "## Transformer model"
      ]
    },
    {
      "cell_type": "markdown",
      "metadata": {
        "id": "5Ubufe6n9OZ0",
        "colab_type": "text"
      },
      "source": [
        "![Transformer model](https://github.com/fastai/course-nlp/blob/master/images/Transformer.png?raw=1)"
      ]
    },
    {
      "cell_type": "markdown",
      "metadata": {
        "id": "HLX_MRAL9OZ3",
        "colab_type": "text"
      },
      "source": [
        "### Shifting"
      ]
    },
    {
      "cell_type": "markdown",
      "metadata": {
        "id": "84UaZxxQ9OZ6",
        "colab_type": "text"
      },
      "source": [
        "We add a transform to the dataloader that shifts the targets right and adds a padding at the beginning."
      ]
    },
    {
      "cell_type": "code",
      "metadata": {
        "id": "HIHGxUa69OZ9",
        "colab_type": "code",
        "colab": {}
      },
      "source": [
        "v = data.vocab"
      ],
      "execution_count": 0,
      "outputs": []
    },
    {
      "cell_type": "code",
      "metadata": {
        "id": "5ZNgJyZc9OaI",
        "colab_type": "code",
        "outputId": "2b09a5d9-25f5-48ab-8e79-2374199625e7",
        "colab": {
          "base_uri": "https://localhost:8080/",
          "height": 35
        }
      },
      "source": [
        "v.stoi['xxpad']"
      ],
      "execution_count": 0,
      "outputs": [
        {
          "output_type": "execute_result",
          "data": {
            "text/plain": [
              "1"
            ]
          },
          "metadata": {
            "tags": []
          },
          "execution_count": 8
        }
      ]
    },
    {
      "cell_type": "code",
      "metadata": {
        "id": "_4b2w-QD9OaU",
        "colab_type": "code",
        "colab": {}
      },
      "source": [
        "def shift_tfm(b):\n",
        "    x,y = b\n",
        "    y = F.pad(y, (1, 0), value=1)\n",
        "    return [x,y[:,:-1]], y[:,1:]"
      ],
      "execution_count": 0,
      "outputs": []
    },
    {
      "cell_type": "code",
      "metadata": {
        "id": "I95w01lD9Oae",
        "colab_type": "code",
        "colab": {}
      },
      "source": [
        "data.add_tfm(shift_tfm) #Adds a transform to all dataloaders."
      ],
      "execution_count": 0,
      "outputs": []
    },
    {
      "cell_type": "markdown",
      "metadata": {
        "id": "pDvR9wOv9Oao",
        "colab_type": "text"
      },
      "source": [
        "### Embeddings"
      ]
    },
    {
      "cell_type": "markdown",
      "metadata": {
        "id": "k5cYUKcU9Oat",
        "colab_type": "text"
      },
      "source": [
        "The input and output embeddings are traditional PyTorch embeddings (and we can use pretrained vectors if we want to). The transformer model isn't a recurrent one, so it has no idea of the relative positions of the words. To help it with that, they had to the input embeddings a positional encoding which is cosine of a certain frequency:"
      ]
    },
    {
      "cell_type": "code",
      "metadata": {
        "id": "_Tm84X3R9Oa1",
        "colab_type": "code",
        "outputId": "eb5305c8-f3c6-401f-8bb5-0173d0af6bb8",
        "colab": {
          "base_uri": "https://localhost:8080/",
          "height": 54
        }
      },
      "source": [
        "d = 30\n",
        "torch.arange(0., d, 2.)/d"
      ],
      "execution_count": 0,
      "outputs": [
        {
          "output_type": "execute_result",
          "data": {
            "text/plain": [
              "tensor([0.0000, 0.0667, 0.1333, 0.2000, 0.2667, 0.3333, 0.4000, 0.4667, 0.5333,\n",
              "        0.6000, 0.6667, 0.7333, 0.8000, 0.8667, 0.9333])"
            ]
          },
          "metadata": {
            "tags": []
          },
          "execution_count": 11
        }
      ]
    },
    {
      "cell_type": "code",
      "metadata": {
        "id": "6hx47yp69ObA",
        "colab_type": "code",
        "colab": {}
      },
      "source": [
        "class PositionalEncoding(nn.Module):\n",
        "    \"Encode the position with a sinusoid.\"\n",
        "    def __init__(self, d):\n",
        "        super().__init__()\n",
        "        self.register_buffer('freq', 1 / (10000 ** (torch.arange(0., d, 2.)/d)))\n",
        "    \n",
        "    def forward(self, pos):\n",
        "        inp = torch.ger(pos, self.freq)\n",
        "        enc = torch.cat([inp.sin(), inp.cos()], dim=-1)\n",
        "        return enc"
      ],
      "execution_count": 0,
      "outputs": []
    },
    {
      "cell_type": "code",
      "metadata": {
        "id": "wbnEVZb69ObL",
        "colab_type": "code",
        "outputId": "4aa3dfd6-fb38-40a8-afbc-067cc39d28fb",
        "colab": {
          "base_uri": "https://localhost:8080/",
          "height": 269
        }
      },
      "source": [
        "tst_encoding = PositionalEncoding(20)\n",
        "res = tst_encoding(torch.arange(0,100).float())\n",
        "_, ax = plt.subplots(1,1)\n",
        "for i in range(1,5): ax.plot(res[:,i])"
      ],
      "execution_count": 0,
      "outputs": [
        {
          "output_type": "display_data",
          "data": {
            "image/png": "[encoded data removed]",
            "text/plain": [
              "<Figure size 432x288 with 1 Axes>"
            ]
          },
          "metadata": {
            "tags": []
          }
        }
      ]
    },
    {
      "cell_type": "code",
      "metadata": {
        "id": "6ZZ1k8Q89ObW",
        "colab_type": "code",
        "outputId": "26a0453a-1756-486e-c3b0-b386ff0413fa",
        "colab": {
          "base_uri": "https://localhost:8080/",
          "height": 126
        }
      },
      "source": [
        "res[:6,:6]"
      ],
      "execution_count": 0,
      "outputs": [
        {
          "output_type": "execute_result",
          "data": {
            "text/plain": [
              "tensor([[ 0.0000,  0.0000,  0.0000,  0.0000,  0.0000,  0.0000],\n",
              "        [ 0.8415,  0.3877,  0.1578,  0.0631,  0.0251,  0.0100],\n",
              "        [ 0.9093,  0.7147,  0.3117,  0.1259,  0.0502,  0.0200],\n",
              "        [ 0.1411,  0.9300,  0.4578,  0.1882,  0.0753,  0.0300],\n",
              "        [-0.7568,  0.9998,  0.5923,  0.2497,  0.1003,  0.0400],\n",
              "        [-0.9589,  0.9132,  0.7121,  0.3103,  0.1253,  0.0500]])"
            ]
          },
          "metadata": {
            "tags": []
          },
          "execution_count": 14
        }
      ]
    },
    {
      "cell_type": "code",
      "metadata": {
        "id": "AunUS69A9Obi",
        "colab_type": "code",
        "colab": {}
      },
      "source": [
        "class TransformerEmbedding(nn.Module):\n",
        "    \"Embedding + positional encoding + dropout\"\n",
        "    def __init__(self, vocab_sz, emb_sz, inp_p=0.):\n",
        "        super().__init__()\n",
        "        self.emb_sz = emb_sz\n",
        "        self.embed = embedding(vocab_sz, emb_sz)\n",
        "        self.pos_enc = PositionalEncoding(emb_sz)\n",
        "        self.drop = nn.Dropout(inp_p)\n",
        "    \n",
        "    def forward(self, inp): \n",
        "        pos = torch.arange(0, inp.size(1), device=inp.device).float()\n",
        "        return self.drop(self.embed(inp) * math.sqrt(self.emb_sz) + self.pos_enc(pos))"
      ],
      "execution_count": 0,
      "outputs": []
    },
    {
      "cell_type": "markdown",
      "metadata": {
        "heading_collapsed": true,
        "id": "IudtruHC9Obw",
        "colab_type": "text"
      },
      "source": [
        "### Feed forward"
      ]
    },
    {
      "cell_type": "code",
      "metadata": {
        "hidden": true,
        "id": "z3LVlDBb9Ob5",
        "colab_type": "code",
        "colab": {}
      },
      "source": [
        "def feed_forward(d_model, d_ff, ff_p=0., double_drop=True):\n",
        "    layers = [nn.Linear(d_model, d_ff), nn.ReLU()]\n",
        "    if double_drop: layers.append(nn.Dropout(ff_p))\n",
        "    return SequentialEx(*layers, nn.Linear(d_ff, d_model), nn.Dropout(ff_p), MergeLayer(), nn.LayerNorm(d_model))"
      ],
      "execution_count": 0,
      "outputs": []
    },
    {
      "cell_type": "markdown",
      "metadata": {
        "id": "e9E1OSNK9OcR",
        "colab_type": "text"
      },
      "source": [
        "### Multi-head attention"
      ]
    },
    {
      "cell_type": "markdown",
      "metadata": {
        "id": "634TuRKh9OcU",
        "colab_type": "text"
      },
      "source": [
        "![Multi head attention](https://github.com/fastai/course-nlp/blob/master/images/attention.png?raw=1)"
      ]
    },
    {
      "cell_type": "code",
      "metadata": {
        "id": "vWkHoD2n9OcW",
        "colab_type": "code",
        "colab": {}
      },
      "source": [
        "class MultiHeadAttention(nn.Module):\n",
        "    def __init__(self, n_heads, d_model, d_head=None, p=0., bias=True, scale=True):\n",
        "        super().__init__()\n",
        "        d_head = ifnone(d_head, d_model//n_heads)\n",
        "        self.n_heads,self.d_head,self.scale = n_heads,d_head,scale\n",
        "        self.q_wgt,self.k_wgt,self.v_wgt = [nn.Linear(\n",
        "            d_model, n_heads * d_head, bias=bias) for o in range(3)]\n",
        "        self.out = nn.Linear(n_heads * d_head, d_model, bias=bias)\n",
        "        self.drop_att,self.drop_res = nn.Dropout(p),nn.Dropout(p)\n",
        "        self.ln = nn.LayerNorm(d_model)\n",
        "        \n",
        "    def forward(self, q, kv, mask=None):\n",
        "        return self.ln(q + self.drop_res(self.out(self._apply_attention(q, kv, mask=mask))))\n",
        "    \n",
        "    def create_attn_mat(self, x, layer, bs):\n",
        "        return layer(x).view(bs, x.size(1), self.n_heads, self.d_head\n",
        "                            ).permute(0, 2, 1, 3)\n",
        "    \n",
        "    def _apply_attention(self, q, kv, mask=None):\n",
        "        bs,seq_len = q.size(0),q.size(1)\n",
        "        wq,wk,wv = map(lambda o: self.create_attn_mat(*o,bs),\n",
        "                       zip((q,kv,kv),(self.q_wgt,self.k_wgt,self.v_wgt)))\n",
        "        attn_score = wq @ wk.transpose(2,3)\n",
        "        if self.scale: attn_score /= math.sqrt(self.d_head)\n",
        "        if mask is not None: \n",
        "            attn_score = attn_score.float().masked_fill(mask, -float('inf')).type_as(attn_score)\n",
        "        attn_prob = self.drop_att(F.softmax(attn_score, dim=-1))\n",
        "        attn_vec = attn_prob @ wv\n",
        "        return attn_vec.permute(0, 2, 1, 3).contiguous().view(bs, seq_len, -1)"
      ],
      "execution_count": 0,
      "outputs": []
    },
    {
      "cell_type": "markdown",
      "metadata": {
        "heading_collapsed": true,
        "id": "P3RjvJF09Ocg",
        "colab_type": "text"
      },
      "source": [
        "### Masking"
      ]
    },
    {
      "cell_type": "code",
      "metadata": {
        "hidden": true,
        "id": "5dl2znXR9Ocm",
        "colab_type": "code",
        "colab": {}
      },
      "source": [
        "def get_output_mask(inp, pad_idx=1):\n",
        "    return torch.triu(inp.new_ones(inp.size(1),inp.size(1)), diagonal=1)[None,None].byte()\n",
        "#     return ((inp == pad_idx)[:,None,:,None].long() + torch.triu(inp.new_ones(inp.size(1),inp.size(1)), diagonal=1)[None,None] != 0)"
      ],
      "execution_count": 0,
      "outputs": []
    },
    {
      "cell_type": "markdown",
      "metadata": {
        "id": "JAzI05Ea9OdD",
        "colab_type": "text"
      },
      "source": [
        "### Encoder and decoder blocks"
      ]
    },
    {
      "cell_type": "markdown",
      "metadata": {
        "id": "W8vtSfe79OdG",
        "colab_type": "text"
      },
      "source": [
        "We are now ready to regroup these layers in the blocks we add in the model picture:\n",
        "\n",
        "![Transformer model](https://github.com/fastai/course-nlp/blob/master/images/Transformer.png?raw=1)"
      ]
    },
    {
      "cell_type": "code",
      "metadata": {
        "id": "0nICermG9OdK",
        "colab_type": "code",
        "colab": {}
      },
      "source": [
        "class EncoderBlock(nn.Module):\n",
        "    \"Encoder block of a Transformer model.\"\n",
        "    #Can't use Sequential directly cause more than one input...\n",
        "    def __init__(self, n_heads, d_model, d_head, d_inner, p=0., bias=True, scale=True, double_drop=True):\n",
        "        super().__init__()\n",
        "        self.mha = MultiHeadAttention(n_heads, d_model, d_head, p=p, bias=bias, scale=scale)\n",
        "        self.ff  = feed_forward(d_model, d_inner, ff_p=p, double_drop=double_drop)\n",
        "    \n",
        "    def forward(self, x, mask=None): return self.ff(self.mha(x, x, mask=mask))"
      ],
      "execution_count": 0,
      "outputs": []
    },
    {
      "cell_type": "code",
      "metadata": {
        "id": "ZHe5zYgv9OdS",
        "colab_type": "code",
        "colab": {}
      },
      "source": [
        "class DecoderBlock(nn.Module):\n",
        "    \"Decoder block of a Transformer model.\"\n",
        "    #Can't use Sequential directly cause more than one input...\n",
        "    def __init__(self, n_heads, d_model, d_head, d_inner, p=0., bias=True, scale=True, double_drop=True):\n",
        "        super().__init__()\n",
        "        self.mha1 = MultiHeadAttention(n_heads, d_model, d_head, p=p, bias=bias, scale=scale)\n",
        "        self.mha2 = MultiHeadAttention(n_heads, d_model, d_head, p=p, bias=bias, scale=scale)\n",
        "        self.ff   = feed_forward(d_model, d_inner, ff_p=p, double_drop=double_drop)\n",
        "    \n",
        "    def forward(self, x, enc, mask_out=None): return self.ff(self.mha2(self.mha1(x, x, mask_out), enc))"
      ],
      "execution_count": 0,
      "outputs": []
    },
    {
      "cell_type": "markdown",
      "metadata": {
        "heading_collapsed": true,
        "id": "IR20TbKp9Odb",
        "colab_type": "text"
      },
      "source": [
        "### The whole model"
      ]
    },
    {
      "cell_type": "code",
      "metadata": {
        "hidden": true,
        "id": "hfACNaSV9Odd",
        "colab_type": "code",
        "colab": {}
      },
      "source": [
        "class Transformer(Module):\n",
        "    def __init__(self, inp_vsz, out_vsz, n_layers=6, n_heads=8, d_model=256, d_head=32, \n",
        "                 d_inner=1024, p=0.1, bias=True, scale=True, double_drop=True, pad_idx=1):\n",
        "        self.enc_emb = TransformerEmbedding(inp_vsz, d_model, p)\n",
        "        self.dec_emb = TransformerEmbedding(out_vsz, d_model, 0.)\n",
        "        args = (n_heads, d_model, d_head, d_inner, p, bias, scale, double_drop)\n",
        "        self.encoder = nn.ModuleList([EncoderBlock(*args) for _ in range(n_layers)])\n",
        "        self.decoder = nn.ModuleList([DecoderBlock(*args) for _ in range(n_layers)])\n",
        "        self.out = nn.Linear(d_model, out_vsz)\n",
        "        self.out.weight = self.dec_emb.embed.weight\n",
        "        self.pad_idx = pad_idx\n",
        "        \n",
        "    def forward(self, inp, out):\n",
        "        mask_out = get_output_mask(out, self.pad_idx)\n",
        "        enc,out = self.enc_emb(inp),self.dec_emb(out)\n",
        "        enc = compose(self.encoder)(enc)\n",
        "        out = compose(self.decoder)(out, enc, mask_out)\n",
        "        return self.out(out)"
      ],
      "execution_count": 0,
      "outputs": []
    },
    {
      "cell_type": "markdown",
      "metadata": {
        "heading_collapsed": true,
        "hidden": true,
        "id": "KDNLJoZo9Odo",
        "colab_type": "text"
      },
      "source": [
        "#### Bleu metric"
      ]
    },
    {
      "cell_type": "code",
      "metadata": {
        "hidden": true,
        "id": "M85AnBAZ9Ods",
        "colab_type": "code",
        "colab": {}
      },
      "source": [
        "class NGram():\n",
        "    def __init__(self, ngram, max_n=5000): self.ngram,self.max_n = ngram,max_n\n",
        "    def __eq__(self, other):\n",
        "        if len(self.ngram) != len(other.ngram): return False\n",
        "        return np.all(np.array(self.ngram) == np.array(other.ngram))\n",
        "    def __hash__(self): return int(sum([o * self.max_n**i for i,o in enumerate(self.ngram)]))"
      ],
      "execution_count": 0,
      "outputs": []
    },
    {
      "cell_type": "code",
      "metadata": {
        "hidden": true,
        "id": "25WPHU0o9Od3",
        "colab_type": "code",
        "colab": {}
      },
      "source": [
        "def get_grams(x, n, max_n=5000):\n",
        "    return x if n==1 else [NGram(x[i:i+n], max_n=max_n) for i in range(len(x)-n+1)]"
      ],
      "execution_count": 0,
      "outputs": []
    },
    {
      "cell_type": "code",
      "metadata": {
        "hidden": true,
        "id": "BSoFngYi9OeA",
        "colab_type": "code",
        "colab": {}
      },
      "source": [
        "def get_correct_ngrams(pred, targ, n, max_n=5000):\n",
        "    pred_grams,targ_grams = get_grams(pred, n, max_n=max_n),get_grams(targ, n, max_n=max_n)\n",
        "    pred_cnt,targ_cnt = Counter(pred_grams),Counter(targ_grams)\n",
        "    return sum([min(c, targ_cnt[g]) for g,c in pred_cnt.items()]),len(pred_grams)"
      ],
      "execution_count": 0,
      "outputs": []
    },
    {
      "cell_type": "code",
      "metadata": {
        "hidden": true,
        "id": "XmnqNpWB9OeJ",
        "colab_type": "code",
        "colab": {}
      },
      "source": [
        "class CorpusBLEU(Callback):\n",
        "    def __init__(self, vocab_sz):\n",
        "        self.vocab_sz = vocab_sz\n",
        "        self.name = 'bleu'\n",
        "    \n",
        "    def on_epoch_begin(self, **kwargs):\n",
        "        self.pred_len,self.targ_len,self.corrects,self.counts = 0,0,[0]*4,[0]*4\n",
        "    \n",
        "    def on_batch_end(self, last_output, last_target, **kwargs):\n",
        "        last_output = last_output.argmax(dim=-1)\n",
        "        for pred,targ in zip(last_output.cpu().numpy(),last_target.cpu().numpy()):\n",
        "            self.pred_len += len(pred)\n",
        "            self.targ_len += len(targ)\n",
        "            for i in range(4):\n",
        "                c,t = get_correct_ngrams(pred, targ, i+1, max_n=self.vocab_sz)\n",
        "                self.corrects[i] += c\n",
        "                self.counts[i]   += t\n",
        "    \n",
        "    def on_epoch_end(self, last_metrics, **kwargs):\n",
        "        precs = [c/t for c,t in zip(self.corrects,self.counts)]\n",
        "        len_penalty = exp(1 - self.targ_len/self.pred_len) if self.pred_len < self.targ_len else 1\n",
        "        bleu = len_penalty * ((precs[0]*precs[1]*precs[2]*precs[3]) ** 0.25)\n",
        "        return add_metrics(last_metrics, bleu)"
      ],
      "execution_count": 0,
      "outputs": []
    },
    {
      "cell_type": "markdown",
      "metadata": {
        "id": "2oGLy7tR9OeU",
        "colab_type": "text"
      },
      "source": [
        "### Training"
      ]
    },
    {
      "cell_type": "code",
      "metadata": {
        "id": "fiNheMYh9OeY",
        "colab_type": "code",
        "colab": {}
      },
      "source": [
        "n_x_vocab,n_y_vocab = len(data.train_ds.x.vocab.itos), len(data.train_ds.y.vocab.itos)\n",
        "\n",
        "model = Transformer(n_x_vocab, n_y_vocab, d_model=256)\n",
        "learn = Learner(data, model, metrics=[accuracy, CorpusBLEU(n_y_vocab)], loss_func = CrossEntropyFlat())"
      ],
      "execution_count": 0,
      "outputs": []
    },
    {
      "cell_type": "code",
      "metadata": {
        "id": "Mh3sZRnJ9Oej",
        "colab_type": "code",
        "outputId": "2aa52f0f-8cbc-45c3-8cc9-6e64fc578e42",
        "colab": {
          "base_uri": "https://localhost:8080/",
          "height": 301
        }
      },
      "source": [
        "learn.lr_find()\n",
        "learn.recorder.plot()"
      ],
      "execution_count": 0,
      "outputs": [
        {
          "output_type": "display_data",
          "data": {
            "text/html": [
              ""
            ],
            "text/plain": [
              "<IPython.core.display.HTML object>"
            ]
          },
          "metadata": {
            "tags": []
          }
        },
        {
          "output_type": "stream",
          "text": [
            "LR Finder is complete, type {learner_name}.recorder.plot() to see the graph.\n"
          ],
          "name": "stdout"
        },
        {
          "output_type": "display_data",
          "data": {
            "image/png": "[encoded data removed]",
            "text/plain": [
              "<Figure size 432x288 with 1 Axes>"
            ]
          },
          "metadata": {
            "tags": []
          }
        }
      ]
    },
    {
      "cell_type": "code",
      "metadata": {
        "id": "h0lN8svCy9wl",
        "colab_type": "code",
        "outputId": "5d7e79d9-4fff-4dea-b5a1-f0e594bdf583",
        "colab": {
          "base_uri": "https://localhost:8080/",
          "height": 325
        }
      },
      "source": [
        "learn.fit_one_cycle(8, 1e-3, div_factor=5)"
      ],
      "execution_count": 0,
      "outputs": [
        {
          "output_type": "display_data",
          "data": {
            "text/html": [
              "<table border=\"1\" class=\"dataframe\">\n",
              "  <thead>\n",
              "    <tr style=\"text-align: left;\">\n",
              "      <th>epoch</th>\n",
              "      <th>train_loss</th>\n",
              "      <th>valid_loss</th>\n",
              "      <th>accuracy</th>\n",
              "      <th>bleu</th>\n",
              "      <th>time</th>\n",
              "    </tr>\n",
              "  </thead>\n",
              "  <tbody>\n",
              "    <tr>\n",
              "      <td>0</td>\n",
              "      <td>3.066520</td>\n",
              "      <td>3.117959</td>\n",
              "      <td>0.551051</td>\n",
              "      <td>0.328840</td>\n",
              "      <td>11:16</td>\n",
              "    </tr>\n",
              "    <tr>\n",
              "      <td>1</td>\n",
              "      <td>2.206446</td>\n",
              "      <td>2.354458</td>\n",
              "      <td>0.630671</td>\n",
              "      <td>0.393335</td>\n",
              "      <td>11:25</td>\n",
              "    </tr>\n",
              "    <tr>\n",
              "      <td>2</td>\n",
              "      <td>2.009659</td>\n",
              "      <td>2.094535</td>\n",
              "      <td>0.658308</td>\n",
              "      <td>0.419734</td>\n",
              "      <td>11:12</td>\n",
              "    </tr>\n",
              "    <tr>\n",
              "      <td>3</td>\n",
              "      <td>1.774151</td>\n",
              "      <td>1.933175</td>\n",
              "      <td>0.676711</td>\n",
              "      <td>0.439471</td>\n",
              "      <td>11:17</td>\n",
              "    </tr>\n",
              "    <tr>\n",
              "      <td>4</td>\n",
              "      <td>1.624831</td>\n",
              "      <td>1.813894</td>\n",
              "      <td>0.695347</td>\n",
              "      <td>0.460836</td>\n",
              "      <td>11:24</td>\n",
              "    </tr>\n",
              "    <tr>\n",
              "      <td>5</td>\n",
              "      <td>1.393484</td>\n",
              "      <td>1.743363</td>\n",
              "      <td>0.708348</td>\n",
              "      <td>0.475993</td>\n",
              "      <td>11:25</td>\n",
              "    </tr>\n",
              "    <tr>\n",
              "      <td>6</td>\n",
              "      <td>1.284289</td>\n",
              "      <td>1.710711</td>\n",
              "      <td>0.715625</td>\n",
              "      <td>0.484429</td>\n",
              "      <td>11:23</td>\n",
              "    </tr>\n",
              "    <tr>\n",
              "      <td>7</td>\n",
              "      <td>1.126550</td>\n",
              "      <td>1.709512</td>\n",
              "      <td>0.717463</td>\n",
              "      <td>0.486723</td>\n",
              "      <td>11:22</td>\n",
              "    </tr>\n",
              "  </tbody>\n",
              "</table>"
            ],
            "text/plain": [
              "<IPython.core.display.HTML object>"
            ]
          },
          "metadata": {
            "tags": []
          }
        },
        {
          "output_type": "stream",
          "text": [
            "/usr/local/lib/python3.6/dist-packages/ipykernel_launcher.py:6: RuntimeWarning: overflow encountered in long_scalars\n",
            "  \n"
          ],
          "name": "stderr"
        }
      ]
    },
    {
      "cell_type": "code",
      "metadata": {
        "id": "DRHNgJfq9Oeu",
        "colab_type": "code",
        "outputId": "fd2479ed-52f9-41cb-ed5e-1c5c638a07f7",
        "colab": {
          "base_uri": "https://localhost:8080/",
          "height": 325
        }
      },
      "source": [
        "jlearn.fit_one_cycle(8, 5e-4, div_factor=5)"
      ],
      "execution_count": 0,
      "outputs": [
        {
          "output_type": "display_data",
          "data": {
            "text/html": [
              "<table border=\"1\" class=\"dataframe\">\n",
              "  <thead>\n",
              "    <tr style=\"text-align: left;\">\n",
              "      <th>epoch</th>\n",
              "      <th>train_loss</th>\n",
              "      <th>valid_loss</th>\n",
              "      <th>accuracy</th>\n",
              "      <th>bleu</th>\n",
              "      <th>time</th>\n",
              "    </tr>\n",
              "  </thead>\n",
              "  <tbody>\n",
              "    <tr>\n",
              "      <td>0</td>\n",
              "      <td>3.334582</td>\n",
              "      <td>3.570136</td>\n",
              "      <td>0.498652</td>\n",
              "      <td>0.294986</td>\n",
              "      <td>11:22</td>\n",
              "    </tr>\n",
              "    <tr>\n",
              "      <td>1</td>\n",
              "      <td>2.419559</td>\n",
              "      <td>2.543997</td>\n",
              "      <td>0.615261</td>\n",
              "      <td>0.378170</td>\n",
              "      <td>11:20</td>\n",
              "    </tr>\n",
              "    <tr>\n",
              "      <td>2</td>\n",
              "      <td>2.086362</td>\n",
              "      <td>2.118462</td>\n",
              "      <td>0.661029</td>\n",
              "      <td>0.422816</td>\n",
              "      <td>11:23</td>\n",
              "    </tr>\n",
              "    <tr>\n",
              "      <td>3</td>\n",
              "      <td>1.768372</td>\n",
              "      <td>1.922026</td>\n",
              "      <td>0.682879</td>\n",
              "      <td>0.446931</td>\n",
              "      <td>11:24</td>\n",
              "    </tr>\n",
              "    <tr>\n",
              "      <td>4</td>\n",
              "      <td>1.596714</td>\n",
              "      <td>1.806425</td>\n",
              "      <td>0.697513</td>\n",
              "      <td>0.462863</td>\n",
              "      <td>11:16</td>\n",
              "    </tr>\n",
              "    <tr>\n",
              "      <td>5</td>\n",
              "      <td>1.380304</td>\n",
              "      <td>1.733427</td>\n",
              "      <td>0.710721</td>\n",
              "      <td>0.477835</td>\n",
              "      <td>11:15</td>\n",
              "    </tr>\n",
              "    <tr>\n",
              "      <td>6</td>\n",
              "      <td>1.333426</td>\n",
              "      <td>1.713831</td>\n",
              "      <td>0.715306</td>\n",
              "      <td>0.483889</td>\n",
              "      <td>11:15</td>\n",
              "    </tr>\n",
              "    <tr>\n",
              "      <td>7</td>\n",
              "      <td>1.210745</td>\n",
              "      <td>1.714322</td>\n",
              "      <td>0.716311</td>\n",
              "      <td>0.484944</td>\n",
              "      <td>11:26</td>\n",
              "    </tr>\n",
              "  </tbody>\n",
              "</table>"
            ],
            "text/plain": [
              "<IPython.core.display.HTML object>"
            ]
          },
          "metadata": {
            "tags": []
          }
        },
        {
          "output_type": "stream",
          "text": [
            "/usr/local/lib/python3.6/dist-packages/ipykernel_launcher.py:6: RuntimeWarning: overflow encountered in long_scalars\n",
            "  \n"
          ],
          "name": "stderr"
        }
      ]
    },
    {
      "cell_type": "code",
      "metadata": {
        "id": "nN17XQjA9Oe2",
        "colab_type": "code",
        "colab": {}
      },
      "source": [
        "def get_predictions(learn, ds_type=DatasetType.Valid):\n",
        "    learn.model.eval()\n",
        "    inputs, targets, outputs = [],[],[]\n",
        "    with torch.no_grad():\n",
        "        for xb,yb in progress_bar(learn.dl(ds_type)):\n",
        "            out = learn.model(*xb)\n",
        "            for x,y,z in zip(xb[0],xb[1],out):\n",
        "                inputs.append(learn.data.train_ds.x.reconstruct(x))\n",
        "                targets.append(learn.data.train_ds.y.reconstruct(y))\n",
        "                outputs.append(learn.data.train_ds.y.reconstruct(z.argmax(1)))\n",
        "    return inputs, targets, outputs"
      ],
      "execution_count": 0,
      "outputs": []
    },
    {
      "cell_type": "code",
      "metadata": {
        "id": "LIXrYu9t9Oe_",
        "colab_type": "code",
        "outputId": "c682d91d-4c59-4a18-fa7e-232146ee9eca",
        "colab": {
          "base_uri": "https://localhost:8080/",
          "height": 37
        }
      },
      "source": [
        "inputs, targets, outputs = get_predictions(learn)"
      ],
      "execution_count": 0,
      "outputs": [
        {
          "output_type": "display_data",
          "data": {
            "text/html": [
              "\n",
              "    <div>\n",
              "        <style>\n",
              "            /* Turns off some styling */\n",
              "            progress {\n",
              "                /* gets rid of default border in Firefox and Opera. */\n",
              "                border: none;\n",
              "                /* Needs to be in here for Safari polyfill so background images work as expected. */\n",
              "                background-size: auto;\n",
              "            }\n",
              "            .progress-bar-interrupted, .progress-bar-interrupted::-webkit-progress-bar {\n",
              "                background: #F44336;\n",
              "            }\n",
              "        </style>\n",
              "      <progress value='240' class='' max='240', style='width:300px; height:20px; vertical-align: middle;'></progress>\n",
              "      100.00% [240/240 01:34<00:00]\n",
              "    </div>\n",
              "    "
            ],
            "text/plain": [
              "<IPython.core.display.HTML object>"
            ]
          },
          "metadata": {
            "tags": []
          }
        }
      ]
    },
    {
      "cell_type": "code",
      "metadata": {
        "id": "vu6DM7eX9OfH",
        "colab_type": "code",
        "outputId": "8cfce837-3c3d-4740-ba3d-f9f6c1b43084",
        "colab": {
          "base_uri": "https://localhost:8080/",
          "height": 72
        }
      },
      "source": [
        "inputs[700],targets[700],outputs[700]"
      ],
      "execution_count": 0,
      "outputs": [
        {
          "output_type": "execute_result",
          "data": {
            "text/plain": [
              "(Text xxbos trump ’s simplistic , xenophobic rhetoric will also find a sympathetic audience among poles and hungarians who fear large - scale immigration .,\n",
              " Text xxbos trumps vereinfachende , xxunk rhetorik wird auch bei jenen polen und ungarn anklang finden , die sich vor umfangreicher zuwanderung fürchten .,\n",
              " Text xxbos trumps allzu , fremdenfeindliche rhetorik wird auch unter polen polen und ungarn mit finden , die die vor großen einwanderung fürchten .)"
            ]
          },
          "metadata": {
            "tags": []
          },
          "execution_count": 61
        }
      ]
    },
    {
      "cell_type": "code",
      "metadata": {
        "id": "JUd7cNrC9OfN",
        "colab_type": "code",
        "outputId": "fbdb516c-1c0b-43a0-b4dd-ce7a0abe1c8d",
        "colab": {
          "base_uri": "https://localhost:8080/",
          "height": 72
        }
      },
      "source": [
        "inputs[701],targets[701],outputs[701]"
      ],
      "execution_count": 0,
      "outputs": [
        {
          "output_type": "execute_result",
          "data": {
            "text/plain": [
              "(Text xxbos my portal to the world of artificial intelligence is a narrow one : the more than xxunk - old game of chess .,\n",
              " Text xxbos mein eigener zugang zur welt der künstlichen intelligenz ist ein eng xxunk : das über 500 jahre alte xxunk schach .,\n",
              " Text xxbos meine xxunk xxunk zur welt der künstlichen intelligenz ist ein eng xxunk : je mehr xxunk - alten spiel . .)"
            ]
          },
          "metadata": {
            "tags": []
          },
          "execution_count": 62
        }
      ]
    },
    {
      "cell_type": "code",
      "metadata": {
        "id": "fUI9B7HD9OfX",
        "colab_type": "code",
        "outputId": "0d16e36c-e05d-4df5-ced0-5f48aad855f9",
        "colab": {
          "base_uri": "https://localhost:8080/",
          "height": 72
        }
      },
      "source": [
        "inputs[2000],targets[2000],outputs[2000]"
      ],
      "execution_count": 0,
      "outputs": [
        {
          "output_type": "execute_result",
          "data": {
            "text/plain": [
              "(Text xxbos the transition from autocracy to democracy in the middle east is likely to be bumpy and unstable , at best .,\n",
              " Text xxbos der übergang von der autokratie zur demokratie i m nahen osten wird wahrscheinlich holprig und instabil verlaufen – bestenfalls .,\n",
              " Text xxbos der übergang von autokratie autokratie zur demokratie i m nahen osten dürfte bestenfalls ein und instabil sein . bestenfalls .)"
            ]
          },
          "metadata": {
            "tags": []
          },
          "execution_count": 71
        }
      ]
    },
    {
      "cell_type": "code",
      "metadata": {
        "id": "h2VfkCLi9OfU",
        "colab_type": "code",
        "outputId": "cc562522-e892-42f9-e2a9-8f40f1ce4b96",
        "colab": {
          "base_uri": "https://localhost:8080/",
          "height": 72
        }
      },
      "source": [
        "inputs[2513],targets[2513],outputs[2513]"
      ],
      "execution_count": 0,
      "outputs": [
        {
          "output_type": "execute_result",
          "data": {
            "text/plain": [
              "(Text xxbos but it is time to go further and begin to lobby aggressively for faster financial liberalization in the developing world .,\n",
              " Text xxbos es ist allerdings an der zeit , sich darüber hinaus mit mehr nachdruck für eine raschere finanzliberalisierung in den entwicklungsländern einzusetzen .,\n",
              " Text xxbos doch ist jedoch an der zeit , sich weiter zu weiter einer zu zu eine schnellere liberalisierung in den entwicklungsländern zu .)"
            ]
          },
          "metadata": {
            "tags": []
          },
          "execution_count": 70
        }
      ]
    },
    {
      "cell_type": "code",
      "metadata": {
        "id": "13RbwHx-3H6m",
        "colab_type": "code",
        "outputId": "a658cbd3-59c1-444f-d7d4-7cd375846ea8",
        "colab": {
          "base_uri": "https://localhost:8080/",
          "height": 1000
        }
      },
      "source": [
        "for i in range(50):\n",
        "  print(inputs[i])\n",
        "  print(targets[i])\n",
        "  print(outputs[i])\n",
        "  print()"
      ],
      "execution_count": 0,
      "outputs": [
        {
          "output_type": "stream",
          "text": [
            "xxbos they are , however , preparing for a higher - interest - rate world , one marked by a transitional slowdown in growth .\n",
            "xxbos sie bereiten sich jedoch auf eine welt höherer zinsen vor , die durch eine vorübergehende wachstumsabschwächung gekennzeichnet ist .\n",
            "xxbos sie bereiten sich jedoch auf eine höhere mit zinssätze vor , die durch einen verlangsamung verlangsamung eintritt ist .\n",
            "\n",
            "xxbos so , in all likelihood , the world has been spared a policy that would be as futile as it would be destructive .\n",
            "xxbos also wurde der welt aller wahrscheinlichkeit nach eine maßnahme erspart , die ebenso zwecklos wie zerstörerisch gewesen wäre .\n",
            "xxbos die blieb die welt trotz wahrscheinlichkeit einer einer politik erspart , die ebenso vergeblich wäre sinnlos wäre wäre .\n",
            "\n",
            "xxbos on a similar scale , a vaccine to prevent human papilloma virus infection and cervical cancer was tested in almost 30,000 young women .\n",
            "xxbos in ähnlicher weise wurde ein impfstoff gegen das humane papillomavirus und gebärmutterhalskrebs an beinahe 30.000 jungen frauen getestet .\n",
            "xxbos in ähnlicher weise wurde ein impfstoff zur die verhindern xxunk und gebärmutterhalskrebs in beinahe 30.000 junge frauen getestet .\n",
            "\n",
            "xxbos real gdp has been increasing at around 3 % a year in advanced countries , and even faster recently in many emerging countries .\n",
            "xxbos das reale bip ist in industrieländern um zirka 3 % pro jahr gewachsen und in vielen schwellenländern sogar noch schneller .\n",
            "xxbos das reale bip steigt in den um rund 3 % gestiegen jahr gestiegen und in vielen schwellenländern sogar noch schneller .\n",
            "\n",
            "xxbos the country will inevitably become poorer as it xxunk its natural resources , unless the value of its human and physical capital increases .\n",
            "xxbos mit verbrauch seiner natürlichen ressourcen wird das land unweigerlich ärmer , sofern nicht der wert seines humankapitals und seines physischen kapitals steigt .\n",
            "xxbos das der wird natürlichen ressourcen wird das land unweigerlich ärmer werden wenn es der wert seiner menschlichen und des physischen kapitals erhöht .\n",
            "\n",
            "xxbos it was only later , starting perhaps with the xxunk trial in 1961 , that the holocaust became a staple of state propaganda .\n",
            "xxbos erst später , möglicherweise mit beginn des xxunk - prozesses i m jahr 1961 , wurde der holocaust ein zentrales thema der xxunk\n",
            "xxbos erst später begann zunächst mit dem des xxunk - prozesses i m jahr 1961 , wurde der holocaust zu xxunk xxunk staatlicher staatlichen .\n",
            "\n",
            "xxbos moreover , over the last two years , sea levels have not increased at all – actually , they show a slight drop .\n",
            "xxbos zudem sind die meeresspiegel in den letzten zwei jahren überhaupt nicht gestiegen – sie zeigen sogar eine leichte senkung .\n",
            "xxbos darüber haben in meeresspiegel in den letzten beiden jahren nicht nicht gestiegen – sie zeigen einen einen kleine abnahme .\n",
            "\n",
            "xxbos both israelis and palestinians must understand that the mere application of force will never be enough to achieve their long - term ends .\n",
            "xxbos sowohl israelis als auch palästinenser müssen begreifen , dass reine gewaltanwendung niemals ausreichen wird , um ihre langfristigen ziele zu erreichen .\n",
            "xxbos sowohl israelis als auch palästinenser müssen verstehen , dass die anwendung niemals ausreichen werden , um ihre langfristigen ziele zu erreichen .\n",
            "\n",
            "xxbos copenhagen – no matter how much some us presidential candidates may deride free trade , it remains the backbone of the american economy .\n",
            "xxbos kopenhagen – auch wenn einige us - präsidentschaftskandidaten den freien handel ablehnen , bleibt er doch das rückgrat der amerikanischen wirtschaft .\n",
            "xxbos kopenhagen – wie wie einige us - präsidentschaftskandidaten den freihandel handel fördern , bleibt sie das das rückgrat der amerikanischen wirtschaft .\n",
            "\n",
            "xxbos all this is making the western alliance look incoherent , and , despite its vast wealth and american military power , strangely impotent .\n",
            "xxbos all dies lässt das westliche bündnis inkohärent und trotz seines enormen reichtums und der amerikanischen militärmacht seltsam machtlos erscheinen .\n",
            "xxbos all dies macht sich westliche bündnis trotz und trotz seines enormen reichtums und amerikanischer amerikanischen militärmacht manchmal xxunk . .\n",
            "\n",
            "xxbos the price of gold went from $ xxunk an ounce – a price in effect since xxunk – to $ 35 an ounce .\n",
            "xxbos der goldpreis stieg von xxunk dollar pro unze – ein preis , der seit xxunk gegolten hatte – auf 35 dollar je unze\n",
            "xxbos der preis ging von gold dollar pro unze – ein preis für der seit xxunk – – – auf 35 dollar pro höher .\n",
            "\n",
            "xxbos and though news outlets may appeal in “ right to reply ” cases , doing so can lead to lengthy and costly lawsuits .\n",
            "xxbos die nachrichtenmedien können dem „ recht auf antwort “ zwar widersprechen , aber dies kann zu langen und teuren prozessen führen .\n",
            "xxbos und xxunk mögen sich „ recht auf “ “ manchmal attraktiv , aber dies kann zu lang und kostspieligen xxunk führen .\n",
            "\n",
            "xxbos this played a significant role in setting the stage for the two fastest generations of global economic growth the world has ever seen .\n",
            "xxbos das spielte eine erhebliche rolle dabei , die voraussetzungen für das über zwei generationen währende rascheste globale wirtschaftswachstum aller zeiten zu schaffen .\n",
            "xxbos diese spielte eine wesentliche rolle dabei , die beiden für die am die xxunk des weltweiten weltweit wirtschaftswachstum zu welt zu schaffen .\n",
            "\n",
            "xxbos indeed , a roman catholic church radio station , radio maria , is among the most notorious of the “ secret xxunk . ”\n",
            "xxbos tatsächlich zählt ein radiosender der römisch - katholischen kirche , radio maria , zu den berüchtigtsten der „ heimlichen xxunk ” .\n",
            "xxbos tatsächlich gehört ein römischen katholische römischen - katholische kirche , das , , am den am „ „ geheimen xxunk “ .\n",
            "\n",
            "xxbos for the past 50 years , these affluent countries have dominated the global economy , producing four - fifths of its economic output .\n",
            "xxbos während der vergangenen 50 jahre haben diese wohlhabenden länder die weltwirtschaft dominiert und dabei vier fünftel der wirtschaftsleistung hervorgebracht .\n",
            "xxbos in der vergangenen 50 jahre haben diese wohlhabenden länder die weltwirtschaft beherrscht und in vier fünftel ihrer wirtschaftlichen produziert .\n",
            "\n",
            "xxbos as values - based global governance continues to deteriorate , the need for such mechanisms of continuous interaction could not be more urgent .\n",
            "xxbos da sich die xxunk globale governance weiter verschlechtert , könnte die notwendigkeit solcher mechanismen kontinuierlicher interaktion nicht dringlicher sein .\n",
            "xxbos angesichts die die weltwirtschaft globale staatsführung weiter verschlechtert , könnte die notwendigkeit derartiger mechanismen der interaktion nicht dringender sein .\n",
            "\n",
            "xxbos national leaders and international organizations do deserve substantial credit for what has been done to bring about signs of recovery since the spring .\n",
            "xxbos den nationalen führungen und internationalen organisationen gebührt tatsächlich große anerkennung für ihre aktivitäten , seit dem frühjahr für zeichen einer erholung zu sorgen\n",
            "xxbos nationale nationalen führern und internationalen organisationen verdienen erhebliche eine anerkennung dafür das taten , um dem frühling anzeichen eine einer erholung zu sorgen .\n",
            "\n",
            "xxbos the quantities are huge , which suggests that the ttip could have an effect comparable to that of the single market for europe .\n",
            "xxbos der umfang ist gewaltig , was darauf hindeutet , dass die ttip einen ähnlichen effekt haben könnte wie der binnenmarkt für europa .\n",
            "xxbos die wert ist gewaltig , was darauf schließen , dass die ttip den effekt effekt auf könnte , der europäische für europa .\n",
            "\n",
            "xxbos america and the world should remember : argentina ’s privatization of its pension system was at the center of its recent fiscal woes .\n",
            "xxbos amerika und die welt sollten sich erinnern : i m mittelpunkt der jüngsten xxunk argentiniens stand die privatisierung des argentinischen rentensystems .\n",
            "xxbos amerika und die welt sollten sich erinnern : argentiniens m mittelpunkt ihrer jüngsten fiskalischen war xxunk das japanische ihres xxunk finanzsystems .\n",
            "\n",
            "xxbos after all , he knows what the cgt knows : that his railway policy could make or break his credibility as a reformer .\n",
            "xxbos schließlich weiß er , was der xxunk weiß : dass seine xxunk seine glaubwürdigkeit als reformer garantieren oder zunichtemachen könnte .\n",
            "xxbos schließlich weiß er , was der xxunk weiß : seine seine xxunk seine glaubwürdigkeit als reformer brechen oder durchbrechen könnte .\n",
            "\n",
            "xxbos one key priority area is teachers , who need strong incentives , effective training , and dependable support systems to deliver real learning .\n",
            "xxbos eine schlüsselpriorität sind die lehrer , die starke anreize , eine effektive ausbildung und verlässliche xxunk brauchen , um echtes lernen zu ermöglichen\n",
            "xxbos ein der ist lehrer lehrer , die starke anreize , effektive effektive ausbildung benötigen die unterstützung benötigen , um echte lernen zu gewährleisten .\n",
            "\n",
            "xxbos placing an emphasis on automated , computer - based systems for procurement and revenue collection will go a long way to limit corruption .\n",
            "xxbos eine betonung xxunk , xxunk systeme für die beschaffung und die steuererhebung würde die korruption bereits beträchtlich eindämmen .\n",
            "xxbos die betonung einer , xxunk systeme für beschaffung beschaffung und xxunk übertragung zu eine korruption deutlich lange einschränken .\n",
            "\n",
            "xxbos children gathered like xxunk to spilled sugar , jumping off xxunk and diving into its murky depths with screams and xxunk of excitement .\n",
            "xxbos dieses becken hat eine magische anziehungskraft auf die kinder ausgeübt , die mit großem xxunk von xxunk aus in die trübe tiefe xxunk\n",
            "xxbos kinder argument wurde sich xxunk haltung an xxunk kinder xxunk , die xxunk einer xxunk und xxunk und xxunk xxunk luft und xxunk .\n",
            "\n",
            "xxbos as a consequence of the horrors of the 1930 ’s , there remains substantial suspicion of concepts like “ greater east asia . ”\n",
            "xxbos als folge des xxunk der 1930er jahre blieb beträchtlicher argwohn gegenüber konzepten wie „ xxunk “ bestehen .\n",
            "xxbos infolgedessen folge des grauen der 1930er jahre bleibt der misstrauen von konzepte wie „ größeren asien . .\n",
            "\n",
            "xxbos if we scale this by national income across the world , this single category of violent crime costs 1.7 % of global gdp .\n",
            "xxbos gemessen am xxunk weltweit kostet allein diese form von gewaltverbrechen 1,7 % des globalen bruttosozialprodukts ( bip ) .\n",
            "xxbos wenn an nationalen in sind dies diese einzelne von xxunk für % des globalen bip . xxunk ) .\n",
            "\n",
            "xxbos besides , the nomination of a woman with a north - african ascent as minister of justice made that clear from the start .\n",
            "xxbos dies hat zudem die ernennung einer frau xxunk abstammung zur justizministerin von anfang an deutlich gemacht .\n",
            "xxbos außerdem hat die die nominierung einer frau mit aufstieg als zeit des gerechtigkeit an gezeigt gemacht .\n",
            "\n",
            "xxbos last summer , the un had to procure some five million liters of water from neighboring countries to meet the country ’s needs .\n",
            "xxbos i m vergangenen sommer mussten die vereinten nationen fünf millionen liter wasser aus nachbarstaaten bereitstellen , um den bedarf des landes zu decken\n",
            "xxbos i m letzten sommer mussten die vereinten nationen fünf millionen xxunk wasser aus dem des , um die bedürfnissen des landes zu decken .\n",
            "\n",
            "xxbos when demonstrations against sexual violence erupted in delhi , the indian president ’s son denounced the protesters as “ dented and painted . ”\n",
            "xxbos als in delhi demonstrationen gegen sexuelle gewalt ausbrachen , xxunk der sohn des indischen präsidenten die protestierenden als „ xxunk und xxunk “\n",
            "xxbos als demonstrationen delhi demonstrationen gegen sexuelle gewalt ausbrach , verurteilt der indische des indischen präsidenten die demonstranten als „ xxunk und xxunk “ .\n",
            "\n",
            "xxbos without fundamental change now , there is a real possibility of mass popular protests , and not just against tudjman 's direct heirs .\n",
            "xxbos ohne einen schnellen fundamentalen wechsel entsteht die möglichkeit von massiven öffentlichen protesten und das nicht nur gegen die direkten erben tudjmans .\n",
            "xxbos ohne grundlegende grundlegenden wandel wandel gibt die möglichkeit von xxunk protesten protesten , nicht nicht nur gegen die direkten erben von .\n",
            "\n",
            "xxbos after all , the eurozone still accounts for about 13 % of world output at market prices – about the same as china .\n",
            "xxbos schließlich entfallen auf die eurozone noch immer rund 13 % der weltweiten produktionsleistung zu marktpreisen – etwa genauso viel wie auf china .\n",
            "xxbos schließlich ist die die eurozone etwa immer etwa 13 % der weltweiten preise auf den – etwa dem wie wie china china .\n",
            "\n",
            "xxbos one the one hand , there are those who have made careers out of attacking the eu , often on entirely specious grounds .\n",
            "xxbos auf der einen seite stehen die , die ihre karriere darauf aufgebaut haben , die eu zu xxunk .\n",
            "xxbos einerseits der einen seite gibt diejenigen verantwortlichen die karrieren eu aus zog haben , die eu anzugreifen anzugreifen ,\n",
            "\n",
            "xxbos london – over the last few weeks , media around the world have been saturated with stories about how technology is destroying politics .\n",
            "xxbos london – in den letzten wochen waren medien auf der ganzen welt voller geschichten darüber , wie technologie die politik zerstört .\n",
            "xxbos london – in den letzten wochen sind medien auf der ganzen welt die geschichten , , wie technologie die politik zerstört .\n",
            "\n",
            "xxbos overall , the policies proposed by sanders and clinton would take the us closer to a european - style social - welfare state .\n",
            "xxbos insgesamt würden die von sanders und clinton propagierten maßnahmen die usa näher an einen wohlfahrtsstaat europäischer prägung rücken .\n",
            "xxbos insgesamt würde die von sanders und clinton vorgeschlagene maßnahmen den usa näher an einen sozialen i art nehmen .\n",
            "\n",
            "xxbos in addition , the single currency weakens the market signals that would otherwise warn a country that its fiscal deficits were becoming excessive .\n",
            "xxbos außerdem schwächt eine gemeinsame währung die marktsignale , die ein land andernfalls davor warnen würden , dass seine haushaltsdefizite zu hoch werden .\n",
            "xxbos außerdem schwächt die einheitswährung währung die xxunk , die vor land vor warnen warnen würde , dass ihre haushaltsdefizite zu einer wurden .\n",
            "\n",
            "xxbos gazprom ’s ambitions for gaining control of pipeline and energy transport infrastructure must be slowed , which requires allowing independent producers to prosper .\n",
            "xxbos gazproms ambitionen zur kontrolle der pipelines und der infrastruktur des xxunk müssen durch die förderung unabhängiger produzenten eingebremst werden .\n",
            "xxbos die ambitionen zur kontrolle der pipeline und der xxunk der xxunk müssen verlangsamt die gazprom unabhängiger produzenten zu werden .\n",
            "\n",
            "xxbos when he appeared before the british parliament in july , rupert murdoch looked like an old man , remote and out of control .\n",
            "xxbos bei seinem auftritt vor dem britischen parlament i m juli wirkte rupert murdoch wie ein alter mann , zerstreut und xxunk .\n",
            "xxbos als seinem britischen vor dem britischen parlament sah m juli sah murdoch murdoch wie ein alter mann , weit und außer .\n",
            "\n",
            "xxbos northern and southern europeans had very different perspectives on the euro crisis ; eastern and western europeans have very different views on refugees .\n",
            "xxbos nord- und xxunk hatten sehr unterschiedliche sichtweisen zur eurokrise ; ost- und westeuropäer vertreten sehr unterschiedliche meinungen zum thema flüchtlinge .\n",
            "xxbos die und südeuropa hatten ganz unterschiedliche perspektiven über eurokrise ; osteuropa und westeuropa haben ganz unterschiedliche ansichten über flüchtlinge flüchtlinge .\n",
            "\n",
            "xxbos in london , the air around the river thames is cooler than it is a few blocks away in built - up areas .\n",
            "xxbos in london ist es in den gebieten rund um die themse kühler als in gänzlich xxunk xxunk .\n",
            "xxbos in london ist die in der bereichen rund um den populismus xxunk , ein einigen xxunk gebieten .\n",
            "\n",
            "xxbos would it be the home country fsa , with its responsibility for consolidated supervision , even though it would have only limited powers ?\n",
            "xxbos sollte das die finanzaufsichtsbehörde des xxunk mit ihrer verantwortung für die konsolidierte aufsicht tun , obwohl sie nur über begrenzte befugnisse verfügt ?\n",
            "xxbos wäre es land xxunk von landes sein ihrer verantwortung für die xxunk aufsicht sein , obwohl sie nur begrenzte begrenzte mächte verfügen ?\n",
            "\n",
            "xxbos in short , eradicating the tb epidemic presupposes efforts to ensure that health - care systems are capable of delivering the right care .\n",
            "xxbos kurz gesagt : die tb - epidemie auszurotten , erfordert bemühungen , damit die gesundheitssysteme die richtige pflege leisten .\n",
            "xxbos kurz gesagt : die ausrottung - epidemie erfordert erfordert erfordert bemühungen , sicherzustellen gesundheitssysteme gesundheitssysteme in richtige versorgung verbessern können\n",
            "\n",
            "xxbos but biomedical research has yet to achieve the kind of productivity increases that accompanied the industrialization of combustion , electricity , and electronics .\n",
            "xxbos doch die biomedizinische forschung muss erst noch solche produktivitätssteigerungen erreichen , wie sie die industrialisierung von verbrennung , elektrizität und elektronik begleiteten .\n",
            "xxbos die die biomedizinische forschung muss die noch die xxunk erreichen , die die die industrialisierung von xxunk , strom und xxunk begleitet .\n",
            "\n",
            "xxbos what was announced was an interim framework ; a formal , comprehensive accord is supposed to be completed by the end of june .\n",
            "xxbos angekündigt wurde ein xxunk rahmenwerk , und bis juni soll eine formale , umfassende vereinbarung getroffen werden .\n",
            "xxbos was wurde ein xxunk bekannt bekannt ein ein ende soll ein umfassende , umfassende vereinbarung abgeschlossen werden .\n",
            "\n",
            "xxbos in these countries , many of which are rich in oil and gas , citizens are staging protests against corruption and political repression .\n",
            "xxbos in diesen ländern , von denen viele über reiche öl- und gasvorkommen verfügen , protestieren die bürger gegen korruption und politische repression .\n",
            "xxbos in diesen ländern werden von denen viele reich öl öl und gas verfügen , werden die bürger gegen korruption und politische repression .\n",
            "\n",
            "xxbos what this really highlights , however , is the importance of framing the debate about exchange - rate flexibility in a broader context .\n",
            "xxbos in wahrheit wird dadurch allerdings unterstrichen , wie wichtig es wäre , die debatte über wechselkursflexibilität in einem allgemeineren kontext zu führen .\n",
            "xxbos was diesem allerdings diese allerdings die , dass wichtig die ist , die debatte über die i einem umfassenderen kontext zu formulieren .\n",
            "\n",
            "xxbos unfortunately , when it comes to the environment , europe ’s have - nots are being told to carry the load by themselves .\n",
            "xxbos leider wird den habenichtsen in europa beim thema umwelt gesagt , dass sie die last alleine tragen müssen .\n",
            "xxbos leider werden es europäischen , europa , umfeld umwelt mit , die sie die last selbst tragen . .\n",
            "\n",
            "xxbos by offering our commitment and support , we can enable these countries to realize inclusive and sustainable development for the benefit of everyone .\n",
            "xxbos unser engagement und unsere unterstützung wird es diesen ländern ermöglichen , eine inklusive und nachhaltige entwicklung zum nutzen aller zu realisieren .\n",
            "xxbos indem engagement und unterstützung unterstützung bieten durch ermöglicht ländern ermöglichen , eine umfassende und nachhaltige entwicklung für vorteil aller zu realisieren .\n",
            "\n",
            "xxbos in a brief speech , he talked about the sanctity of contracts , government obligations , and repudiation under the guise of law .\n",
            "xxbos in einer kurzen rede sprach er über die heiligkeit von verträgen , staatliche verpflichtungen und xxunk in der xxunk der rechtsstaatlichkeit .\n",
            "xxbos in einer kurzen rede sprach er über die unantastbarkeit von verträge , verpflichtungen verpflichtungen und ablehnung unter der perspektive . xxunk .\n",
            "\n",
            "xxbos politically , the uk is already on its way to becoming an adversary , rather than a trusted partner , of the eu .\n",
            "xxbos politisch befindet sich das vereinigte königreich bereits auf dem weg , kein xxunk partner , sondern ein gegner der eu zu werden .\n",
            "xxbos politisch ist sich das vereinigte königreich bereits darauf seinem weg , einen xxunk partner der sondern eher xxunk der eu . werden .\n",
            "\n",
            "xxbos if festinger and friedman are right , little can be done about this , because such comparisons are a part of human nature .\n",
            "xxbos wenn xxunk und friedman recht haben , kann daran wenig geändert werden , weil solche vergleiche teil der menschlichen natur sind .\n",
            "xxbos wenn propaganda und friedman recht haben , kann wenig wenig getan werden , weil derartige vergleiche teil der menschlichen natur sind .\n",
            "\n",
            "xxbos the obama administration , including clinton , initially portrayed these steps as part of a “ balancing act ” on yanukovych ’s part .\n",
            "xxbos die regierung obama , unter einschluss clintons , hat diese schritte ursprünglich als teil eines „ xxunk “ janukowitschs dargestellt .\n",
            "xxbos die regierung obama , einschließlich anderem clinton , hat diese schritte zunächst als teil eines „ xxunk “ auf bestandteil .\n",
            "\n"
          ],
          "name": "stdout"
        }
      ]
    }
  ]
}