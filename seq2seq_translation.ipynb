{
  "nbformat": 4,
  "nbformat_minor": 0,
  "metadata": {
    "kernelspec": {
      "name": "python3",
      "display_name": "Python 3"
    },
    "language_info": {
      "codemirror_mode": {
        "name": "ipython",
        "version": 3
      },
      "file_extension": ".py",
      "mimetype": "text/x-python",
      "name": "python",
      "nbconvert_exporter": "python",
      "pygments_lexer": "ipython3",
      "version": "3.7.1"
    },
    "colab": {
      "name": "seq2seq-translation.ipynb",
      "version": "0.3.2",
      "provenance": [],
      "collapsed_sections": [],
      "toc_visible": true,
      "machine_shape": "hm",
      "include_colab_link": true
    },
    "accelerator": "GPU"
  },
  "cells": [
    {
      "cell_type": "markdown",
      "metadata": {
        "id": "view-in-github",
        "colab_type": "text"
      },
      "source": [
        "<a href=\"https://colab.research.google.com/github/magicaltrap/english_german_translation/blob/master/seq2seq_translation.ipynb\" target=\"_parent\"><img src=\"https://colab.research.google.com/assets/colab-badge.svg\" alt=\"Open In Colab\"/></a>"
      ]
    },
    {
      "cell_type": "code",
      "metadata": {
        "id": "RQdli57wX7yw",
        "colab_type": "code",
        "outputId": "0b74b30c-df07-4850-8b41-0b90c5b123a2",
        "colab": {
          "base_uri": "https://localhost:8080/",
          "height": 54
        }
      },
      "source": [
        "!curl -s https://course.fast.ai/setup/colab | bash"
      ],
      "execution_count": 0,
      "outputs": [
        {
          "output_type": "stream",
          "text": [
            "Updating fastai...\n",
            "Done.\n"
          ],
          "name": "stdout"
        }
      ]
    },
    {
      "cell_type": "code",
      "metadata": {
        "id": "k0hFVlow0Z-C",
        "colab_type": "code",
        "colab": {}
      },
      "source": [
        "from google.colab import drive\n",
        "drive.mount('/content/gdrive', force_remount=True)\n",
        "root_dir = \"/content/gdrive/My Drive/\"\n",
        "path_translation = \"/content/gdrive/My Drive/data/translation/\"\n",
        "path_translation_data = \"/content/gdrive/My Drive/data/translation/data/\""
      ],
      "execution_count": 0,
      "outputs": []
    },
    {
      "cell_type": "code",
      "metadata": {
        "id": "v9U9owaXWcgT",
        "colab_type": "code",
        "colab": {}
      },
      "source": [
        "from fastai.text import *"
      ],
      "execution_count": 0,
      "outputs": []
    },
    {
      "cell_type": "markdown",
      "metadata": {
        "id": "cHxfuYsw6xrA",
        "colab_type": "text"
      },
      "source": [
        "# Methods for creating and loading Databunches"
      ]
    },
    {
      "cell_type": "code",
      "metadata": {
        "id": "5xoiPXk6Wcg-",
        "colab_type": "code",
        "colab": {}
      },
      "source": [
        "def seq2seq_collate(samples, pad_idx=1, pad_first=True, backwards=False):\n",
        "    \"Function that collect samples and adds padding. Flips token order if needed\"\n",
        "    samples = to_data(samples) #https://docs.fast.ai/torch_core.html#to_data #to their int value?\n",
        "    max_len_x,max_len_y = max([len(s[0]) for s in samples]),max([len(s[1]) for s in samples]) #max length of a sentence in the dataset\n",
        "    res_x = torch.zeros(len(samples), max_len_x).long() + pad_idx #samples x max_len of whole data \n",
        "    res_y = torch.zeros(len(samples), max_len_y).long() + pad_idx\n",
        "    if backwards: pad_first = not pad_first\n",
        "    for i,s in enumerate(samples): #go through every sample\n",
        "        if pad_first: #padding tokens first then emb\n",
        "            res_x[i,-len(s[0]):],res_y[i,-len(s[1]):] = LongTensor(s[0]),LongTensor(s[1]) #row 0, 1, 2 (one sentence in each language each)\n",
        "        else:         \n",
        "            res_x[i,:len(s[0]):],res_y[i,:len(s[1]):] = LongTensor(s[0]),LongTensor(s[1])\n",
        "    if backwards: res_x,res_y = res_x.flip(1),res_y.flip(1)\n",
        "    return res_x,res_y"
      ],
      "execution_count": 0,
      "outputs": []
    },
    {
      "cell_type": "code",
      "metadata": {
        "id": "IQB9EqKgWchL",
        "colab_type": "code",
        "colab": {}
      },
      "source": [
        "class Seq2SeqDataBunch(TextDataBunch):\n",
        "    \"Create a `TextDataBunch` suitable for training an RNN classifier.\"\n",
        "    @classmethod\n",
        "    def create(cls, train_ds, valid_ds, test_ds=None, path:PathOrStr='.', bs:int=32, val_bs:int=None, pad_idx=1,\n",
        "               dl_tfms=None, pad_first=False, device:torch.device=None, no_check:bool=False, backwards:bool=False, **dl_kwargs) -> DataBunch:\n",
        "        \"Function that transform the `datasets` in a `DataBunch` for classification. Passes `**dl_kwargs` on to `DataLoader()`\"\n",
        "        datasets = cls._init_ds(train_ds, valid_ds, test_ds)\n",
        "        val_bs = ifnone(val_bs, bs)\n",
        "        collate_fn = partial(seq2seq_collate, pad_idx=pad_idx, pad_first=pad_first, backwards=backwards)\n",
        "        train_sampler = SortishSampler(datasets[0].x, key=lambda t: len(datasets[0][t][0].data), bs=bs//2)\n",
        "        train_dl = DataLoader(datasets[0], batch_size=bs, sampler=train_sampler, drop_last=True, **dl_kwargs)\n",
        "        dataloaders = [train_dl]\n",
        "        for ds in datasets[1:]:\n",
        "            lengths = [len(t) for t in ds.x.items]\n",
        "            sampler = SortSampler(ds.x, key=lengths.__getitem__)\n",
        "            dataloaders.append(DataLoader(ds, batch_size=val_bs, sampler=sampler, **dl_kwargs))\n",
        "        return cls(*dataloaders, path=path, device=device, collate_fn=collate_fn, no_check=no_check)"
      ],
      "execution_count": 0,
      "outputs": []
    },
    {
      "cell_type": "code",
      "metadata": {
        "id": "flUxRvu2WchS",
        "colab_type": "code",
        "colab": {}
      },
      "source": [
        "class Seq2SeqTextList(TextList):\n",
        "    _bunch = Seq2SeqDataBunch\n",
        "    _label_cls = TextList"
      ],
      "execution_count": 0,
      "outputs": []
    },
    {
      "cell_type": "markdown",
      "metadata": {
        "id": "6e1V3wpc4IAo",
        "colab_type": "text"
      },
      "source": [
        "## Load Databunch (137k) and Embeddings"
      ]
    },
    {
      "cell_type": "code",
      "metadata": {
        "id": "D0OlstPJ4QWz",
        "colab_type": "code",
        "colab": {}
      },
      "source": [
        "data = load_data(path_translation_data, \"db1_137k_25sl\")"
      ],
      "execution_count": 0,
      "outputs": []
    },
    {
      "cell_type": "code",
      "metadata": {
        "id": "WvdXW6fL4qbj",
        "colab_type": "code",
        "outputId": "b9d86b59-0316-4ef7-8acc-7db1844f6091",
        "colab": {
          "base_uri": "https://localhost:8080/",
          "height": 285
        }
      },
      "source": [
        "data.show_batch()"
      ],
      "execution_count": 0,
      "outputs": [
        {
          "output_type": "display_data",
          "data": {
            "text/html": [
              "<table border=\"1\" class=\"dataframe\">\n",
              "  <thead>\n",
              "    <tr style=\"text-align: right;\">\n",
              "      <th>text</th>\n",
              "      <th>target</th>\n",
              "    </tr>\n",
              "  </thead>\n",
              "  <tbody>\n",
              "    <tr>\n",
              "      <td>xxbos to be sure , substantial progress has been made in the last 15 years , and efforts are being made to sustain it .</td>\n",
              "      <td>xxbos sicherlich wurden in den letzten fünfzehn jahren erhebliche fortschritte gemacht , und die bemühungen gehen weiter .</td>\n",
              "    </tr>\n",
              "    <tr>\n",
              "      <td>xxbos despite a change of government in the netherlands since voluntary euthanasia was legalized , no effort has been made to repeal the measure .</td>\n",
              "      <td>xxbos trotz eines xxunk in den niederlanden seit der legalisierung der freiwilligen euthanasie , gab es keinerlei bemühungen diese maßnahme aufzuheben .</td>\n",
              "    </tr>\n",
              "    <tr>\n",
              "      <td>xxbos and now , with the election results inciting the largest protests since the collapse of the soviet union , that hope is growing .</td>\n",
              "      <td>xxbos und jetzt , da das wahlergebnis die größten proteste seit dem zusammenbruch der sowjetunion hervorruft , wächst diese hoffnung noch weiter .</td>\n",
              "    </tr>\n",
              "    <tr>\n",
              "      <td>xxbos this is a matter of human rights and basic values , and it is vital to peace and cohesion in societies across europe .</td>\n",
              "      <td>xxbos das ist eine frage der menschenrechte und der grundwerte und von entscheidender bedeutung für den frieden und zusammenhalt der gesellschaften in ganz europa .</td>\n",
              "    </tr>\n",
              "    <tr>\n",
              "      <td>xxbos so mexico 's auto industry must make huge advances in productivity if it is to maintain the same wage level in the future .</td>\n",
              "      <td>xxbos wenn man daher in zukunft das einkommensniveau halten will , muss die mexikanische autoindustrie große produktivitätszuwächse aufweisen .</td>\n",
              "    </tr>\n",
              "  </tbody>\n",
              "</table>"
            ],
            "text/plain": [
              "<IPython.core.display.HTML object>"
            ]
          },
          "metadata": {
            "tags": []
          }
        }
      ]
    },
    {
      "cell_type": "code",
      "metadata": {
        "id": "35mBRJj2WciS",
        "colab_type": "code",
        "colab": {}
      },
      "source": [
        "emb_enc = torch.load(path_translation + 'en_emb_137k_25l.pth')\n",
        "emb_dec = torch.load(path_translation + 'de_emb_137k_25l.pth')"
      ],
      "execution_count": 0,
      "outputs": []
    },
    {
      "cell_type": "markdown",
      "metadata": {
        "id": "v3_7YEFAWciV",
        "colab_type": "text"
      },
      "source": [
        "## Model"
      ]
    },
    {
      "cell_type": "markdown",
      "metadata": {
        "id": "NhzTi2TtWciX",
        "colab_type": "text"
      },
      "source": [
        "### Encoders & Decoders"
      ]
    },
    {
      "cell_type": "markdown",
      "metadata": {
        "id": "RagejY9HWciZ",
        "colab_type": "text"
      },
      "source": [
        "The model in itself consists in an encoder and a decoder\n",
        "\n",
        "![Seq2seq model](https://github.com/fastai/course-nlp/blob/master/images/seq2seq.png?raw=1)\n",
        "\n",
        "<center><i>Diagram from Smerity's <a href=\"https://smerity.com/articles/2016/google_nmt_arch.html\">Peeking into the neural network architecture used for Google's Neural Machine Translation</a></i></center>\n",
        "\n",
        "The encoder is a recurrent neural net and we feed it our input sentence, producing an output (that we discard for now) and a hidden state.  A **hidden state** is the activations that come out of an RNN.\n",
        "\n",
        "That hidden state is then given to the decoder (an other RNN) which uses it in conjunction with the outputs it predicts to get produce the translation. We loop until the decoder produces a padding token (or at 25 iterations to make sure it's not an infinite loop at the beginning of training). We will use GRUs for both encoder decoder."
      ]
    },
    {
      "cell_type": "code",
      "metadata": {
        "id": "E09LC4UWWcia",
        "colab_type": "code",
        "colab": {}
      },
      "source": [
        "class Seq2SeqRNN(nn.Module):\n",
        "    def __init__(self, emb_enc, emb_dec, \n",
        "                    nh, out_sl, \n",
        "                    nl=2, bos_idx=0, pad_idx=1):\n",
        "        super().__init__()\n",
        "        #sizes\n",
        "        self.nl,self.nh,self.out_sl = nl,nh,out_sl\n",
        "        self.bos_idx,self.pad_idx = bos_idx,pad_idx\n",
        "        self.em_sz_enc = emb_enc.embedding_dim #emb size: 300\n",
        "        self.em_sz_dec = emb_dec.embedding_dim #300\n",
        "        self.voc_sz_dec = emb_dec.num_embeddings #number of vocab emb: emb_dec.weight.data.shape[0]\n",
        "        \n",
        "        #embedding\n",
        "        self.emb_enc = emb_enc\n",
        "        self.emb_enc_drop = nn.Dropout(0.15)\n",
        "        \n",
        "        #Encoder\n",
        "        self.gru_enc = nn.GRU(self.em_sz_enc, nh, num_layers=nl, #GRU (em_sz_enc=300, nh=256, num_layers=2)\n",
        "                              dropout=0.25, batch_first=True) #setting num_layers=2 would mean stacking two GRUs together to form a stacked GRU, with the second GRU taking in outputs of the first GRU and computing the final results.\n",
        "        self.out_enc = nn.Linear(nh, self.em_sz_dec, bias=False) #nh=256, em_sz_dec=300 (initial input for decoder)\n",
        "        \n",
        "                \n",
        "        #Decoder\n",
        "        self.emb_dec = emb_dec\n",
        "        self.gru_dec = nn.GRU(self.em_sz_dec, self.em_sz_dec, num_layers=nl,  #input=300, output=300\n",
        "                              dropout=0.1, batch_first=True)\n",
        "        self.out_drop = nn.Dropout(0.35)\n",
        "        self.out = nn.Linear(self.em_sz_dec, self.voc_sz_dec) #300, vocab size decoder\n",
        "        self.out.weight.data = self.emb_dec.weight.data #the embedding matrix\n",
        "        \n",
        "        \n",
        "        \n",
        "        \n",
        "    def encoder(self, bs, inp):\n",
        "        h = self.initHidden(bs) #initial start (empty)?\n",
        "        emb = self.emb_enc_drop(self.emb_enc(inp))  #embedding and then dropout\n",
        "        _, h = self.gru_enc(emb, h) #current emb + previous step + discard output\n",
        "        h = self.out_enc(h) #output of encoder (hidden state)\n",
        "        return h\n",
        "    \n",
        "    def decoder(self, dec_inp, h):\n",
        "        emb = self.emb_dec(dec_inp).unsqueeze(1) #embeddings of target sentence\n",
        "        outp, h = self.gru_dec(emb, h) #embedding+previous hidden state\n",
        "        outp = self.out(self.out_drop(outp[:,0])) #output is of size decoder vocab size (which word to pick, with probs)\n",
        "        return h, outp\n",
        "        \n",
        "        \n",
        "        \n",
        "    def forward(self, inp):\n",
        "        bs, sl = inp.size() #batch size, sentence length\n",
        "        h = self.encoder(bs, inp) #input for encoder (batch size, input) output: hidden state for decoder\n",
        "        dec_inp = inp.new_zeros(bs).long() + self.bos_idx\n",
        "        \n",
        "        res = []\n",
        "        for i in range(self.out_sl): #max sentence length\n",
        "            h, outp = self.decoder(dec_inp, h) #input for decoder\n",
        "            dec_inp = outp.max(1)[1] #pick the word with highest prob\n",
        "            res.append(outp)\n",
        "            if (dec_inp==self.pad_idx).all(): break\n",
        "        return torch.stack(res, dim=1)\n",
        "    \n",
        "    def initHidden(self, bs): return one_param(self).new_zeros(self.nl, bs, self.nh) #in Encoder: 2 (numb of layers=2, batch size, self.nh=256)"
      ],
      "execution_count": 0,
      "outputs": []
    },
    {
      "cell_type": "code",
      "metadata": {
        "id": "2-oxWWOeWcif",
        "colab_type": "code",
        "colab": {}
      },
      "source": [
        "xb,yb = next(iter(data.valid_dl))"
      ],
      "execution_count": 0,
      "outputs": []
    },
    {
      "cell_type": "code",
      "metadata": {
        "id": "57N8WwL5Wcih",
        "colab_type": "code",
        "outputId": "fef47350-8698-4816-fcda-d7d1b30e7bbe",
        "colab": {
          "base_uri": "https://localhost:8080/",
          "height": 35
        }
      },
      "source": [
        "xb.shape #bs, max sentence length"
      ],
      "execution_count": 0,
      "outputs": [
        {
          "output_type": "execute_result",
          "data": {
            "text/plain": [
              "torch.Size([64, 25])"
            ]
          },
          "metadata": {
            "tags": []
          },
          "execution_count": 145
        }
      ]
    },
    {
      "cell_type": "code",
      "metadata": {
        "id": "WDh2SyNdWcii",
        "colab_type": "code",
        "colab": {}
      },
      "source": [
        "rnn = Seq2SeqRNN(emb_enc, emb_dec, 256, 25)"
      ],
      "execution_count": 0,
      "outputs": []
    },
    {
      "cell_type": "code",
      "metadata": {
        "scrolled": true,
        "id": "TPAD-QpZWcik",
        "colab_type": "code",
        "outputId": "70b73c00-210e-4888-c756-6ea67d440780",
        "colab": {
          "base_uri": "https://localhost:8080/",
          "height": 199
        }
      },
      "source": [
        "rnn"
      ],
      "execution_count": 0,
      "outputs": [
        {
          "output_type": "execute_result",
          "data": {
            "text/plain": [
              "Seq2SeqRNN(\n",
              "  (emb_enc): Embedding(33272, 300, padding_idx=1)\n",
              "  (emb_enc_drop): Dropout(p=0.15)\n",
              "  (gru_enc): GRU(300, 256, num_layers=2, batch_first=True, dropout=0.25)\n",
              "  (out_enc): Linear(in_features=256, out_features=300, bias=False)\n",
              "  (emb_dec): Embedding(60000, 300, padding_idx=1)\n",
              "  (gru_dec): GRU(300, 300, num_layers=2, batch_first=True, dropout=0.1)\n",
              "  (out_drop): Dropout(p=0.35)\n",
              "  (out): Linear(in_features=300, out_features=60000, bias=True)\n",
              ")"
            ]
          },
          "metadata": {
            "tags": []
          },
          "execution_count": 147
        }
      ]
    },
    {
      "cell_type": "code",
      "metadata": {
        "id": "NI2aYBlHZOFj",
        "colab_type": "code",
        "outputId": "5fc295ff-4c3a-4973-8560-a763f8484c6f",
        "colab": {
          "base_uri": "https://localhost:8080/",
          "height": 163
        }
      },
      "source": [
        "xb, xb.shape"
      ],
      "execution_count": 0,
      "outputs": [
        {
          "output_type": "execute_result",
          "data": {
            "text/plain": [
              "(tensor([[   2,   44,   26,  ...,   15,   86,   11],\n",
              "         [   2,   65,   10,  ...,   25, 3032,   11],\n",
              "         [   2,   27,   16,  ...,  501,  264,   11],\n",
              "         ...,\n",
              "         [   2,  576,   56,  ...,   11,  706,  706],\n",
              "         [   2,  155,   10,  ...,   61,  398,   11],\n",
              "         [   2,  347,   89,  ..., 5642,  896,   11]], device='cuda:0'),\n",
              " torch.Size([64, 25]))"
            ]
          },
          "metadata": {
            "tags": []
          },
          "execution_count": 149
        }
      ]
    },
    {
      "cell_type": "code",
      "metadata": {
        "id": "-2LHKpBnWcin",
        "colab_type": "code",
        "colab": {}
      },
      "source": [
        "h = rnn.encoder(64, xb.cpu())"
      ],
      "execution_count": 0,
      "outputs": []
    },
    {
      "cell_type": "code",
      "metadata": {
        "id": "j7i_6eMXWcio",
        "colab_type": "code",
        "outputId": "30a9fe7e-0843-459b-8ef0-75e0832790ba",
        "colab": {
          "base_uri": "https://localhost:8080/",
          "height": 35
        }
      },
      "source": [
        "h.size() #number of layers, bs, emb_z"
      ],
      "execution_count": 0,
      "outputs": [
        {
          "output_type": "execute_result",
          "data": {
            "text/plain": [
              "torch.Size([2, 64, 300])"
            ]
          },
          "metadata": {
            "tags": []
          },
          "execution_count": 151
        }
      ]
    },
    {
      "cell_type": "markdown",
      "metadata": {
        "id": "U6ISI5pCWciq",
        "colab_type": "text"
      },
      "source": [
        "The loss pads output and target so that they are of the same size before using the usual flattened version of cross entropy. We do the same for accuracy."
      ]
    },
    {
      "cell_type": "code",
      "metadata": {
        "id": "e5M35_eSWcit",
        "colab_type": "code",
        "colab": {}
      },
      "source": [
        "def seq2seq_loss(out, targ, pad_idx=1):\n",
        "    bs,targ_len = targ.size()\n",
        "    _,out_len,vs = out.size()\n",
        "    if targ_len>out_len: out  = F.pad(out,  (0,0,0,targ_len-out_len,0,0), value=pad_idx)\n",
        "    if out_len>targ_len: targ = F.pad(targ, (0,out_len-targ_len,0,0), value=pad_idx)\n",
        "    return CrossEntropyFlat()(out, targ)"
      ],
      "execution_count": 0,
      "outputs": []
    },
    {
      "cell_type": "markdown",
      "metadata": {
        "id": "NiwCzV5UWciv",
        "colab_type": "text"
      },
      "source": [
        "## Train our model"
      ]
    },
    {
      "cell_type": "code",
      "metadata": {
        "id": "nqEWJ9wvWciv",
        "colab_type": "code",
        "colab": {}
      },
      "source": [
        "learn = Learner(data, rnn, loss_func=seq2seq_loss)"
      ],
      "execution_count": 0,
      "outputs": []
    },
    {
      "cell_type": "code",
      "metadata": {
        "scrolled": false,
        "id": "WENPlSdMWciw",
        "colab_type": "code",
        "outputId": "d03723cc-cd6b-4c1a-b868-872787d3b8f2",
        "colab": {
          "base_uri": "https://localhost:8080/",
          "height": 35
        }
      },
      "source": [
        "learn.lr_find()"
      ],
      "execution_count": 0,
      "outputs": [
        {
          "output_type": "display_data",
          "data": {
            "text/html": [
              ""
            ],
            "text/plain": [
              "<IPython.core.display.HTML object>"
            ]
          },
          "metadata": {
            "tags": []
          }
        },
        {
          "output_type": "stream",
          "text": [
            "LR Finder is complete, type {learner_name}.recorder.plot() to see the graph.\n"
          ],
          "name": "stdout"
        }
      ]
    },
    {
      "cell_type": "code",
      "metadata": {
        "id": "Ay0yc_LsbQ9c",
        "colab_type": "code",
        "outputId": "1fbdb530-e5b3-40bd-e669-c3798fc2d3ba",
        "colab": {
          "base_uri": "https://localhost:8080/",
          "height": 284
        }
      },
      "source": [
        "learn.recorder.plot()"
      ],
      "execution_count": 0,
      "outputs": [
        {
          "output_type": "display_data",
          "data": {
            "image/png": "[encoded data removed]",
            "text/plain": [
              "<Figure size 432x288 with 1 Axes>"
            ]
          },
          "metadata": {
            "tags": []
          }
        }
      ]
    },
    {
      "cell_type": "code",
      "metadata": {
        "id": "Dn2EqmmvbkOV",
        "colab_type": "code",
        "outputId": "a9a74b59-279c-4a3b-8132-7e3aafa96fc3",
        "colab": {
          "base_uri": "https://localhost:8080/",
          "height": 168
        }
      },
      "source": [
        "learn.fit_one_cycle(4, 1e-3)"
      ],
      "execution_count": 0,
      "outputs": [
        {
          "output_type": "display_data",
          "data": {
            "text/html": [
              "<table border=\"1\" class=\"dataframe\">\n",
              "  <thead>\n",
              "    <tr style=\"text-align: left;\">\n",
              "      <th>epoch</th>\n",
              "      <th>train_loss</th>\n",
              "      <th>valid_loss</th>\n",
              "      <th>time</th>\n",
              "    </tr>\n",
              "  </thead>\n",
              "  <tbody>\n",
              "    <tr>\n",
              "      <td>0</td>\n",
              "      <td>6.183660</td>\n",
              "      <td>7.437054</td>\n",
              "      <td>21:21</td>\n",
              "    </tr>\n",
              "    <tr>\n",
              "      <td>1</td>\n",
              "      <td>5.517251</td>\n",
              "      <td>6.377806</td>\n",
              "      <td>19:53</td>\n",
              "    </tr>\n",
              "    <tr>\n",
              "      <td>2</td>\n",
              "      <td>5.264047</td>\n",
              "      <td>6.305460</td>\n",
              "      <td>20:19</td>\n",
              "    </tr>\n",
              "    <tr>\n",
              "      <td>3</td>\n",
              "      <td>4.947694</td>\n",
              "      <td>5.875203</td>\n",
              "      <td>20:33</td>\n",
              "    </tr>\n",
              "  </tbody>\n",
              "</table>"
            ],
            "text/plain": [
              "<IPython.core.display.HTML object>"
            ]
          },
          "metadata": {
            "tags": []
          }
        }
      ]
    },
    {
      "cell_type": "markdown",
      "metadata": {
        "id": "yBEhEz9UWci3",
        "colab_type": "text"
      },
      "source": [
        "Let's free up some RAM"
      ]
    },
    {
      "cell_type": "code",
      "metadata": {
        "id": "aBei6s9vWci3",
        "colab_type": "code",
        "colab": {}
      },
      "source": [
        "del de_vecs\n",
        "del en_vecs"
      ],
      "execution_count": 0,
      "outputs": []
    },
    {
      "cell_type": "markdown",
      "metadata": {
        "id": "BdN8wPABWci5",
        "colab_type": "text"
      },
      "source": [
        "As loss is not very interpretable, let's also look at the accuracy.  Again, we will add padding so that the output and target are of the same length."
      ]
    },
    {
      "cell_type": "code",
      "metadata": {
        "id": "cNhsWT73Wci5",
        "colab_type": "code",
        "colab": {}
      },
      "source": [
        "def seq2seq_acc(out, targ, pad_idx=1):\n",
        "    bs,targ_len = targ.size()\n",
        "    _,out_len,vs = out.size()\n",
        "    if targ_len>out_len: out  = F.pad(out,  (0,0,0,targ_len-out_len,0,0), value=pad_idx)\n",
        "    if out_len>targ_len: targ = F.pad(targ, (0,out_len-targ_len,0,0), value=pad_idx)\n",
        "    out = out.argmax(2)\n",
        "    return (out==targ).float().mean()"
      ],
      "execution_count": 0,
      "outputs": []
    },
    {
      "cell_type": "markdown",
      "metadata": {
        "id": "D9Vi-Cb5Wci7",
        "colab_type": "text"
      },
      "source": [
        "### Bleu metric"
      ]
    },
    {
      "cell_type": "code",
      "metadata": {
        "id": "Xvj8JyxYWci7",
        "colab_type": "code",
        "colab": {}
      },
      "source": [
        "class NGram():\n",
        "    def __init__(self, ngram, max_n=5000): self.ngram,self.max_n = ngram,max_n\n",
        "    def __eq__(self, other):\n",
        "        if len(self.ngram) != len(other.ngram): return False\n",
        "        return np.all(np.array(self.ngram) == np.array(other.ngram))\n",
        "    def __hash__(self): return int(sum([o * self.max_n**i for i,o in enumerate(self.ngram)]))"
      ],
      "execution_count": 0,
      "outputs": []
    },
    {
      "cell_type": "code",
      "metadata": {
        "id": "dEr8UJsXWci9",
        "colab_type": "code",
        "colab": {}
      },
      "source": [
        "def get_grams(x, n, max_n=5000):\n",
        "    return x if n==1 else [NGram(x[i:i+n], max_n=max_n) for i in range(len(x)-n+1)]"
      ],
      "execution_count": 0,
      "outputs": []
    },
    {
      "cell_type": "code",
      "metadata": {
        "id": "_nYgCdQCWcjA",
        "colab_type": "code",
        "colab": {}
      },
      "source": [
        "def get_correct_ngrams(pred, targ, n, max_n=5000):\n",
        "    pred_grams,targ_grams = get_grams(pred, n, max_n=max_n),get_grams(targ, n, max_n=max_n)\n",
        "    pred_cnt,targ_cnt = Counter(pred_grams),Counter(targ_grams)\n",
        "    return sum([min(c, targ_cnt[g]) for g,c in pred_cnt.items()]),len(pred_grams)"
      ],
      "execution_count": 0,
      "outputs": []
    },
    {
      "cell_type": "code",
      "metadata": {
        "id": "7OuRk69RWcjC",
        "colab_type": "code",
        "colab": {}
      },
      "source": [
        "class CorpusBLEU(Callback):\n",
        "    def __init__(self, vocab_sz):\n",
        "        self.vocab_sz = vocab_sz\n",
        "        self.name = 'bleu'\n",
        "    \n",
        "    def on_epoch_begin(self, **kwargs):\n",
        "        self.pred_len,self.targ_len,self.corrects,self.counts = 0,0,[0]*4,[0]*4\n",
        "    \n",
        "    def on_batch_end(self, last_output, last_target, **kwargs):\n",
        "        last_output = last_output.argmax(dim=-1)\n",
        "        for pred,targ in zip(last_output.cpu().numpy(),last_target.cpu().numpy()):\n",
        "            self.pred_len += len(pred)\n",
        "            self.targ_len += len(targ)\n",
        "            for i in range(4):\n",
        "                c,t = get_correct_ngrams(pred, targ, i+1, max_n=self.vocab_sz)\n",
        "                self.corrects[i] += c\n",
        "                self.counts[i]   += t\n",
        "    \n",
        "    def on_epoch_end(self, last_metrics, **kwargs):\n",
        "        precs = [c/t for c,t in zip(self.corrects,self.counts)]\n",
        "        len_penalty = exp(1 - self.targ_len/self.pred_len) if self.pred_len < self.targ_len else 1\n",
        "        bleu = len_penalty * ((precs[0]*precs[1]*precs[2]*precs[3]) ** 0.25)\n",
        "        return add_metrics(last_metrics, bleu)"
      ],
      "execution_count": 0,
      "outputs": []
    },
    {
      "cell_type": "markdown",
      "metadata": {
        "id": "Cki3uDnIWcjE",
        "colab_type": "text"
      },
      "source": [
        "### Training with metrics"
      ]
    },
    {
      "cell_type": "code",
      "metadata": {
        "scrolled": true,
        "id": "98hccm7VWcjF",
        "colab_type": "code",
        "colab": {}
      },
      "source": [
        "learn = Learner(data, rnn, loss_func=seq2seq_loss, metrics=[seq2seq_acc, CorpusBLEU(len(data.y.vocab.itos))])"
      ],
      "execution_count": 0,
      "outputs": []
    },
    {
      "cell_type": "code",
      "metadata": {
        "scrolled": false,
        "id": "38Ndjk0aWcjH",
        "colab_type": "code",
        "outputId": "10a163ba-7586-4aff-c1cc-afa3fb6d163d",
        "colab": {
          "base_uri": "https://localhost:8080/",
          "height": 35
        }
      },
      "source": [
        "learn.lr_find()"
      ],
      "execution_count": 0,
      "outputs": [
        {
          "output_type": "display_data",
          "data": {
            "text/html": [
              ""
            ],
            "text/plain": [
              "<IPython.core.display.HTML object>"
            ]
          },
          "metadata": {
            "tags": []
          }
        },
        {
          "output_type": "stream",
          "text": [
            "LR Finder is complete, type {learner_name}.recorder.plot() to see the graph.\n"
          ],
          "name": "stdout"
        }
      ]
    },
    {
      "cell_type": "code",
      "metadata": {
        "id": "Qd9RB26hWcjI",
        "colab_type": "code",
        "outputId": "435d6c74-1184-422f-9e91-0df0fdcda829",
        "colab": {
          "base_uri": "https://localhost:8080/",
          "height": 284
        }
      },
      "source": [
        "learn.recorder.plot()"
      ],
      "execution_count": 0,
      "outputs": [
        {
          "output_type": "display_data",
          "data": {
            "image/png": "[encoded data removed]",
            "text/plain": [
              "<Figure size 432x288 with 1 Axes>"
            ]
          },
          "metadata": {
            "tags": []
          }
        }
      ]
    },
    {
      "cell_type": "code",
      "metadata": {
        "id": "tAMKDLfTWcjK",
        "colab_type": "code",
        "outputId": "d1f94fd8-5915-4b4a-caec-f6355b020943",
        "colab": {
          "base_uri": "https://localhost:8080/",
          "height": 205
        }
      },
      "source": [
        "learn.fit_one_cycle(4, 1e-4)"
      ],
      "execution_count": 0,
      "outputs": [
        {
          "output_type": "display_data",
          "data": {
            "text/html": [
              "<table border=\"1\" class=\"dataframe\">\n",
              "  <thead>\n",
              "    <tr style=\"text-align: left;\">\n",
              "      <th>epoch</th>\n",
              "      <th>train_loss</th>\n",
              "      <th>valid_loss</th>\n",
              "      <th>seq2seq_acc</th>\n",
              "      <th>bleu</th>\n",
              "      <th>time</th>\n",
              "    </tr>\n",
              "  </thead>\n",
              "  <tbody>\n",
              "    <tr>\n",
              "      <td>0</td>\n",
              "      <td>4.867053</td>\n",
              "      <td>5.825262</td>\n",
              "      <td>0.247242</td>\n",
              "      <td>0.167211</td>\n",
              "      <td>21:24</td>\n",
              "    </tr>\n",
              "    <tr>\n",
              "      <td>1</td>\n",
              "      <td>4.874644</td>\n",
              "      <td>5.845784</td>\n",
              "      <td>0.245721</td>\n",
              "      <td>0.166316</td>\n",
              "      <td>21:33</td>\n",
              "    </tr>\n",
              "    <tr>\n",
              "      <td>2</td>\n",
              "      <td>4.813367</td>\n",
              "      <td>5.695110</td>\n",
              "      <td>0.257717</td>\n",
              "      <td>0.174171</td>\n",
              "      <td>21:18</td>\n",
              "    </tr>\n",
              "    <tr>\n",
              "      <td>3</td>\n",
              "      <td>4.598033</td>\n",
              "      <td>5.671896</td>\n",
              "      <td>0.259412</td>\n",
              "      <td>0.175585</td>\n",
              "      <td>21:31</td>\n",
              "    </tr>\n",
              "  </tbody>\n",
              "</table>"
            ],
            "text/plain": [
              "<IPython.core.display.HTML object>"
            ]
          },
          "metadata": {
            "tags": []
          }
        },
        {
          "output_type": "stream",
          "text": [
            "/usr/local/lib/python3.6/dist-packages/ipykernel_launcher.py:6: RuntimeWarning: overflow encountered in long_scalars\n",
            "  \n"
          ],
          "name": "stderr"
        }
      ]
    },
    {
      "cell_type": "markdown",
      "metadata": {
        "id": "p2oLTV-HWcjO",
        "colab_type": "text"
      },
      "source": [
        "Let's see a few predictions."
      ]
    },
    {
      "cell_type": "code",
      "metadata": {
        "id": "zVSilTDJWcjO",
        "colab_type": "code",
        "colab": {}
      },
      "source": [
        "def get_predictions(learn, ds_type=DatasetType.Valid):\n",
        "    learn.model.eval()\n",
        "    inputs, targets, outputs = [],[],[]\n",
        "    with torch.no_grad():\n",
        "        for xb,yb in progress_bar(learn.dl(ds_type)):\n",
        "            out = learn.model(xb)\n",
        "            for x,y,z in zip(xb,yb,out):\n",
        "                inputs.append(learn.data.train_ds.x.reconstruct(x))\n",
        "                targets.append(learn.data.train_ds.y.reconstruct(y))\n",
        "                outputs.append(learn.data.train_ds.y.reconstruct(z.argmax(1)))\n",
        "    return inputs, targets, outputs"
      ],
      "execution_count": 0,
      "outputs": []
    },
    {
      "cell_type": "code",
      "metadata": {
        "id": "VlhuxAPgWcjP",
        "colab_type": "code",
        "outputId": "dde5e282-a210-4319-aa64-36985bef0c21",
        "colab": {
          "base_uri": "https://localhost:8080/",
          "height": 37
        }
      },
      "source": [
        "inputs, targets, outputs = get_predictions(learn)"
      ],
      "execution_count": 0,
      "outputs": [
        {
          "output_type": "display_data",
          "data": {
            "text/html": [
              "\n",
              "    <div>\n",
              "        <style>\n",
              "            /* Turns off some styling */\n",
              "            progress {\n",
              "                /* gets rid of default border in Firefox and Opera. */\n",
              "                border: none;\n",
              "                /* Needs to be in here for Safari polyfill so background images work as expected. */\n",
              "                background-size: auto;\n",
              "            }\n",
              "            .progress-bar-interrupted, .progress-bar-interrupted::-webkit-progress-bar {\n",
              "                background: #F44336;\n",
              "            }\n",
              "        </style>\n",
              "      <progress value='240' class='' max='240', style='width:300px; height:20px; vertical-align: middle;'></progress>\n",
              "      100.00% [240/240 01:40<00:00]\n",
              "    </div>\n",
              "    "
            ],
            "text/plain": [
              "<IPython.core.display.HTML object>"
            ]
          },
          "metadata": {
            "tags": []
          }
        }
      ]
    },
    {
      "cell_type": "code",
      "metadata": {
        "id": "JsnOAtO-WcjR",
        "colab_type": "code",
        "outputId": "79a31dd9-03ba-4fc5-d00a-b6204a24daf1",
        "colab": {
          "base_uri": "https://localhost:8080/",
          "height": 72
        }
      },
      "source": [
        "inputs[700], targets[700], outputs[700]"
      ],
      "execution_count": 0,
      "outputs": [
        {
          "output_type": "execute_result",
          "data": {
            "text/plain": [
              "(Text xxbos trump ’s simplistic , xenophobic rhetoric will also find a sympathetic audience among poles and hungarians who fear large - scale immigration .,\n",
              " Text xxbos trumps vereinfachende , xxunk rhetorik wird auch bei jenen polen und ungarn anklang finden , die sich vor umfangreicher zuwanderung fürchten .,\n",
              " Text xxbos trumps xxunk xxunk xxunk , , , , , , , , und und und und xxunk xxunk . .)"
            ]
          },
          "metadata": {
            "tags": []
          },
          "execution_count": 169
        }
      ]
    },
    {
      "cell_type": "code",
      "metadata": {
        "id": "mRsvcv_dWcjS",
        "colab_type": "code",
        "outputId": "0c534076-cfe1-40f6-baf5-afab372230e2",
        "colab": {
          "base_uri": "https://localhost:8080/",
          "height": 72
        }
      },
      "source": [
        "inputs[701], targets[701], outputs[701]"
      ],
      "execution_count": 0,
      "outputs": [
        {
          "output_type": "execute_result",
          "data": {
            "text/plain": [
              "(Text xxbos my portal to the world of artificial intelligence is a narrow one : the more than xxunk - old game of chess .,\n",
              " Text xxbos mein eigener zugang zur welt der künstlichen intelligenz ist ein eng xxunk : das über 500 jahre alte xxunk schach .,\n",
              " Text xxbos ich der der der der der der der der xxunk xxunk xxunk xxunk xxunk xxunk xxunk xxunk xxunk)"
            ]
          },
          "metadata": {
            "tags": []
          },
          "execution_count": 170
        }
      ]
    },
    {
      "cell_type": "code",
      "metadata": {
        "id": "Ofz1y4YwWcjX",
        "colab_type": "code",
        "outputId": "bb39d758-eae4-4460-b266-c7884a867180",
        "colab": {
          "base_uri": "https://localhost:8080/",
          "height": 72
        }
      },
      "source": [
        "inputs[2000], targets[2000], outputs[2000]"
      ],
      "execution_count": 0,
      "outputs": [
        {
          "output_type": "execute_result",
          "data": {
            "text/plain": [
              "(Text xxbos the transition from autocracy to democracy in the middle east is likely to be bumpy and unstable , at best .,\n",
              " Text xxbos der übergang von der autokratie zur demokratie i m nahen osten wird wahrscheinlich holprig und instabil verlaufen – bestenfalls .,\n",
              " Text xxbos der der der nahen osten osten osten osten osten osten osten osten und und und osten . .)"
            ]
          },
          "metadata": {
            "tags": []
          },
          "execution_count": 172
        }
      ]
    },
    {
      "cell_type": "code",
      "metadata": {
        "id": "nyBn3UDBWcjU",
        "colab_type": "code",
        "outputId": "7385a4a5-7123-4d9e-ef5a-2552e7584156",
        "colab": {
          "base_uri": "https://localhost:8080/",
          "height": 72
        }
      },
      "source": [
        "inputs[2513], targets[2513], outputs[2513]"
      ],
      "execution_count": 0,
      "outputs": [
        {
          "output_type": "execute_result",
          "data": {
            "text/plain": [
              "(Text xxbos but it is time to go further and begin to lobby aggressively for faster financial liberalization in the developing world .,\n",
              " Text xxbos es ist allerdings an der zeit , sich darüber hinaus mit mehr nachdruck für eine raschere finanzliberalisierung in den entwicklungsländern einzusetzen .,\n",
              " Text xxbos aber es es zeit zeit , , , , die die die die in in zu zu zu .)"
            ]
          },
          "metadata": {
            "tags": []
          },
          "execution_count": 171
        }
      ]
    },
    {
      "cell_type": "markdown",
      "metadata": {
        "id": "THIZ6c_cWcjY",
        "colab_type": "text"
      },
      "source": [
        "It's usually beginning well, but falls into repeated words at the end of the question."
      ]
    },
    {
      "cell_type": "markdown",
      "metadata": {
        "id": "9TaVAFlAWcjY",
        "colab_type": "text"
      },
      "source": [
        "## Teacher forcing"
      ]
    },
    {
      "cell_type": "markdown",
      "metadata": {
        "id": "2MXA-XAFWcjZ",
        "colab_type": "text"
      },
      "source": [
        "One way to help training is to help the decoder by feeding it the real targets instead of its predictions (if it starts with wrong words, it's very unlikely to give us the right translation). We do that all the time at the beginning, then progressively reduce the amount of teacher forcing."
      ]
    },
    {
      "cell_type": "code",
      "metadata": {
        "id": "9XgzAKhNWcjb",
        "colab_type": "code",
        "colab": {}
      },
      "source": [
        "class TeacherForcing(LearnerCallback):\n",
        "    \n",
        "    def __init__(self, learn, end_epoch):\n",
        "        super().__init__(learn)\n",
        "        self.end_epoch = end_epoch\n",
        "    \n",
        "    def on_batch_begin(self, last_input, last_target, train, **kwargs):\n",
        "        if train: return {'last_input': [last_input, last_target]}\n",
        "    \n",
        "    def on_epoch_begin(self, epoch, **kwargs):\n",
        "        self.learn.model.pr_force = 1 - epoch/self.end_epoch"
      ],
      "execution_count": 0,
      "outputs": []
    },
    {
      "cell_type": "markdown",
      "metadata": {
        "id": "VorsnTWqWcjc",
        "colab_type": "text"
      },
      "source": [
        "We will add the following code to our `forward` method:\n",
        "\n",
        "```\n",
        "    if (targ is not None) and (random.random()<self.pr_force):\n",
        "        if i>=targ.shape[1]: break\n",
        "        dec_inp = targ[:,i]\n",
        "```\n",
        "Additionally, `forward` will take an additional argument of `target`."
      ]
    },
    {
      "cell_type": "code",
      "metadata": {
        "id": "gkcWidi-Wcjc",
        "colab_type": "code",
        "colab": {}
      },
      "source": [
        "class Seq2SeqRNN_tf(nn.Module):\n",
        "    def __init__(self, emb_enc, emb_dec, nh, out_sl, nl=2, bos_idx=0, pad_idx=1):\n",
        "        super().__init__()\n",
        "        self.nl,self.nh,self.out_sl = nl,nh,out_sl\n",
        "        self.bos_idx,self.pad_idx = bos_idx,pad_idx\n",
        "        self.em_sz_enc = emb_enc.embedding_dim\n",
        "        self.em_sz_dec = emb_dec.embedding_dim\n",
        "        self.voc_sz_dec = emb_dec.num_embeddings\n",
        "                 \n",
        "        self.emb_enc = emb_enc\n",
        "        self.emb_enc_drop = nn.Dropout(0.15)\n",
        "        self.gru_enc = nn.GRU(self.em_sz_enc, nh, num_layers=nl,\n",
        "                              dropout=0.25, batch_first=True)\n",
        "        self.out_enc = nn.Linear(nh, self.em_sz_dec, bias=False)\n",
        "        \n",
        "        self.emb_dec = emb_dec\n",
        "        self.gru_dec = nn.GRU(self.em_sz_dec, self.em_sz_dec, num_layers=nl,\n",
        "                              dropout=0.1, batch_first=True)\n",
        "        self.out_drop = nn.Dropout(0.35)\n",
        "        self.out = nn.Linear(self.em_sz_dec, self.voc_sz_dec)\n",
        "        self.out.weight.data = self.emb_dec.weight.data\n",
        "        self.pr_force = 0.\n",
        "        \n",
        "    def encoder(self, bs, inp):\n",
        "        h = self.initHidden(bs)\n",
        "        emb = self.emb_enc_drop(self.emb_enc(inp))\n",
        "        _, h = self.gru_enc(emb, h)\n",
        "        h = self.out_enc(h)\n",
        "        return h\n",
        "    \n",
        "    def decoder(self, dec_inp, h):\n",
        "        emb = self.emb_dec(dec_inp).unsqueeze(1)\n",
        "        outp, h = self.gru_dec(emb, h)\n",
        "        outp = self.out(self.out_drop(outp[:,0]))\n",
        "        return h, outp\n",
        "            \n",
        "    def forward(self, inp, targ=None):\n",
        "        bs, sl = inp.size()\n",
        "        h = self.encoder(bs, inp)\n",
        "        dec_inp = inp.new_zeros(bs).long() + self.bos_idx\n",
        "        \n",
        "        res = []\n",
        "        for i in range(self.out_sl):\n",
        "            h, outp = self.decoder(dec_inp, h)\n",
        "            res.append(outp)\n",
        "            dec_inp = outp.max(1)[1]\n",
        "            if (dec_inp==self.pad_idx).all(): break\n",
        "            if (targ is not None) and (random.random()<self.pr_force):\n",
        "                if i>=targ.shape[1]: continue\n",
        "                dec_inp = targ[:,i]\n",
        "        return torch.stack(res, dim=1)\n",
        "\n",
        "    def initHidden(self, bs): return one_param(self).new_zeros(self.nl, bs, self.nh)"
      ],
      "execution_count": 0,
      "outputs": []
    },
    {
      "cell_type": "code",
      "metadata": {
        "id": "Pl20xfJcWcjd",
        "colab_type": "code",
        "colab": {}
      },
      "source": [
        "emb_enc = torch.load(path_translation + 'en_emb_137k_25l.pth')\n",
        "emb_dec = torch.load(path_translation + 'de_emb_137k_25l.pth')"
      ],
      "execution_count": 0,
      "outputs": []
    },
    {
      "cell_type": "code",
      "metadata": {
        "id": "ImjiE2XRBrgQ",
        "colab_type": "code",
        "colab": {}
      },
      "source": [
        "data = load_data(path_translation_data, \"db1_137k_25sl\")"
      ],
      "execution_count": 0,
      "outputs": []
    },
    {
      "cell_type": "code",
      "metadata": {
        "id": "sO4RW6-QWcjf",
        "colab_type": "code",
        "colab": {}
      },
      "source": [
        "rnn_tf = Seq2SeqRNN_tf(emb_enc, emb_dec, 256, 30)\n",
        "\n",
        "learn_tf = Learner(data, rnn_tf, loss_func=seq2seq_loss, metrics=[seq2seq_acc, CorpusBLEU(len(data.y.vocab.itos))],\n",
        "               callback_fns=partial(TeacherForcing, end_epoch=3))"
      ],
      "execution_count": 0,
      "outputs": []
    },
    {
      "cell_type": "code",
      "metadata": {
        "scrolled": true,
        "id": "T97IsSmhWcjh",
        "colab_type": "code",
        "outputId": "45092480-fff0-4c13-d17d-f0185d96285d",
        "colab": {
          "base_uri": "https://localhost:8080/",
          "height": 35
        }
      },
      "source": [
        "learn_tf.lr_find()"
      ],
      "execution_count": 0,
      "outputs": [
        {
          "output_type": "display_data",
          "data": {
            "text/html": [
              ""
            ],
            "text/plain": [
              "<IPython.core.display.HTML object>"
            ]
          },
          "metadata": {
            "tags": []
          }
        },
        {
          "output_type": "stream",
          "text": [
            "LR Finder is complete, type {learner_name}.recorder.plot() to see the graph.\n"
          ],
          "name": "stdout"
        }
      ]
    },
    {
      "cell_type": "code",
      "metadata": {
        "id": "izFZmmcUWcjj",
        "colab_type": "code",
        "outputId": "9aef0be8-1755-460f-bcf5-d34db331bdca",
        "colab": {
          "base_uri": "https://localhost:8080/",
          "height": 283
        }
      },
      "source": [
        "learn_tf.recorder.plot()"
      ],
      "execution_count": 0,
      "outputs": [
        {
          "output_type": "display_data",
          "data": {
            "image/png": "[encoded data removed]",
            "text/plain": [
              "<Figure size 432x288 with 1 Axes>"
            ]
          },
          "metadata": {
            "tags": []
          }
        }
      ]
    },
    {
      "cell_type": "markdown",
      "metadata": {
        "id": "igc2952b9hT_",
        "colab_type": "text"
      },
      "source": [
        "I'm trying out a few different learning rates here. The loss/learning rate curve is not easily interpretable, so we need to experiment a bit."
      ]
    },
    {
      "cell_type": "code",
      "metadata": {
        "id": "vvA8SAReYID5",
        "colab_type": "code",
        "outputId": "7fb65112-ac7c-4470-b517-8452e150fe0a",
        "colab": {
          "base_uri": "https://localhost:8080/",
          "height": 175
        }
      },
      "source": [
        "learn_tf.fit_one_cycle(3, 1e-4)"
      ],
      "execution_count": 0,
      "outputs": [
        {
          "output_type": "display_data",
          "data": {
            "text/html": [
              "<table border=\"1\" class=\"dataframe\">\n",
              "  <thead>\n",
              "    <tr style=\"text-align: left;\">\n",
              "      <th>epoch</th>\n",
              "      <th>train_loss</th>\n",
              "      <th>valid_loss</th>\n",
              "      <th>seq2seq_acc</th>\n",
              "      <th>bleu</th>\n",
              "      <th>time</th>\n",
              "    </tr>\n",
              "  </thead>\n",
              "  <tbody>\n",
              "    <tr>\n",
              "      <td>0</td>\n",
              "      <td>5.243083</td>\n",
              "      <td>4.877440</td>\n",
              "      <td>0.413164</td>\n",
              "      <td>0.181102</td>\n",
              "      <td>30:06</td>\n",
              "    </tr>\n",
              "    <tr>\n",
              "      <td>1</td>\n",
              "      <td>4.608022</td>\n",
              "      <td>5.998855</td>\n",
              "      <td>0.248835</td>\n",
              "      <td>0.171576</td>\n",
              "      <td>24:17</td>\n",
              "    </tr>\n",
              "    <tr>\n",
              "      <td>2</td>\n",
              "      <td>5.079815</td>\n",
              "      <td>6.600609</td>\n",
              "      <td>0.206655</td>\n",
              "      <td>0.153055</td>\n",
              "      <td>21:30</td>\n",
              "    </tr>\n",
              "  </tbody>\n",
              "</table>"
            ],
            "text/plain": [
              "<IPython.core.display.HTML object>"
            ]
          },
          "metadata": {
            "tags": []
          }
        },
        {
          "output_type": "stream",
          "text": [
            "/usr/local/lib/python3.6/dist-packages/ipykernel_launcher.py:6: RuntimeWarning: overflow encountered in long_scalars\n",
            "  \n"
          ],
          "name": "stderr"
        }
      ]
    },
    {
      "cell_type": "code",
      "metadata": {
        "id": "hsWJM9-KCVTv",
        "colab_type": "code",
        "outputId": "d7f87d06-1069-4a18-8f50-df6bcfbefb41",
        "colab": {
          "base_uri": "https://localhost:8080/",
          "height": 205
        }
      },
      "source": [
        "learn_tf.fit_one_cycle(4, 5e-4)"
      ],
      "execution_count": 0,
      "outputs": [
        {
          "output_type": "display_data",
          "data": {
            "text/html": [
              "<table border=\"1\" class=\"dataframe\">\n",
              "  <thead>\n",
              "    <tr style=\"text-align: left;\">\n",
              "      <th>epoch</th>\n",
              "      <th>train_loss</th>\n",
              "      <th>valid_loss</th>\n",
              "      <th>seq2seq_acc</th>\n",
              "      <th>bleu</th>\n",
              "      <th>time</th>\n",
              "    </tr>\n",
              "  </thead>\n",
              "  <tbody>\n",
              "    <tr>\n",
              "      <td>0</td>\n",
              "      <td>4.086277</td>\n",
              "      <td>6.145834</td>\n",
              "      <td>0.334220</td>\n",
              "      <td>0.215677</td>\n",
              "      <td>28:27</td>\n",
              "    </tr>\n",
              "    <tr>\n",
              "      <td>1</td>\n",
              "      <td>3.992745</td>\n",
              "      <td>5.950576</td>\n",
              "      <td>0.263096</td>\n",
              "      <td>0.201561</td>\n",
              "      <td>23:12</td>\n",
              "    </tr>\n",
              "    <tr>\n",
              "      <td>2</td>\n",
              "      <td>4.293686</td>\n",
              "      <td>6.328215</td>\n",
              "      <td>0.222104</td>\n",
              "      <td>0.174188</td>\n",
              "      <td>22:17</td>\n",
              "    </tr>\n",
              "    <tr>\n",
              "      <td>3</td>\n",
              "      <td>5.323520</td>\n",
              "      <td>6.390608</td>\n",
              "      <td>0.216423</td>\n",
              "      <td>0.152178</td>\n",
              "      <td>20:43</td>\n",
              "    </tr>\n",
              "  </tbody>\n",
              "</table>"
            ],
            "text/plain": [
              "<IPython.core.display.HTML object>"
            ]
          },
          "metadata": {
            "tags": []
          }
        },
        {
          "output_type": "stream",
          "text": [
            "/usr/local/lib/python3.6/dist-packages/ipykernel_launcher.py:6: RuntimeWarning: overflow encountered in long_scalars\n",
            "  \n"
          ],
          "name": "stderr"
        }
      ]
    },
    {
      "cell_type": "code",
      "metadata": {
        "id": "-1nEzgUl6HrZ",
        "colab_type": "code",
        "outputId": "8b946483-80f9-4e31-a944-63e2e522a8de",
        "colab": {
          "base_uri": "https://localhost:8080/",
          "height": 205
        }
      },
      "source": [
        "learn_tf.fit_one_cycle(4, 8e-4)"
      ],
      "execution_count": 0,
      "outputs": [
        {
          "output_type": "display_data",
          "data": {
            "text/html": [
              "<table border=\"1\" class=\"dataframe\">\n",
              "  <thead>\n",
              "    <tr style=\"text-align: left;\">\n",
              "      <th>epoch</th>\n",
              "      <th>train_loss</th>\n",
              "      <th>valid_loss</th>\n",
              "      <th>seq2seq_acc</th>\n",
              "      <th>bleu</th>\n",
              "      <th>time</th>\n",
              "    </tr>\n",
              "  </thead>\n",
              "  <tbody>\n",
              "    <tr>\n",
              "      <td>0</td>\n",
              "      <td>3.704269</td>\n",
              "      <td>5.146167</td>\n",
              "      <td>0.352601</td>\n",
              "      <td>0.134110</td>\n",
              "      <td>24:37</td>\n",
              "    </tr>\n",
              "    <tr>\n",
              "      <td>1</td>\n",
              "      <td>3.517701</td>\n",
              "      <td>6.070536</td>\n",
              "      <td>0.261921</td>\n",
              "      <td>0.219345</td>\n",
              "      <td>23:59</td>\n",
              "    </tr>\n",
              "    <tr>\n",
              "      <td>2</td>\n",
              "      <td>4.184779</td>\n",
              "      <td>6.034648</td>\n",
              "      <td>0.242406</td>\n",
              "      <td>0.187292</td>\n",
              "      <td>23:15</td>\n",
              "    </tr>\n",
              "    <tr>\n",
              "      <td>3</td>\n",
              "      <td>4.939337</td>\n",
              "      <td>6.043734</td>\n",
              "      <td>0.240516</td>\n",
              "      <td>0.165269</td>\n",
              "      <td>21:56</td>\n",
              "    </tr>\n",
              "  </tbody>\n",
              "</table>"
            ],
            "text/plain": [
              "<IPython.core.display.HTML object>"
            ]
          },
          "metadata": {
            "tags": []
          }
        },
        {
          "output_type": "stream",
          "text": [
            "/usr/local/lib/python3.6/dist-packages/ipykernel_launcher.py:6: RuntimeWarning: overflow encountered in long_scalars\n",
            "  \n"
          ],
          "name": "stderr"
        }
      ]
    },
    {
      "cell_type": "code",
      "metadata": {
        "scrolled": true,
        "id": "xQx4xaASWcjk",
        "colab_type": "code",
        "outputId": "992c65ed-5c4e-4f56-cdfa-c3c09802328c",
        "colab": {
          "base_uri": "https://localhost:8080/",
          "height": 205
        }
      },
      "source": [
        "hlearn_tf.fit_one_cycle(4, 1e-3)"
      ],
      "execution_count": 0,
      "outputs": [
        {
          "output_type": "display_data",
          "data": {
            "text/html": [
              "<table border=\"1\" class=\"dataframe\">\n",
              "  <thead>\n",
              "    <tr style=\"text-align: left;\">\n",
              "      <th>epoch</th>\n",
              "      <th>train_loss</th>\n",
              "      <th>valid_loss</th>\n",
              "      <th>seq2seq_acc</th>\n",
              "      <th>bleu</th>\n",
              "      <th>time</th>\n",
              "    </tr>\n",
              "  </thead>\n",
              "  <tbody>\n",
              "    <tr>\n",
              "      <td>0</td>\n",
              "      <td>3.708332</td>\n",
              "      <td>6.911163</td>\n",
              "      <td>0.273896</td>\n",
              "      <td>0.218682</td>\n",
              "      <td>27:21</td>\n",
              "    </tr>\n",
              "    <tr>\n",
              "      <td>1</td>\n",
              "      <td>3.606237</td>\n",
              "      <td>5.657241</td>\n",
              "      <td>0.284641</td>\n",
              "      <td>0.214021</td>\n",
              "      <td>23:38</td>\n",
              "    </tr>\n",
              "    <tr>\n",
              "      <td>2</td>\n",
              "      <td>3.905083</td>\n",
              "      <td>5.947309</td>\n",
              "      <td>0.248738</td>\n",
              "      <td>0.192882</td>\n",
              "      <td>23:03</td>\n",
              "    </tr>\n",
              "    <tr>\n",
              "      <td>3</td>\n",
              "      <td>4.866989</td>\n",
              "      <td>6.014758</td>\n",
              "      <td>0.242266</td>\n",
              "      <td>0.165167</td>\n",
              "      <td>20:45</td>\n",
              "    </tr>\n",
              "  </tbody>\n",
              "</table>"
            ],
            "text/plain": [
              "<IPython.core.display.HTML object>"
            ]
          },
          "metadata": {
            "tags": []
          }
        },
        {
          "output_type": "stream",
          "text": [
            "/usr/local/lib/python3.6/dist-packages/ipykernel_launcher.py:6: RuntimeWarning: overflow encountered in long_scalars\n",
            "  \n"
          ],
          "name": "stderr"
        }
      ]
    },
    {
      "cell_type": "markdown",
      "metadata": {
        "id": "LlJjlksA-C8E",
        "colab_type": "text"
      },
      "source": [
        "With Teacher's Forcing we can improve our Bleu scores to ~0.21. Our outputs with TF (below) are bit better but still far from acceptable. "
      ]
    },
    {
      "cell_type": "code",
      "metadata": {
        "id": "dvnWG_lQWcjm",
        "colab_type": "code",
        "outputId": "0882e009-3373-4922-c97e-66268993bea9",
        "colab": {
          "base_uri": "https://localhost:8080/",
          "height": 37
        }
      },
      "source": [
        "inputs, targets, outputs = get_predictions(learn_tf)"
      ],
      "execution_count": 0,
      "outputs": [
        {
          "output_type": "display_data",
          "data": {
            "text/html": [
              "\n",
              "    <div>\n",
              "        <style>\n",
              "            /* Turns off some styling */\n",
              "            progress {\n",
              "                /* gets rid of default border in Firefox and Opera. */\n",
              "                border: none;\n",
              "                /* Needs to be in here for Safari polyfill so background images work as expected. */\n",
              "                background-size: auto;\n",
              "            }\n",
              "            .progress-bar-interrupted, .progress-bar-interrupted::-webkit-progress-bar {\n",
              "                background: #F44336;\n",
              "            }\n",
              "        </style>\n",
              "      <progress value='240' class='' max='240', style='width:300px; height:20px; vertical-align: middle;'></progress>\n",
              "      100.00% [240/240 01:37<00:00]\n",
              "    </div>\n",
              "    "
            ],
            "text/plain": [
              "<IPython.core.display.HTML object>"
            ]
          },
          "metadata": {
            "tags": []
          }
        }
      ]
    },
    {
      "cell_type": "code",
      "metadata": {
        "id": "zx36ds1EWcjp",
        "colab_type": "code",
        "outputId": "bb16e6ce-11d1-4e03-d399-8f815f4ac74f",
        "colab": {
          "base_uri": "https://localhost:8080/",
          "height": 72
        }
      },
      "source": [
        "inputs[700],targets[700],outputs[700]"
      ],
      "execution_count": 0,
      "outputs": [
        {
          "output_type": "execute_result",
          "data": {
            "text/plain": [
              "(Text xxbos trump ’s simplistic , xenophobic rhetoric will also find a sympathetic audience among poles and hungarians who fear large - scale immigration .,\n",
              " Text xxbos trumps vereinfachende , xxunk rhetorik wird auch bei jenen polen und ungarn anklang finden , die sich vor umfangreicher zuwanderung fürchten .,\n",
              " Text xxbos trumps xxunk xxunk xxunk , , , xxunk xxunk und , , , , und und xxunk xxunk .)"
            ]
          },
          "metadata": {
            "tags": []
          },
          "execution_count": 183
        }
      ]
    },
    {
      "cell_type": "code",
      "metadata": {
        "id": "x-VgtZhS3-KW",
        "colab_type": "code",
        "outputId": "1ca92ba8-d690-42b5-a563-e5225cd976fc",
        "colab": {
          "base_uri": "https://localhost:8080/",
          "height": 72
        }
      },
      "source": [
        "inputs[701],targets[701],outputs[701]"
      ],
      "execution_count": 0,
      "outputs": [
        {
          "output_type": "execute_result",
          "data": {
            "text/plain": [
              "(Text xxbos my portal to the world of artificial intelligence is a narrow one : the more than xxunk - old game of chess .,\n",
              " Text xxbos mein eigener zugang zur welt der künstlichen intelligenz ist ein eng xxunk : das über 500 jahre alte xxunk schach .,\n",
              " Text xxbos meine xxunk der der der der ist ist ein , , , , xxunk xxunk xxunk xxunk .)"
            ]
          },
          "metadata": {
            "tags": []
          },
          "execution_count": 184
        }
      ]
    },
    {
      "cell_type": "code",
      "metadata": {
        "id": "9B0XVuPmWcjt",
        "colab_type": "code",
        "outputId": "b3673e2a-a371-481d-e446-065d4d438fd0",
        "colab": {
          "base_uri": "https://localhost:8080/",
          "height": 72
        }
      },
      "source": [
        "inputs[2000], targets[2000], outputs[2000]"
      ],
      "execution_count": 0,
      "outputs": [
        {
          "output_type": "execute_result",
          "data": {
            "text/plain": [
              "(Text xxbos the transition from autocracy to democracy in the middle east is likely to be bumpy and unstable , at best .,\n",
              " Text xxbos der übergang von der autokratie zur demokratie i m nahen osten wird wahrscheinlich holprig und instabil verlaufen – bestenfalls .,\n",
              " Text xxbos der kampf der der in in in osten in osten ist und und und und und .)"
            ]
          },
          "metadata": {
            "tags": []
          },
          "execution_count": 186
        }
      ]
    },
    {
      "cell_type": "code",
      "metadata": {
        "id": "F13s-oMmWcjq",
        "colab_type": "code",
        "outputId": "ea467c8f-a056-488c-ad3d-28a54b6af5d7",
        "colab": {
          "base_uri": "https://localhost:8080/",
          "height": 72
        }
      },
      "source": [
        "inputs[2513], targets[2513], outputs[2513]"
      ],
      "execution_count": 0,
      "outputs": [
        {
          "output_type": "execute_result",
          "data": {
            "text/plain": [
              "(Text xxbos but it is time to go further and begin to lobby aggressively for faster financial liberalization in the developing world .,\n",
              " Text xxbos es ist allerdings an der zeit , sich darüber hinaus mit mehr nachdruck für eine raschere finanzliberalisierung in den entwicklungsländern einzusetzen .,\n",
              " Text xxbos es ist es zeit zeit , , , und , die die die die die die der zu)"
            ]
          },
          "metadata": {
            "tags": []
          },
          "execution_count": 185
        }
      ]
    }
  ]
}